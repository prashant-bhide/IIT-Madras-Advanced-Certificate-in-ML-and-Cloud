{
 "cells": [
  {
   "cell_type": "markdown",
   "metadata": {},
   "source": [
    "#### Setting the environment variables"
   ]
  },
  {
   "cell_type": "code",
   "execution_count": 1,
   "metadata": {},
   "outputs": [
    {
     "name": "stdout",
     "output_type": "stream",
     "text": [
      "Running on Linux\n"
     ]
    }
   ],
   "source": [
    "import os, sys, warnings, platform\n",
    "\n",
    "osname = platform.system()\n",
    "print('Running on', osname)\n",
    "\n",
    "if (osname == 'Windows'):\n",
    "    # Definitions for Windows 10 instance\n",
    "    os.environ[\"PYSPARK_PYTHON\"] = \"D:/Anaconda3/python\"\n",
    "    os.environ[\"PYSPARK_DRIVER_PYTHON\"]=\"D:/Anaconda3/python\"\n",
    "    os.environ[\"PYSPARK_DRIVER_PYTHON_OPTS\"]=\"notebook --no-browser\"\n",
    "    os.environ[\"JAVA_HOME\"] = \"C:/Program Files/Java/jdk1.8.0_251/jre\"\n",
    "    os.environ[\"SPARK_HOME\"] = \"D:/spark-2.4.4-bin-hadoop2.7\"\n",
    "    os.environ[\"HADOOP_HOME\"] = \"D:/spark-2.4.4-bin-hadoop2.7\"\n",
    "    os.environ[\"PYLIB\"] = os.environ[\"SPARK_HOME\"] + \"/python/lib\"\n",
    "    sys.path.insert(0, os.environ[\"PYLIB\"] +\"/py4j-0.10.7-src.zip\")\n",
    "    sys.path.insert(0, os.environ[\"PYLIB\"] +\"/pyspark.zip\")\n",
    "else:\n",
    "    # Definitions for EC2 Linux instance\n",
    "    os.environ[\"PYSPARK_PYTHON\"]=\"/usr/bin/python3\"\n",
    "    os.environ[\"PYSPARK_DRIVER_PYTHON\"]=\"/usr/bin/python3\"\n",
    "    os.environ[\"PYSPARK_DRIVER_PYTHON_OPTS\"]=\"notebook --no-browser\"\n",
    "    os.environ[\"JAVA_HOME\"] = \"/usr/java/jdk1.8.0_161/jre\"\n",
    "    os.environ[\"SPARK_HOME\"] = \"/home/ec2-user/spark-2.4.4-bin-hadoop2.7\"\n",
    "    os.environ[\"PYLIB\"] = os.environ[\"SPARK_HOME\"] + \"/python/lib\"\n",
    "    sys.path.insert(0, os.environ[\"PYLIB\"] + \"/py4j-0.10.7-src.zip\")\n",
    "    sys.path.insert(0, os.environ[\"PYLIB\"] + \"/pyspark.zip\")"
   ]
  },
  {
   "cell_type": "markdown",
   "metadata": {},
   "source": [
    "# Ecommerce Churn Assignment"
   ]
  },
  {
   "cell_type": "markdown",
   "metadata": {},
   "source": [
    "The aim of the assignment is to build a model that predicts whether a person purchases an item after it has been added to the cart or not. Being a classification problem, you are expected to use your understanding of all the three models covered till now. You must select the most robust model and provide a solution that predicts the churn in the most suitable manner. \n",
    "\n",
    "For this assignment, you are provided the data associated with an e-commerce company for the month of October 2019. Your task is to first analyse the data, and then perform multiple steps towards the model building process.\n",
    "\n",
    "The broad tasks are:\n",
    "- Data Exploration\n",
    "- Feature Engineering\n",
    "- Model Selection\n",
    "- Model Inference"
   ]
  },
  {
   "cell_type": "markdown",
   "metadata": {},
   "source": [
    "### Data description"
   ]
  },
  {
   "cell_type": "markdown",
   "metadata": {},
   "source": [
    "The dataset stores the information of a customer session on the e-commerce platform. It records the activity and the associated parameters with it.\n",
    "\n",
    "- **event_time**: Date and time when user accesses the platform\n",
    "- **event_type**: Action performed by the customer\n",
    "            - View\n",
    "            - Cart\n",
    "            - Purchase\n",
    "            - Remove from cart\n",
    "- **product_id**: Unique number to identify the product in the event\n",
    "- **category_id**: Unique number to identify the category of the product\n",
    "- **category_code**: Stores primary and secondary categories of the product\n",
    "- **brand**: Brand associated with the product\n",
    "- **price**: Price of the product\n",
    "- **user_id**: Unique ID for a customer\n",
    "- **user_session**: Session ID for a user\n"
   ]
  },
  {
   "cell_type": "markdown",
   "metadata": {},
   "source": [
    "### Initialising the SparkSession"
   ]
  },
  {
   "cell_type": "markdown",
   "metadata": {},
   "source": [
    "The dataset provided is 5 GBs in size. Therefore, it is expected that you increase the driver memory to a greater number. You can refer to notebook 1 for the steps involved here."
   ]
  },
  {
   "cell_type": "code",
   "execution_count": 2,
   "metadata": {},
   "outputs": [],
   "source": [
    "# Spark environment imports\n",
    "\n",
    "from pyspark import SparkConf\n",
    "from pyspark.sql import SparkSession\n",
    "from pyspark.sql import functions as F"
   ]
  },
  {
   "cell_type": "code",
   "execution_count": 3,
   "metadata": {},
   "outputs": [
    {
     "data": {
      "text/html": [
       "\n",
       "            <div>\n",
       "                <p><b>SparkSession - in-memory</b></p>\n",
       "                \n",
       "        <div>\n",
       "            <p><b>SparkContext</b></p>\n",
       "\n",
       "            <p><a href=\"http://ip-172-31-67-244.ec2.internal:4042\">Spark UI</a></p>\n",
       "\n",
       "            <dl>\n",
       "              <dt>Version</dt>\n",
       "                <dd><code>v2.4.4</code></dd>\n",
       "              <dt>Master</dt>\n",
       "                <dd><code>local[*]</code></dd>\n",
       "              <dt>AppName</dt>\n",
       "                <dd><code>Notebook_2</code></dd>\n",
       "            </dl>\n",
       "        </div>\n",
       "        \n",
       "            </div>\n",
       "        "
      ],
      "text/plain": [
       "<pyspark.sql.session.SparkSession at 0x7fc4080f8f10>"
      ]
     },
     "execution_count": 3,
     "metadata": {},
     "output_type": "execute_result"
    }
   ],
   "source": [
    "# initialising the session with 14 GB driver memory\n",
    "\n",
    "MAX_MEMORY = \"14G\"\n",
    "spark = SparkSession \\\n",
    "    .builder \\\n",
    "    .appName(\"Notebook_2\") \\\n",
    "    .config(\"spark.driver.memory\", MAX_MEMORY) \\\n",
    "    .getOrCreate()\n",
    "spark"
   ]
  },
  {
   "cell_type": "code",
   "execution_count": 4,
   "metadata": {},
   "outputs": [
    {
     "data": {
      "text/plain": [
       "'14G'"
      ]
     },
     "execution_count": 4,
     "metadata": {},
     "output_type": "execute_result"
    }
   ],
   "source": [
    "# Spark session with 14 GB driver memory\n",
    "\n",
    "spark.sparkContext.getConf().get('spark.driver.memory')"
   ]
  },
  {
   "cell_type": "code",
   "execution_count": 5,
   "metadata": {},
   "outputs": [],
   "source": [
    "import numpy as np\n",
    "import pandas as pd\n",
    "import matplotlib.pyplot as plt\n",
    "\n",
    "warnings.filterwarnings('ignore')\n",
    "pd.set_option('float_format', '{:.4f}'.format)\n",
    "pd.options.display.max_colwidth = 100\n",
    "%matplotlib inline\n",
    "plt.rcParams['font.size'] = '14'"
   ]
  },
  {
   "cell_type": "code",
   "execution_count": 6,
   "metadata": {},
   "outputs": [
    {
     "name": "stdout",
     "output_type": "stream",
     "text": [
      "cleaned_df row count = 1033889\n",
      "root\n",
      " |-- product_id: integer (nullable = true)\n",
      " |-- brand: string (nullable = true)\n",
      " |-- price: double (nullable = true)\n",
      " |-- day_of_week: string (nullable = true)\n",
      " |-- category: string (nullable = true)\n",
      " |-- sub_category: string (nullable = true)\n",
      " |-- user_session_activity_count: long (nullable = true)\n",
      " |-- product_count_for_user: long (nullable = true)\n",
      " |-- sub_category_count_for_user: long (nullable = true)\n",
      " |-- avg_expense_for_sub_category: double (nullable = true)\n",
      " |-- user_sessions_count: long (nullable = true)\n",
      " |-- day_quadrant: string (nullable = true)\n",
      " |-- is_purchased: integer (nullable = true)\n",
      "\n",
      "CPU times: user 2.83 ms, sys: 1.67 ms, total: 4.5 ms\n",
      "Wall time: 3.46 s\n"
     ]
    }
   ],
   "source": [
    "%%time\n",
    "# Loading the clean data\n",
    "\n",
    "df = spark.read.parquet('task2_cleaned_df.parquet')\n",
    "print('cleaned_df row count =', df.count())\n",
    "df.printSchema()"
   ]
  },
  {
   "cell_type": "markdown",
   "metadata": {},
   "source": [
    "<hr>"
   ]
  },
  {
   "cell_type": "markdown",
   "metadata": {},
   "source": [
    "## Task 3: Model Selection\n",
    "3 models for classification:\t\n",
    "- Logistic Regression\n",
    "- Decision Tree\n",
    "- Random Forest"
   ]
  },
  {
   "cell_type": "markdown",
   "metadata": {},
   "source": [
    "### Model 1: Logistic Regression"
   ]
  },
  {
   "cell_type": "code",
   "execution_count": 7,
   "metadata": {},
   "outputs": [],
   "source": [
    "# Additional steps for Logistic regression - Feature selection, Correlation, etc.\n",
    "\n",
    "from pyspark.ml.feature import OneHotEncoderEstimator, StringIndexer, VectorAssembler\n",
    "from pyspark.ml.classification import LogisticRegression\n",
    "from pyspark.ml import Pipeline"
   ]
  },
  {
   "cell_type": "markdown",
   "metadata": {},
   "source": [
    "#### Feature Transformation"
   ]
  },
  {
   "cell_type": "code",
   "execution_count": 8,
   "metadata": {},
   "outputs": [],
   "source": [
    "# Check if only the required columns are present to build the model\n",
    "# If not, drop the redundant columns"
   ]
  },
  {
   "cell_type": "code",
   "execution_count": 9,
   "metadata": {},
   "outputs": [],
   "source": [
    "# Categorising the attributes into its type - Continuous and Categorical\n",
    "\n",
    "continuous_features = ['price', 'user_session_activity_count', 'product_count_for_user',\n",
    "                       'sub_category_count_for_user', 'avg_expense_for_sub_category', 'user_sessions_count']\n",
    "\n",
    "categorical_features = ['day_of_week', 'day_quadrant', 'category', 'sub_category', 'brand', 'product_id']"
   ]
  },
  {
   "cell_type": "code",
   "execution_count": 10,
   "metadata": {},
   "outputs": [
    {
     "name": "stdout",
     "output_type": "stream",
     "text": [
      "+-----------+------------+--------+------------+-----+----------+\n",
      "|day_of_week|day_quadrant|category|sub_category|brand|product_id|\n",
      "+-----------+------------+--------+------------+-----+----------+\n",
      "|          7|           4|      14|          57|   21|     44157|\n",
      "+-----------+------------+--------+------------+-----+----------+\n",
      "\n",
      "CPU times: user 7.49 ms, sys: 3.99 ms, total: 11.5 ms\n",
      "Wall time: 2.75 s\n"
     ]
    }
   ],
   "source": [
    "%%time\n",
    "# Checking the number of distinct values in each categorical feature\n",
    "\n",
    "df.agg(*(F.countDistinct(F.col(c)).alias(c) for c in categorical_features)).show()"
   ]
  },
  {
   "cell_type": "code",
   "execution_count": 11,
   "metadata": {},
   "outputs": [
    {
     "name": "stdout",
     "output_type": "stream",
     "text": [
      "Final categorical_features are: ['day_of_week', 'day_quadrant', 'category', 'sub_category', 'brand']\n"
     ]
    }
   ],
   "source": [
    "# Using the distinct count analysis for categorical feature selection, we will drop 'product_id' column from model building\n",
    "\n",
    "df = df.drop('product_id')\n",
    "categorical_features.remove('product_id')\n",
    "print('Final categorical_features are:', categorical_features)"
   ]
  },
  {
   "cell_type": "code",
   "execution_count": 12,
   "metadata": {},
   "outputs": [],
   "source": [
    "# Initialising the variable 'stages' to store every step for building a pipeline\n",
    "\n",
    "stages = []"
   ]
  },
  {
   "cell_type": "code",
   "execution_count": 13,
   "metadata": {},
   "outputs": [
    {
     "name": "stdout",
     "output_type": "stream",
     "text": [
      "Transforming: day_of_week\n",
      "Transforming: day_quadrant\n",
      "Transforming: category\n",
      "Transforming: sub_category\n",
      "Transforming: brand\n"
     ]
    }
   ],
   "source": [
    "# Feature transformation for categorical features\n",
    "\n",
    "for categoricalCol in categorical_features:\n",
    "    print('Transforming:', categoricalCol)\n",
    "    stringIndexer = StringIndexer(inputCol = categoricalCol, outputCol = categoricalCol + '_idx')\n",
    "    encoder = OneHotEncoderEstimator(inputCols=[stringIndexer.getOutputCol()], outputCols=[categoricalCol + '_enc'])    \n",
    "    stages += [stringIndexer, encoder]"
   ]
  },
  {
   "cell_type": "code",
   "execution_count": 14,
   "metadata": {},
   "outputs": [
    {
     "name": "stdout",
     "output_type": "stream",
     "text": [
      "Assembled features columns are: ['day_of_week_enc', 'day_quadrant_enc', 'category_enc', 'sub_category_enc', 'brand_enc', 'price', 'user_session_activity_count', 'product_count_for_user', 'sub_category_count_for_user', 'avg_expense_for_sub_category', 'user_sessions_count']\n"
     ]
    }
   ],
   "source": [
    "# Vector assembler to combine all the features\n",
    "\n",
    "assemblerInputs = [c + '_enc' for c in categorical_features] + continuous_features\n",
    "print('Assembled features columns are:', assemblerInputs)\n",
    "assembler = VectorAssembler(inputCols=assemblerInputs, outputCol='features')\n",
    "stages += [assembler]"
   ]
  },
  {
   "cell_type": "code",
   "execution_count": 15,
   "metadata": {},
   "outputs": [],
   "source": [
    "# Pipeline for the tasks\n",
    "\n",
    "pipeline = Pipeline(stages=stages)"
   ]
  },
  {
   "cell_type": "code",
   "execution_count": 16,
   "metadata": {},
   "outputs": [
    {
     "name": "stdout",
     "output_type": "stream",
     "text": [
      "CPU times: user 92.2 ms, sys: 35.1 ms, total: 127 ms\n",
      "Wall time: 4.09 s\n"
     ]
    }
   ],
   "source": [
    "%%time\n",
    "# Transforming the dataframe df\n",
    "\n",
    "pipelineModel = pipeline.fit(df)\n",
    "df = pipelineModel.transform(df)"
   ]
  },
  {
   "cell_type": "code",
   "execution_count": 17,
   "metadata": {},
   "outputs": [
    {
     "name": "stdout",
     "output_type": "stream",
     "text": [
      "root\n",
      " |-- brand: string (nullable = true)\n",
      " |-- price: double (nullable = true)\n",
      " |-- day_of_week: string (nullable = true)\n",
      " |-- category: string (nullable = true)\n",
      " |-- sub_category: string (nullable = true)\n",
      " |-- user_session_activity_count: long (nullable = true)\n",
      " |-- product_count_for_user: long (nullable = true)\n",
      " |-- sub_category_count_for_user: long (nullable = true)\n",
      " |-- avg_expense_for_sub_category: double (nullable = true)\n",
      " |-- user_sessions_count: long (nullable = true)\n",
      " |-- day_quadrant: string (nullable = true)\n",
      " |-- is_purchased: integer (nullable = true)\n",
      " |-- day_of_week_idx: double (nullable = false)\n",
      " |-- day_of_week_enc: vector (nullable = true)\n",
      " |-- day_quadrant_idx: double (nullable = false)\n",
      " |-- day_quadrant_enc: vector (nullable = true)\n",
      " |-- category_idx: double (nullable = false)\n",
      " |-- category_enc: vector (nullable = true)\n",
      " |-- sub_category_idx: double (nullable = false)\n",
      " |-- sub_category_enc: vector (nullable = true)\n",
      " |-- brand_idx: double (nullable = false)\n",
      " |-- brand_enc: vector (nullable = true)\n",
      " |-- features: vector (nullable = true)\n",
      "\n",
      "CPU times: user 0 ns, sys: 1.36 ms, total: 1.36 ms\n",
      "Wall time: 726 µs\n"
     ]
    }
   ],
   "source": [
    "%%time\n",
    "# Schema of the transformed df\n",
    "\n",
    "df.printSchema()"
   ]
  },
  {
   "cell_type": "code",
   "execution_count": 18,
   "metadata": {},
   "outputs": [
    {
     "name": "stdout",
     "output_type": "stream",
     "text": [
      "+-------+-------+-----------+------------+------------+---------------------------+----------------------+---------------------------+----------------------------+-------------------+------------+------------+---------------+---------------+----------------+----------------+------------+--------------+----------------+----------------+---------+--------------+-------------------------------------------------------------------------------------------------------------+\n",
      "|brand  |price  |day_of_week|category    |sub_category|user_session_activity_count|product_count_for_user|sub_category_count_for_user|avg_expense_for_sub_category|user_sessions_count|day_quadrant|is_purchased|day_of_week_idx|day_of_week_enc|day_quadrant_idx|day_quadrant_enc|category_idx|category_enc  |sub_category_idx|sub_category_enc|brand_idx|brand_enc     |features                                                                                                     |\n",
      "+-------+-------+-----------+------------+------------+---------------------------+----------------------+---------------------------+----------------------------+-------------------+------------+------------+---------------+---------------+----------------+----------------+------------+--------------+----------------+----------------+---------+--------------+-------------------------------------------------------------------------------------------------------------+\n",
      "|samsung|131.51 |5-Thu      |electronics |smartphone  |3                          |3                     |3                          |131.51                      |1                  |2-Afternoon |1           |3.0            |(6,[3],[1.0])  |0.0             |(3,[0],[1.0])   |0.0         |(13,[0],[1.0])|0.0             |(56,[0],[1.0])  |1.0      |(20,[1],[1.0])|(104,[3,6,9,22,79,98,99,100,101,102,103],[1.0,1.0,1.0,1.0,1.0,131.51,3.0,3.0,3.0,131.51,1.0])                |\n",
      "|apple  |460.11 |4-Wed      |electronics |smartphone  |8                          |4                     |8                          |353.42125                   |1                  |3-Evening   |1           |0.0            |(6,[0],[1.0])  |1.0             |(3,[1],[1.0])   |0.0         |(13,[0],[1.0])|0.0             |(56,[0],[1.0])  |2.0      |(20,[2],[1.0])|(104,[0,7,9,22,80,98,99,100,101,102,103],[1.0,1.0,1.0,1.0,1.0,460.11,8.0,4.0,8.0,353.42125,1.0])             |\n",
      "|samsung|287.63 |4-Wed      |electronics |smartphone  |9                          |6                     |39                         |215.765641025641            |26                 |3-Evening   |1           |0.0            |(6,[0],[1.0])  |1.0             |(3,[1],[1.0])   |0.0         |(13,[0],[1.0])|0.0             |(56,[0],[1.0])  |1.0      |(20,[1],[1.0])|(104,[0,7,9,22,79,98,99,100,101,102,103],[1.0,1.0,1.0,1.0,1.0,287.63,9.0,6.0,39.0,215.765641025641,26.0])    |\n",
      "|samsung|224.96 |5-Thu      |electronics |smartphone  |7                          |7                     |16                         |227.93125000000003          |6                  |3-Evening   |0           |3.0            |(6,[3],[1.0])  |1.0             |(3,[1],[1.0])   |0.0         |(13,[0],[1.0])|0.0             |(56,[0],[1.0])  |1.0      |(20,[1],[1.0])|(104,[3,7,9,22,79,98,99,100,101,102,103],[1.0,1.0,1.0,1.0,1.0,224.96,7.0,7.0,16.0,227.93125000000003,6.0])   |\n",
      "|apple  |295.75 |5-Thu      |electronics |clocks      |2                          |12                    |18                         |222.25555555555553          |8                  |2-Afternoon |1           |3.0            |(6,[3],[1.0])  |0.0             |(3,[0],[1.0])   |0.0         |(13,[0],[1.0])|6.0             |(56,[6],[1.0])  |2.0      |(20,[2],[1.0])|(104,[3,6,9,28,80,98,99,100,101,102,103],[1.0,1.0,1.0,1.0,1.0,295.75,2.0,12.0,18.0,222.25555555555553,8.0])  |\n",
      "|apple  |975.56 |1-Sun      |electronics |smartphone  |7                          |4                     |4                          |975.56                      |1                  |2-Afternoon |0           |4.0            |(6,[4],[1.0])  |0.0             |(3,[0],[1.0])   |0.0         |(13,[0],[1.0])|0.0             |(56,[0],[1.0])  |2.0      |(20,[2],[1.0])|(104,[4,6,9,22,80,98,99,100,101,102,103],[1.0,1.0,1.0,1.0,1.0,975.56,7.0,4.0,4.0,975.56,1.0])                |\n",
      "|others |55.86  |6-Fri      |unknown     |unknown     |2                          |2                     |112                        |157.77562499999993          |104                |3-Evening   |1           |2.0            |(6,[2],[1.0])  |1.0             |(3,[1],[1.0])   |1.0         |(13,[1],[1.0])|1.0             |(56,[1],[1.0])  |0.0      |(20,[0],[1.0])|(104,[2,7,10,23,78,98,99,100,101,102,103],[1.0,1.0,1.0,1.0,1.0,55.86,2.0,2.0,112.0,157.77562499999993,104.0])|\n",
      "|others |527.39 |3-Tue      |appliances  |kitchen     |2                          |2                     |2                          |527.39                      |1                  |2-Afternoon |0           |1.0            |(6,[1],[1.0])  |0.0             |(3,[0],[1.0])   |2.0         |(13,[2],[1.0])|2.0             |(56,[2],[1.0])  |0.0      |(20,[0],[1.0])|(104,[1,6,11,24,78,98,99,100,101,102,103],[1.0,1.0,1.0,1.0,1.0,527.39,2.0,2.0,2.0,527.39,1.0])               |\n",
      "|xiaomi |28.55  |7-Sat      |unknown     |unknown     |9                          |42                    |43                         |28.92953488372092           |11                 |3-Evening   |1           |5.0            |(6,[5],[1.0])  |1.0             |(3,[1],[1.0])   |1.0         |(13,[1],[1.0])|1.0             |(56,[1],[1.0])  |3.0      |(20,[3],[1.0])|(104,[5,7,10,23,81,98,99,100,101,102,103],[1.0,1.0,1.0,1.0,1.0,28.55,9.0,42.0,43.0,28.92953488372092,11.0])  |\n",
      "|apple  |190.2  |3-Tue      |electronics |audio       |5                          |4                     |22                         |86.5059090909091            |13                 |2-Afternoon |1           |1.0            |(6,[1],[1.0])  |0.0             |(3,[0],[1.0])   |0.0         |(13,[0],[1.0])|3.0             |(56,[3],[1.0])  |2.0      |(20,[2],[1.0])|(104,[1,6,9,25,80,98,99,100,101,102,103],[1.0,1.0,1.0,1.0,1.0,190.2,5.0,4.0,22.0,86.5059090909091,13.0])     |\n",
      "|apple  |160.61 |5-Thu      |electronics |audio       |8                          |11                    |11                         |160.61000000000004          |6                  |1-Morning   |1           |3.0            |(6,[3],[1.0])  |2.0             |(3,[2],[1.0])   |0.0         |(13,[0],[1.0])|3.0             |(56,[3],[1.0])  |2.0      |(20,[2],[1.0])|(104,[3,8,9,25,80,98,99,100,101,102,103],[1.0,1.0,1.0,1.0,1.0,160.61,8.0,11.0,11.0,160.61000000000004,6.0])  |\n",
      "|others |53.72  |5-Thu      |electronics |telephone   |6                          |6                     |6                          |53.720000000000006          |13                 |2-Afternoon |0           |3.0            |(6,[3],[1.0])  |0.0             |(3,[0],[1.0])   |0.0         |(13,[0],[1.0])|13.0            |(56,[13],[1.0]) |0.0      |(20,[0],[1.0])|(104,[3,6,9,35,78,98,99,100,101,102,103],[1.0,1.0,1.0,1.0,1.0,53.72,6.0,6.0,6.0,53.720000000000006,13.0])    |\n",
      "|samsung|369.2  |5-Thu      |electronics |smartphone  |5                          |9                     |40                         |278.95574999999997          |8                  |2-Afternoon |1           |3.0            |(6,[3],[1.0])  |0.0             |(3,[0],[1.0])   |0.0         |(13,[0],[1.0])|0.0             |(56,[0],[1.0])  |1.0      |(20,[1],[1.0])|(104,[3,6,9,22,79,98,99,100,101,102,103],[1.0,1.0,1.0,1.0,1.0,369.2,5.0,9.0,40.0,278.95574999999997,8.0])    |\n",
      "|others |72.05  |7-Sat      |construction|tools       |17                         |5                     |12                         |105.99000000000001          |8                  |2-Afternoon |1           |5.0            |(6,[5],[1.0])  |0.0             |(3,[0],[1.0])   |5.0         |(13,[5],[1.0])|9.0             |(56,[9],[1.0])  |0.0      |(20,[0],[1.0])|(104,[5,6,14,31,78,98,99,100,101,102,103],[1.0,1.0,1.0,1.0,1.0,72.05,17.0,5.0,12.0,105.99000000000001,8.0])  |\n",
      "|samsung|286.86 |3-Tue      |electronics |smartphone  |2                          |2                     |6                          |165.87                      |2                  |2-Afternoon |1           |1.0            |(6,[1],[1.0])  |0.0             |(3,[0],[1.0])   |0.0         |(13,[0],[1.0])|0.0             |(56,[0],[1.0])  |1.0      |(20,[1],[1.0])|(104,[1,6,9,22,79,98,99,100,101,102,103],[1.0,1.0,1.0,1.0,1.0,286.86,2.0,2.0,6.0,165.87,2.0])                |\n",
      "|apple  |159.8  |3-Tue      |electronics |audio       |13                         |14                    |18                         |169.9061111111111           |2                  |3-Evening   |0           |1.0            |(6,[1],[1.0])  |1.0             |(3,[1],[1.0])   |0.0         |(13,[0],[1.0])|3.0             |(56,[3],[1.0])  |2.0      |(20,[2],[1.0])|(104,[1,7,9,25,80,98,99,100,101,102,103],[1.0,1.0,1.0,1.0,1.0,159.8,13.0,14.0,18.0,169.9061111111111,2.0])   |\n",
      "|apple  |1415.48|4-Wed      |electronics |smartphone  |7                          |3                     |8                          |1207.655                    |3                  |1-Morning   |0           |0.0            |(6,[0],[1.0])  |2.0             |(3,[2],[1.0])   |0.0         |(13,[0],[1.0])|0.0             |(56,[0],[1.0])  |2.0      |(20,[2],[1.0])|(104,[0,8,9,22,80,98,99,100,101,102,103],[1.0,1.0,1.0,1.0,1.0,1415.48,7.0,3.0,8.0,1207.655,3.0])             |\n",
      "|others |1044.4 |4-Wed      |electronics |clocks      |7                          |13                    |42                         |1032.974761904762           |3                  |3-Evening   |0           |0.0            |(6,[0],[1.0])  |1.0             |(3,[1],[1.0])   |0.0         |(13,[0],[1.0])|6.0             |(56,[6],[1.0])  |0.0      |(20,[0],[1.0])|(104,[0,7,9,28,78,98,99,100,101,102,103],[1.0,1.0,1.0,1.0,1.0,1044.4,7.0,13.0,42.0,1032.974761904762,3.0])   |\n",
      "|others |121.24 |2-Mon      |auto        |accessories |13                         |7                     |122                        |92.88385245901638           |20                 |3-Evening   |1           |6.0            |(6,[],[])      |1.0             |(3,[1],[1.0])   |4.0         |(13,[4],[1.0])|8.0             |(56,[8],[1.0])  |0.0      |(20,[0],[1.0])|(104,[7,13,30,78,98,99,100,101,102,103],[1.0,1.0,1.0,1.0,121.24,13.0,7.0,122.0,92.88385245901638,20.0])      |\n",
      "|samsung|371.67 |1-Sun      |electronics |smartphone  |5                          |11                    |109                        |477.136605504587            |45                 |2-Afternoon |1           |4.0            |(6,[4],[1.0])  |0.0             |(3,[0],[1.0])   |0.0         |(13,[0],[1.0])|0.0             |(56,[0],[1.0])  |1.0      |(20,[1],[1.0])|(104,[4,6,9,22,79,98,99,100,101,102,103],[1.0,1.0,1.0,1.0,1.0,371.67,5.0,11.0,109.0,477.136605504587,45.0])  |\n",
      "+-------+-------+-----------+------------+------------+---------------------------+----------------------+---------------------------+----------------------------+-------------------+------------+------------+---------------+---------------+----------------+----------------+------------+--------------+----------------+----------------+---------+--------------+-------------------------------------------------------------------------------------------------------------+\n",
      "only showing top 20 rows\n",
      "\n",
      "CPU times: user 1.08 ms, sys: 567 µs, total: 1.65 ms\n",
      "Wall time: 451 ms\n"
     ]
    }
   ],
   "source": [
    "%%time\n",
    "# Checking the elements of the transformed df - Top 20 rows\n",
    "\n",
    "df.show(20, truncate=False)"
   ]
  },
  {
   "cell_type": "code",
   "execution_count": 19,
   "metadata": {},
   "outputs": [
    {
     "name": "stdout",
     "output_type": "stream",
     "text": [
      "CPU times: user 3.42 ms, sys: 1.79 ms, total: 5.21 ms\n",
      "Wall time: 19.7 s\n"
     ]
    }
   ],
   "source": [
    "%%time\n",
    "# Storing the transformed df in S3 bucket to prevent repetition of steps again\n",
    "\n",
    "df.coalesce(1).write.mode('overwrite').option('header','true').parquet('task3_transformed_df.parquet')"
   ]
  },
  {
   "cell_type": "markdown",
   "metadata": {},
   "source": [
    "#### Train-test split"
   ]
  },
  {
   "cell_type": "code",
   "execution_count": 20,
   "metadata": {},
   "outputs": [
    {
     "name": "stdout",
     "output_type": "stream",
     "text": [
      "CPU times: user 1.01 ms, sys: 525 µs, total: 1.53 ms\n",
      "Wall time: 18.5 ms\n"
     ]
    }
   ],
   "source": [
    "%%time\n",
    "# Splitting the data into train and test (Remember you are expected to compare the model later)\n",
    "\n",
    "df_train, df_test = df.randomSplit([0.7, 0.3], seed=42)"
   ]
  },
  {
   "cell_type": "code",
   "execution_count": 21,
   "metadata": {},
   "outputs": [
    {
     "name": "stdout",
     "output_type": "stream",
     "text": [
      "Train Dataset Count: 723307 | Test Dataset Count: 310582\n",
      "CPU times: user 3.31 ms, sys: 1.72 ms, total: 5.03 ms\n",
      "Wall time: 18.7 s\n"
     ]
    }
   ],
   "source": [
    "%%time\n",
    "# Number of rows in train and test data\n",
    "\n",
    "print('Train Dataset Count:', df_train.count(), '| Test Dataset Count:', df_test.count())"
   ]
  },
  {
   "cell_type": "markdown",
   "metadata": {},
   "source": [
    "#### Model Fitting"
   ]
  },
  {
   "cell_type": "code",
   "execution_count": 22,
   "metadata": {},
   "outputs": [],
   "source": [
    "# Building the model\n",
    "\n",
    "lr = LogisticRegression(featuresCol='features', labelCol='is_purchased', maxIter=10)"
   ]
  },
  {
   "cell_type": "code",
   "execution_count": 23,
   "metadata": {},
   "outputs": [
    {
     "name": "stdout",
     "output_type": "stream",
     "text": [
      "CPU times: user 12.4 ms, sys: 6.46 ms, total: 18.9 ms\n",
      "Wall time: 16.6 s\n"
     ]
    }
   ],
   "source": [
    "%%time\n",
    "# Fitting the model on transformed df\n",
    "\n",
    "model = lr.fit(df_train)"
   ]
  },
  {
   "cell_type": "markdown",
   "metadata": {},
   "source": [
    "#### Model Analysis"
   ]
  },
  {
   "cell_type": "markdown",
   "metadata": {},
   "source": [
    "Required Steps:\n",
    "- Fit on test data\n",
    "- Performance analysis\n",
    "    - Appropriate Metric with reasoning\n",
    "    - Threshold selection"
   ]
  },
  {
   "cell_type": "code",
   "execution_count": 24,
   "metadata": {},
   "outputs": [
    {
     "name": "stdout",
     "output_type": "stream",
     "text": [
      "CPU times: user 2.22 ms, sys: 0 ns, total: 2.22 ms\n",
      "Wall time: 288 ms\n"
     ]
    }
   ],
   "source": [
    "%%time\n",
    "test_results = model.evaluate(df_test)"
   ]
  },
  {
   "cell_type": "code",
   "execution_count": 25,
   "metadata": {},
   "outputs": [
    {
     "name": "stdout",
     "output_type": "stream",
     "text": [
      "Test data Accuracy = 0.6849270080043274\n",
      "CPU times: user 4.56 ms, sys: 217 µs, total: 4.77 ms\n",
      "Wall time: 17.6 s\n"
     ]
    }
   ],
   "source": [
    "%%time\n",
    "accuracy = test_results.accuracy\n",
    "print('Test data Accuracy =', accuracy)"
   ]
  },
  {
   "cell_type": "code",
   "execution_count": 26,
   "metadata": {},
   "outputs": [
    {
     "name": "stdout",
     "output_type": "stream",
     "text": [
      "Test data PrecisionByLabel = [0.5244478293983245, 0.6883924254235783]\n",
      "CPU times: user 2.58 ms, sys: 1.33 ms, total: 3.91 ms\n",
      "Wall time: 8.16 s\n"
     ]
    }
   ],
   "source": [
    "%%time\n",
    "precisionByLabel = test_results.precisionByLabel\n",
    "print('Test data PrecisionByLabel =', precisionByLabel)"
   ]
  },
  {
   "cell_type": "code",
   "execution_count": 27,
   "metadata": {},
   "outputs": [
    {
     "name": "stdout",
     "output_type": "stream",
     "text": [
      "Test data RecallByLabel = [0.035069313586685275, 0.9853016642734399]\n",
      "CPU times: user 2.16 ms, sys: 134 µs, total: 2.3 ms\n",
      "Wall time: 5.04 ms\n"
     ]
    }
   ],
   "source": [
    "%%time\n",
    "recallByLabel = test_results.recallByLabel\n",
    "print('Test data RecallByLabel =', recallByLabel)"
   ]
  },
  {
   "cell_type": "code",
   "execution_count": 28,
   "metadata": {},
   "outputs": [
    {
     "name": "stdout",
     "output_type": "stream",
     "text": [
      "Test data F1_score = 0.8105115583766765\n"
     ]
    }
   ],
   "source": [
    "F1_score = (2 * precisionByLabel[1] * recallByLabel[1]) / (precisionByLabel[1] + recallByLabel[1])\n",
    "print('Test data F1_score =', F1_score)"
   ]
  },
  {
   "cell_type": "code",
   "execution_count": 29,
   "metadata": {},
   "outputs": [
    {
     "name": "stdout",
     "output_type": "stream",
     "text": [
      "Test data ROC_AUC = 0.6339614305485405\n",
      "CPU times: user 1.83 ms, sys: 940 µs, total: 2.77 ms\n",
      "Wall time: 11.4 s\n"
     ]
    }
   ],
   "source": [
    "%%time\n",
    "areaUnderROC = test_results.areaUnderROC\n",
    "print('Test data ROC_AUC =', areaUnderROC)"
   ]
  },
  {
   "cell_type": "code",
   "execution_count": 55,
   "metadata": {},
   "outputs": [
    {
     "data": {
      "image/png": "[encoded data removed]",
      "text/plain": [
       "<Figure size 1080x432 with 1 Axes>"
      ]
     },
     "metadata": {
      "needs_background": "light"
     },
     "output_type": "display_data"
    },
    {
     "name": "stdout",
     "output_type": "stream",
     "text": [
      "CPU times: user 377 ms, sys: 2.07 ms, total: 380 ms\n",
      "Wall time: 412 ms\n"
     ]
    }
   ],
   "source": [
    "%%time\n",
    "# Let us also visualize the Precision-Recall graph for the base model predicted results\n",
    "\n",
    "rbt = test_results.recallByThreshold.toPandas()\n",
    "pbt = test_results.precisionByThreshold.toPandas()\n",
    "\n",
    "plt.figure(figsize=(15,6))\n",
    "plt.title(label='Precision / Recall graph for base LogisticRegression model', fontdict=dict(fontweight='bold'))\n",
    "plt.plot('threshold', 'precision', data=pbt)\n",
    "plt.plot('threshold', 'recall', data=rbt)\n",
    "plt.legend(['Precision', 'Recall'])\n",
    "plt.xlabel('Probability Threshold')\n",
    "plt.ylabel('Precision / Recall value')\n",
    "plt.locator_params(axis='y', nbins=20)\n",
    "plt.locator_params(axis='x', nbins=40)\n",
    "plt.annotate(text='Probability Threshold = 0.63 at point of convergence', xy=(0.63,0.735), xytext=(0.35,0.52),\n",
    "             arrowprops = dict(facecolor='green', shrink=0.05),)\n",
    "plt.grid()\n",
    "plt.show()"
   ]
  },
  {
   "cell_type": "markdown",
   "metadata": {},
   "source": [
    "__*From the base LogisticRegression model Precision/Recall graph, we can see that the two metric values converge approximately at probability value = 0.63, which can then be considered as the optimum point for the cutoff probability threshold.*__"
   ]
  },
  {
   "cell_type": "markdown",
   "metadata": {},
   "source": [
    "### Updated model, if any\n",
    "Repeat the steps "
   ]
  },
  {
   "cell_type": "markdown",
   "metadata": {},
   "source": [
    "__*From above test results, we can see that RecallByLabel = [0.035069313586685275, 0.9853016642734399] which is excellent for the Positive class but fares poorly for the Negative class classification. We will accordingly re-train the LogisticRegression model with hyperparameter-tuning the Probability Threshold with a value of 0.63 as seen from the Precision/Recall graph.*__"
   ]
  },
  {
   "cell_type": "code",
   "execution_count": 56,
   "metadata": {},
   "outputs": [],
   "source": [
    "# Building the model\n",
    "\n",
    "lr2 = LogisticRegression(featuresCol='features', labelCol='is_purchased', maxIter=10, threshold=0.63)"
   ]
  },
  {
   "cell_type": "code",
   "execution_count": 57,
   "metadata": {},
   "outputs": [
    {
     "name": "stdout",
     "output_type": "stream",
     "text": [
      "CPU times: user 14.5 ms, sys: 4.41 ms, total: 18.9 ms\n",
      "Wall time: 14.3 s\n"
     ]
    }
   ],
   "source": [
    "%%time\n",
    "# Fitting the model on transformed df\n",
    "\n",
    "model2 = lr2.fit(df_train)"
   ]
  },
  {
   "cell_type": "code",
   "execution_count": 58,
   "metadata": {},
   "outputs": [
    {
     "name": "stdout",
     "output_type": "stream",
     "text": [
      "CPU times: user 1.23 ms, sys: 133 µs, total: 1.37 ms\n",
      "Wall time: 201 ms\n"
     ]
    }
   ],
   "source": [
    "%%time\n",
    "test_results2 = model2.evaluate(df_test)"
   ]
  },
  {
   "cell_type": "code",
   "execution_count": 59,
   "metadata": {},
   "outputs": [
    {
     "name": "stdout",
     "output_type": "stream",
     "text": [
      "Test data Accuracy = 0.6351784713859786\n",
      "CPU times: user 3.92 ms, sys: 424 µs, total: 4.35 ms\n",
      "Wall time: 16.7 s\n"
     ]
    }
   ],
   "source": [
    "%%time\n",
    "accuracy = test_results2.accuracy\n",
    "print('Test data Accuracy =', accuracy)"
   ]
  },
  {
   "cell_type": "code",
   "execution_count": 60,
   "metadata": {},
   "outputs": [
    {
     "name": "stdout",
     "output_type": "stream",
     "text": [
      "Test data PrecisionByLabel = [0.42311991869918697, 0.7335212223468531]\n",
      "CPU times: user 3.37 ms, sys: 364 µs, total: 3.74 ms\n",
      "Wall time: 8.23 s\n"
     ]
    }
   ],
   "source": [
    "%%time\n",
    "precisionByLabel = test_results2.precisionByLabel\n",
    "print('Test data PrecisionByLabel =', precisionByLabel)"
   ]
  },
  {
   "cell_type": "code",
   "execution_count": 61,
   "metadata": {},
   "outputs": [
    {
     "name": "stdout",
     "output_type": "stream",
     "text": [
      "Test data RecallByLabel = [0.42408099656742415, 0.7327511122619524]\n",
      "CPU times: user 0 ns, sys: 2.7 ms, total: 2.7 ms\n",
      "Wall time: 4.47 ms\n"
     ]
    }
   ],
   "source": [
    "%%time\n",
    "recallByLabel = test_results2.recallByLabel\n",
    "print('Test data RecallByLabel =', recallByLabel)"
   ]
  },
  {
   "cell_type": "code",
   "execution_count": 62,
   "metadata": {},
   "outputs": [
    {
     "name": "stdout",
     "output_type": "stream",
     "text": [
      "Test data F1_score = 0.73313596506723\n"
     ]
    }
   ],
   "source": [
    "F1_score = (2 * precisionByLabel[1] * recallByLabel[1]) / (precisionByLabel[1] + recallByLabel[1])\n",
    "print('Test data F1_score =', F1_score)"
   ]
  },
  {
   "cell_type": "code",
   "execution_count": 63,
   "metadata": {},
   "outputs": [
    {
     "name": "stdout",
     "output_type": "stream",
     "text": [
      "Test data ROC_AUC = 0.633965520575469\n",
      "CPU times: user 2.83 ms, sys: 306 µs, total: 3.14 ms\n",
      "Wall time: 9.53 s\n"
     ]
    }
   ],
   "source": [
    "%%time\n",
    "areaUnderROC = test_results2.areaUnderROC\n",
    "print('Test data ROC_AUC =', areaUnderROC)"
   ]
  },
  {
   "cell_type": "code",
   "execution_count": 67,
   "metadata": {},
   "outputs": [
    {
     "data": {
      "text/html": [
       "<div>\n",
       "<style scoped>\n",
       "    .dataframe tbody tr th:only-of-type {\n",
       "        vertical-align: middle;\n",
       "    }\n",
       "\n",
       "    .dataframe tbody tr th {\n",
       "        vertical-align: top;\n",
       "    }\n",
       "\n",
       "    .dataframe thead th {\n",
       "        text-align: right;\n",
       "    }\n",
       "</style>\n",
       "<table border=\"1\" class=\"dataframe\">\n",
       "  <thead>\n",
       "    <tr style=\"text-align: right;\">\n",
       "      <th></th>\n",
       "      <th>ModelType</th>\n",
       "      <th>Accuracy</th>\n",
       "      <th>Precision</th>\n",
       "      <th>Recall</th>\n",
       "      <th>F1_score</th>\n",
       "      <th>AreaUnderROC</th>\n",
       "    </tr>\n",
       "  </thead>\n",
       "  <tbody>\n",
       "    <tr>\n",
       "      <th>0</th>\n",
       "      <td>LogisticRegression</td>\n",
       "      <td>0.6352</td>\n",
       "      <td>0.7335</td>\n",
       "      <td>0.7328</td>\n",
       "      <td>0.7331</td>\n",
       "      <td>0.6340</td>\n",
       "    </tr>\n",
       "  </tbody>\n",
       "</table>\n",
       "</div>"
      ],
      "text/plain": [
       "            ModelType  Accuracy  Precision  Recall  F1_score  AreaUnderROC\n",
       "0  LogisticRegression    0.6352     0.7335  0.7328    0.7331        0.6340"
      ]
     },
     "execution_count": 67,
     "metadata": {},
     "output_type": "execute_result"
    }
   ],
   "source": [
    "# Collate all the model evaluation metrics\n",
    "logisticRegressionMetrics = [{'ModelType'    : 'LogisticRegression',\n",
    "                              'Accuracy'     : accuracy,\n",
    "                              'Precision'    : precisionByLabel[1],\n",
    "                              'Recall'       : recallByLabel[1],\n",
    "                              'F1_score'     : F1_score,\n",
    "                              'AreaUnderROC' : areaUnderROC}]\n",
    "  \n",
    "# Convert the metrics to a Pandas dataframe \n",
    "logisticRegressionMetrics_df = pd.DataFrame(logisticRegressionMetrics)\n",
    "\n",
    "# Save the dataframe as csv for future model comparison\n",
    "logisticRegressionMetrics_df.to_csv('logisticRegressionMetrics.csv')\n",
    "\n",
    "logisticRegressionMetrics_df"
   ]
  },
  {
   "cell_type": "markdown",
   "metadata": {},
   "source": [
    "### Evaluation metrics for LogisticRegression Model :\n",
    "1. Accuracy = 0.6351784713859786\n",
    "2. Precision = 0.7335212223468531<br>\n",
    "3. Recall = 0.7327511122619524<br>\n",
    "4. F1_score = 0.73313596506723<br>\n",
    "5. AreaUnderROC = 0.633965520575469<br>\n"
   ]
  }
 ],
 "metadata": {
  "kernelspec": {
   "display_name": "Python 3",
   "language": "python",
   "name": "python3"
  },
  "language_info": {
   "codemirror_mode": {
    "name": "ipython",
    "version": 3
   },
   "file_extension": ".py",
   "mimetype": "text/x-python",
   "name": "python",
   "nbconvert_exporter": "python",
   "pygments_lexer": "ipython3",
   "version": "3.7.6"
  }
 },
 "nbformat": 4,
 "nbformat_minor": 4
}
