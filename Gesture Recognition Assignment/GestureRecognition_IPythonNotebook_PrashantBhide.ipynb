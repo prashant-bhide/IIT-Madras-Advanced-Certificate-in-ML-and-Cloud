{
 "cells": [
  {
   "cell_type": "markdown",
   "metadata": {},
   "source": [
    "##### **Learner: Prashant Bhide**"
   ]
  },
  {
   "cell_type": "markdown",
   "metadata": {},
   "source": [
    "# Gesture Recognition\n",
    "In this group project, you are going to build a 3D Conv model that will be able to predict the 5 gestures correctly. Please import the following libraries to get started."
   ]
  },
  {
   "cell_type": "code",
   "execution_count": 1,
   "metadata": {},
   "outputs": [],
   "source": [
    "# Importing the required libraries\n",
    "import os, datetime, warnings\n",
    "import numpy as np\n",
    "import random as rn\n",
    "import tensorflow as tf\n",
    "import matplotlib.pyplot as plt\n",
    "from PIL import Image"
   ]
  },
  {
   "cell_type": "code",
   "execution_count": 2,
   "metadata": {},
   "outputs": [],
   "source": [
    "# Visualisation\n",
    "%matplotlib inline\n",
    "\n",
    "# Ignoring the warnings\n",
    "warnings.filterwarnings('ignore')"
   ]
  },
  {
   "cell_type": "markdown",
   "metadata": {},
   "source": [
    "We set the random seed so that the results don't vary drastically."
   ]
  },
  {
   "cell_type": "code",
   "execution_count": 3,
   "metadata": {},
   "outputs": [],
   "source": [
    "rn.seed(30)\n",
    "np.random.seed(30)\n",
    "tf.random.set_seed(30)"
   ]
  },
  {
   "cell_type": "markdown",
   "metadata": {},
   "source": [
    "In this block, you read the folder names for training and validation. You also set the `batch_size` here. Note that you set the batch size in such a way that you are able to use the GPU in full capacity. You keep increasing the batch size until the machine throws an error."
   ]
  },
  {
   "cell_type": "code",
   "execution_count": 4,
   "metadata": {},
   "outputs": [],
   "source": [
    "train_csv_location = 'Project_data/train.csv'\n",
    "train_doc = np.random.permutation(open(train_csv_location).readlines())\n",
    "\n",
    "val_csv_location = 'Project_data/val.csv'\n",
    "val_doc = np.random.permutation(open(val_csv_location).readlines())\n",
    "\n",
    "batch_size = 100"
   ]
  },
  {
   "cell_type": "markdown",
   "metadata": {},
   "source": [
    "## Generator\n",
    "This is one of the most important part of the code. The overall structure of the generator has been given. In the generator, you are going to preprocess the images as you have images of 2 different dimensions as well as create a batch of video frames. You have to experiment with `img_idx`, `y`,`z` and normalization such that you get high accuracy."
   ]
  },
  {
   "cell_type": "code",
   "execution_count": 5,
   "metadata": {},
   "outputs": [],
   "source": [
    "def generator(source_path, folder_list, batch_size):\n",
    "    \n",
    "    # create a list of image numbers you want to use for a particular video\n",
    "    img_idx = [0,1,2,4,6,8,10,12,14,16,18,20,22,23,24,25,26,27,28,29]\n",
    "    \n",
    "    while True:\n",
    "        t = np.random.permutation(folder_list)\n",
    "        \n",
    "        # calculate the number of batches\n",
    "        num_batches = int(len(t)/batch_size) \n",
    "        \n",
    "        # we iterate over the number of batches\n",
    "        for batch in range(num_batches):\n",
    "            \n",
    "            # x is the number of images you use for each video, (y,z) is the final\n",
    "            # size of the input images, and 3 is the number of channels RGB\n",
    "            x = len(img_idx)\n",
    "            y = 40\n",
    "            z = 40\n",
    "            batch_data = np.zeros((batch_size, x, z, y, 3))\n",
    "            \n",
    "            # batch_labels is the one hot representation of the output\n",
    "            batch_labels = np.zeros((batch_size, 5))\n",
    "\n",
    "            for folder in range(batch_size): # iterate over the batch_size\n",
    "                \n",
    "                # read all the images in the folder\n",
    "                imgs = os.listdir(source_path+'/'+ t[folder + (batch*batch_size)].split(';')[0])\n",
    "                \n",
    "                # Iterate over the frames/images of a folder to read them in\n",
    "                for idx,item in enumerate(img_idx):\n",
    "                    \n",
    "                    image = Image.open(source_path+'/'+ t[folder + (batch*batch_size)].strip().split(';')[0]+'/'+imgs[item])\n",
    "                    \n",
    "                    #crop the images and resize them. Note that the images are of 2 different shape \n",
    "                    #and the conv3D will throw error if the inputs in a batch have different shapes\n",
    "                    if ((image.size[0] != y) or (image.size[1] != z)):\n",
    "                        image = image.resize(size=(y, z))\n",
    "\n",
    "                    ##normalise the RGB values using divide by 255 and feed in the image\n",
    "                    image = np.array(image, dtype=float) / 255\n",
    "                    batch_data[folder,idx,:,:,0] = image[:,:,0]\n",
    "                    batch_data[folder,idx,:,:,1] = image[:,:,1]\n",
    "                    batch_data[folder,idx,:,:,2] = image[:,:,2]\n",
    "                    \n",
    "                batch_labels[folder, int(t[folder + (batch*batch_size)].strip().split(';')[2])] = 1\n",
    "                \n",
    "            yield batch_data, batch_labels #you yield the batch_data and the batch_labels, remember what does yield do\n",
    "        \n",
    "        # write the code for the remaining data points which are left after full batches\n",
    "        if ((len(t) % batch_size) != 0):\n",
    "            \n",
    "            # x is the number of images you use for each video, (y,z) is the final\n",
    "            # size of the input images, and 3 is the number of channels RGB\n",
    "            x = len(img_idx)\n",
    "            y = 40\n",
    "            z = 40\n",
    "            batch_data = np.zeros((len(t) % batch_size, x, z, y, 3))\n",
    "            \n",
    "            # batch_labels is the one hot representation of the output\n",
    "            batch_labels = np.zeros((len(t) % batch_size, 5))\n",
    "\n",
    "            for folder in range(len(t) % batch_size): # iterate over the batch_size\n",
    "                \n",
    "                # read all the images in the folder\n",
    "                imgs = os.listdir(source_path+'/'+ t[folder + (num_batches*batch_size)].split(';')[0])\n",
    "                \n",
    "                # Iterate over the frames/images of a folder to read them in\n",
    "                for idx,item in enumerate(img_idx):\n",
    "                    \n",
    "                    image = Image.open(source_path+'/'+ t[folder + (num_batches*batch_size)].strip().split(';')[0]+'/'+imgs[item])\n",
    "                    \n",
    "                    #crop the images and resize them. Note that the images are of 2 different shape \n",
    "                    #and the conv3D will throw error if the inputs in a batch have different shapes\n",
    "                    if ((image.size[0] != y) or (image.size[1] != z)):\n",
    "                        image = image.resize(size=(y, z))\n",
    "\n",
    "                    ##normalise the RGB values using divide by 255 and feed in the image\n",
    "                    image = np.array(image, dtype=float) / 255\n",
    "                    batch_data[folder,idx,:,:,0] = image[:,:,0]\n",
    "                    batch_data[folder,idx,:,:,1] = image[:,:,1]\n",
    "                    batch_data[folder,idx,:,:,2] = image[:,:,2]\n",
    "                    \n",
    "                batch_labels[folder, int(t[folder + (num_batches*batch_size)].strip().split(';')[2])] = 1\n",
    "                \n",
    "            yield batch_data, batch_labels #you yield the batch_data and the batch_labels, remember what does yield do"
   ]
  },
  {
   "cell_type": "markdown",
   "metadata": {},
   "source": [
    "Note here that a video is represented above in the generator as (number of images, height, width, number of channels). Take this into consideration while creating the model architecture."
   ]
  },
  {
   "cell_type": "code",
   "execution_count": 6,
   "metadata": {},
   "outputs": [
    {
     "name": "stdout",
     "output_type": "stream",
     "text": [
      "# training sequences = 663\n",
      "# validation sequences = 100\n",
      "# epochs = 30\n"
     ]
    }
   ],
   "source": [
    "curr_dt_time = datetime.datetime.now()\n",
    "\n",
    "train_path = 'Project_data/train'\n",
    "num_train_sequences = len(train_doc)\n",
    "print('# training sequences =', num_train_sequences)\n",
    "\n",
    "val_path = 'Project_data/val'\n",
    "num_val_sequences = len(val_doc)\n",
    "print('# validation sequences =', num_val_sequences)\n",
    "\n",
    "# choose the number of epochs\n",
    "num_epochs = 30 \n",
    "print ('# epochs =', num_epochs)"
   ]
  },
  {
   "cell_type": "markdown",
   "metadata": {},
   "source": [
    "## Model\n",
    "Here you make the model using different functionalities that Keras provides. Remember to use `Conv3D` and `MaxPooling3D` and not `Conv2D` and `Maxpooling2D` for a 3D convolution model. You would want to use `TimeDistributed` while building a Conv2D + RNN model. Also remember that the last layer is the softmax. Design the network in such a way that the model is able to give good accuracy on the least number of parameters so that it can fit in the memory of the webcam."
   ]
  },
  {
   "cell_type": "code",
   "execution_count": 7,
   "metadata": {},
   "outputs": [],
   "source": [
    "from tensorflow.keras.models import Sequential, Model\n",
    "from tensorflow.keras.layers import InputLayer, Conv3D, BatchNormalization, MaxPooling3D, Dropout, Flatten, Dense\n",
    "from tensorflow.keras.callbacks import ModelCheckpoint, ReduceLROnPlateau"
   ]
  },
  {
   "cell_type": "code",
   "execution_count": 8,
   "metadata": {},
   "outputs": [],
   "source": [
    "#write your model here\n",
    "\n",
    "num_classes = 5\n",
    "\n",
    "model = Sequential([\n",
    "\n",
    "    # Adding the input layer\n",
    "    InputLayer(input_shape=(20,40,40,3)),\n",
    "    \n",
    "    # Convolution and Pooling layers\n",
    "    Conv3D(filters=32, kernel_size=3, strides=1, padding='same', activation='relu'),\n",
    "    Conv3D(filters=32, kernel_size=3, strides=1, padding='same', activation='relu'),\n",
    "    MaxPooling3D(pool_size=2),\n",
    "    #BatchNormalization(),\n",
    "    #Dropout(0.2),\n",
    "\n",
    "    Conv3D(filters=64, kernel_size=3, strides=1, padding='same', activation='relu'),\n",
    "    Conv3D(filters=64, kernel_size=3, strides=1, padding='same', activation='relu'),\n",
    "    MaxPooling3D(pool_size=2),\n",
    "    #BatchNormalization(),\n",
    "    Dropout(0.2),\n",
    "\n",
    "    # Flattening and Dense layers\n",
    "    Flatten(),\n",
    "    Dense(128, activation='relu'),\n",
    "    Dropout(0.2),\n",
    "    Dense(64, activation='relu'),\n",
    "    Dropout(0.2),\n",
    "\n",
    "    # Adding the softmax classification output layer\n",
    "    Dense(num_classes, activation='softmax')\n",
    "])"
   ]
  },
  {
   "cell_type": "markdown",
   "metadata": {},
   "source": [
    "Now that you have written the model, the next step is to `compile` the model. When you print the `summary` of the model, you'll see the total number of parameters you have to train."
   ]
  },
  {
   "cell_type": "code",
   "execution_count": 9,
   "metadata": {
    "scrolled": true
   },
   "outputs": [
    {
     "name": "stdout",
     "output_type": "stream",
     "text": [
      "Model: \"sequential\"\n",
      "_________________________________________________________________\n",
      "Layer (type)                 Output Shape              Param #   \n",
      "=================================================================\n",
      "conv3d (Conv3D)              (None, 20, 40, 40, 32)    2624      \n",
      "_________________________________________________________________\n",
      "conv3d_1 (Conv3D)            (None, 20, 40, 40, 32)    27680     \n",
      "_________________________________________________________________\n",
      "max_pooling3d (MaxPooling3D) (None, 10, 20, 20, 32)    0         \n",
      "_________________________________________________________________\n",
      "conv3d_2 (Conv3D)            (None, 10, 20, 20, 64)    55360     \n",
      "_________________________________________________________________\n",
      "conv3d_3 (Conv3D)            (None, 10, 20, 20, 64)    110656    \n",
      "_________________________________________________________________\n",
      "max_pooling3d_1 (MaxPooling3 (None, 5, 10, 10, 64)     0         \n",
      "_________________________________________________________________\n",
      "dropout (Dropout)            (None, 5, 10, 10, 64)     0         \n",
      "_________________________________________________________________\n",
      "flatten (Flatten)            (None, 32000)             0         \n",
      "_________________________________________________________________\n",
      "dense (Dense)                (None, 128)               4096128   \n",
      "_________________________________________________________________\n",
      "dropout_1 (Dropout)          (None, 128)               0         \n",
      "_________________________________________________________________\n",
      "dense_1 (Dense)              (None, 64)                8256      \n",
      "_________________________________________________________________\n",
      "dropout_2 (Dropout)          (None, 64)                0         \n",
      "_________________________________________________________________\n",
      "dense_2 (Dense)              (None, 5)                 325       \n",
      "=================================================================\n",
      "Total params: 4,301,029\n",
      "Trainable params: 4,301,029\n",
      "Non-trainable params: 0\n",
      "_________________________________________________________________\n",
      "None\n"
     ]
    }
   ],
   "source": [
    "# We will use the 'adam' optimiser and 'categorical_crossentropy' loss function\n",
    "\n",
    "optimiser = 'adam'\n",
    "model.compile(optimizer=optimiser, loss='categorical_crossentropy', metrics=['categorical_accuracy'])\n",
    "print(model.summary())"
   ]
  },
  {
   "cell_type": "markdown",
   "metadata": {},
   "source": [
    "Let us create the `train_generator` and the `val_generator` which will be used in `.fit_generator`."
   ]
  },
  {
   "cell_type": "code",
   "execution_count": 10,
   "metadata": {},
   "outputs": [],
   "source": [
    "train_generator = generator(train_path, train_doc, batch_size)\n",
    "val_generator = generator(val_path, val_doc, batch_size)"
   ]
  },
  {
   "cell_type": "code",
   "execution_count": 11,
   "metadata": {},
   "outputs": [],
   "source": [
    "# Create new folder to save the model .h5 files\n",
    "model_name = 'model_init' + '_' + str(curr_dt_time).replace(' ','').replace(':','_') + '/'\n",
    "    \n",
    "if not os.path.exists(model_name):\n",
    "    os.mkdir(model_name)\n",
    "        \n",
    "filepath = model_name + \\\n",
    "           'model-{epoch:05d}-{loss:.5f}-{categorical_accuracy:.5f}-{val_loss:.5f}-{val_categorical_accuracy:.5f}.h5'\n",
    "\n",
    "checkpoint = ModelCheckpoint(filepath, monitor='val_loss', verbose=1, save_best_only=False, \n",
    "                             save_weights_only=False, mode='auto', save_freq='epoch')\n",
    "\n",
    "LR = ReduceLROnPlateau(monitor='val_loss', factor=0.5, patience=2, verbose=1, cooldown=0, min_lr=0.00001)\n",
    "\n",
    "callbacks_list = [checkpoint, LR]"
   ]
  },
  {
   "cell_type": "markdown",
   "metadata": {},
   "source": [
    "The `steps_per_epoch` and `validation_steps` are used by `fit_generator` to decide the number of next() calls it need to make."
   ]
  },
  {
   "cell_type": "code",
   "execution_count": 12,
   "metadata": {},
   "outputs": [
    {
     "name": "stdout",
     "output_type": "stream",
     "text": [
      "steps_per_epoch = 7 , validation_steps = 1\n"
     ]
    }
   ],
   "source": [
    "if (num_train_sequences % batch_size) == 0:\n",
    "    steps_per_epoch = int(num_train_sequences/batch_size)\n",
    "else:\n",
    "    steps_per_epoch = (num_train_sequences//batch_size) + 1\n",
    "\n",
    "if (num_val_sequences % batch_size) == 0:\n",
    "    validation_steps = int(num_val_sequences/batch_size)\n",
    "else:\n",
    "    validation_steps = (num_val_sequences//batch_size) + 1\n",
    "\n",
    "print('steps_per_epoch =', steps_per_epoch, ', validation_steps =', validation_steps)"
   ]
  },
  {
   "cell_type": "markdown",
   "metadata": {},
   "source": [
    "Let us now fit the model. This will start training the model and with the help of the checkpoints, you'll be able to save the model at the end of each epoch."
   ]
  },
  {
   "cell_type": "code",
   "execution_count": 13,
   "metadata": {},
   "outputs": [
    {
     "name": "stdout",
     "output_type": "stream",
     "text": [
      "Epoch 1/30\n",
      "7/7 [==============================] - 487s 70s/step - loss: 1.6341 - categorical_accuracy: 0.2293 - val_loss: 1.5940 - val_categorical_accuracy: 0.2300\n",
      "\n",
      "Epoch 00001: saving model to model_init_2021-09-0214_17_07.746706\\model-00001-1.63414-0.22926-1.59398-0.23000.h5\n",
      "Epoch 2/30\n",
      "7/7 [==============================] - 447s 64s/step - loss: 1.6105 - categorical_accuracy: 0.2247 - val_loss: 1.5962 - val_categorical_accuracy: 0.2300\n",
      "\n",
      "Epoch 00002: saving model to model_init_2021-09-0214_17_07.746706\\model-00002-1.61046-0.22474-1.59620-0.23000.h5\n",
      "Epoch 3/30\n",
      "7/7 [==============================] - 448s 64s/step - loss: 1.5953 - categorical_accuracy: 0.2308 - val_loss: 1.5367 - val_categorical_accuracy: 0.3000\n",
      "\n",
      "Epoch 00003: saving model to model_init_2021-09-0214_17_07.746706\\model-00003-1.59527-0.23077-1.53670-0.30000.h5\n",
      "Epoch 4/30\n",
      "7/7 [==============================] - 448s 64s/step - loss: 1.5327 - categorical_accuracy: 0.3303 - val_loss: 1.3386 - val_categorical_accuracy: 0.3600\n",
      "\n",
      "Epoch 00004: saving model to model_init_2021-09-0214_17_07.746706\\model-00004-1.53270-0.33032-1.33862-0.36000.h5\n",
      "Epoch 5/30\n",
      "7/7 [==============================] - 1195s 189s/step - loss: 1.4951 - categorical_accuracy: 0.3680 - val_loss: 1.3964 - val_categorical_accuracy: 0.4100\n",
      "\n",
      "Epoch 00005: saving model to model_init_2021-09-0214_17_07.746706\\model-00005-1.49506-0.36802-1.39643-0.41000.h5\n",
      "Epoch 6/30\n",
      "7/7 [==============================] - 451s 64s/step - loss: 1.4102 - categorical_accuracy: 0.3741 - val_loss: 1.1792 - val_categorical_accuracy: 0.5100\n",
      "\n",
      "Epoch 00006: saving model to model_init_2021-09-0214_17_07.746706\\model-00006-1.41016-0.37406-1.17920-0.51000.h5\n",
      "Epoch 7/30\n",
      "7/7 [==============================] - 461s 66s/step - loss: 1.2680 - categorical_accuracy: 0.4751 - val_loss: 1.1335 - val_categorical_accuracy: 0.6100\n",
      "\n",
      "Epoch 00007: saving model to model_init_2021-09-0214_17_07.746706\\model-00007-1.26802-0.47511-1.13345-0.61000.h5\n",
      "Epoch 8/30\n",
      "7/7 [==============================] - 447s 64s/step - loss: 1.1710 - categorical_accuracy: 0.5385 - val_loss: 1.0693 - val_categorical_accuracy: 0.5900\n",
      "\n",
      "Epoch 00008: saving model to model_init_2021-09-0214_17_07.746706\\model-00008-1.17097-0.53846-1.06934-0.59000.h5\n",
      "Epoch 9/30\n",
      "7/7 [==============================] - 448s 64s/step - loss: 1.0534 - categorical_accuracy: 0.5626 - val_loss: 1.0306 - val_categorical_accuracy: 0.6100\n",
      "\n",
      "Epoch 00009: saving model to model_init_2021-09-0214_17_07.746706\\model-00009-1.05335-0.56259-1.03056-0.61000.h5\n",
      "Epoch 10/30\n",
      "7/7 [==============================] - 448s 64s/step - loss: 0.9655 - categorical_accuracy: 0.6229 - val_loss: 1.0464 - val_categorical_accuracy: 0.6100\n",
      "\n",
      "Epoch 00010: saving model to model_init_2021-09-0214_17_07.746706\\model-00010-0.96552-0.62293-1.04636-0.61000.h5\n",
      "Epoch 11/30\n",
      "7/7 [==============================] - 449s 64s/step - loss: 0.8254 - categorical_accuracy: 0.6923 - val_loss: 0.9887 - val_categorical_accuracy: 0.6500\n",
      "\n",
      "Epoch 00011: saving model to model_init_2021-09-0214_17_07.746706\\model-00011-0.82542-0.69231-0.98865-0.65000.h5\n",
      "Epoch 12/30\n",
      "7/7 [==============================] - 453s 65s/step - loss: 0.7107 - categorical_accuracy: 0.7210 - val_loss: 0.9719 - val_categorical_accuracy: 0.6800\n",
      "\n",
      "Epoch 00012: saving model to model_init_2021-09-0214_17_07.746706\\model-00012-0.71075-0.72097-0.97187-0.68000.h5\n",
      "Epoch 13/30\n",
      "7/7 [==============================] - 455s 65s/step - loss: 0.6862 - categorical_accuracy: 0.7300 - val_loss: 0.9251 - val_categorical_accuracy: 0.6800\n",
      "\n",
      "Epoch 00013: saving model to model_init_2021-09-0214_17_07.746706\\model-00013-0.68618-0.73002-0.92515-0.68000.h5\n",
      "Epoch 14/30\n",
      "7/7 [==============================] - 393s 55s/step - loss: 0.5860 - categorical_accuracy: 0.7888 - val_loss: 0.8644 - val_categorical_accuracy: 0.7300\n",
      "\n",
      "Epoch 00014: saving model to model_init_2021-09-0214_17_07.746706\\model-00014-0.58604-0.78884-0.86440-0.73000.h5\n",
      "Epoch 15/30\n",
      "7/7 [==============================] - 374s 53s/step - loss: 0.4870 - categorical_accuracy: 0.8054 - val_loss: 0.9224 - val_categorical_accuracy: 0.7700\n",
      "\n",
      "Epoch 00015: saving model to model_init_2021-09-0214_17_07.746706\\model-00015-0.48696-0.80543-0.92242-0.77000.h5\n",
      "Epoch 16/30\n",
      "7/7 [==============================] - 374s 53s/step - loss: 0.4735 - categorical_accuracy: 0.8341 - val_loss: 0.8471 - val_categorical_accuracy: 0.7900\n",
      "\n",
      "Epoch 00016: saving model to model_init_2021-09-0214_17_07.746706\\model-00016-0.47347-0.83409-0.84712-0.79000.h5\n",
      "Epoch 17/30\n",
      "7/7 [==============================] - 379s 54s/step - loss: 0.3978 - categorical_accuracy: 0.8401 - val_loss: 0.7475 - val_categorical_accuracy: 0.7700\n",
      "\n",
      "Epoch 00017: saving model to model_init_2021-09-0214_17_07.746706\\model-00017-0.39783-0.84012-0.74752-0.77000.h5\n",
      "Epoch 18/30\n",
      "7/7 [==============================] - 375s 53s/step - loss: 0.3332 - categorical_accuracy: 0.8793 - val_loss: 0.7900 - val_categorical_accuracy: 0.7900\n",
      "\n",
      "Epoch 00018: saving model to model_init_2021-09-0214_17_07.746706\\model-00018-0.33320-0.87934-0.78999-0.79000.h5\n",
      "Epoch 19/30\n",
      "7/7 [==============================] - 378s 54s/step - loss: 0.2815 - categorical_accuracy: 0.8974 - val_loss: 0.7762 - val_categorical_accuracy: 0.8100\n",
      "\n",
      "Epoch 00019: saving model to model_init_2021-09-0214_17_07.746706\\model-00019-0.28147-0.89744-0.77623-0.81000.h5\n",
      "\n",
      "Epoch 00019: ReduceLROnPlateau reducing learning rate to 0.0005000000237487257.\n",
      "Epoch 20/30\n",
      "7/7 [==============================] - 374s 53s/step - loss: 0.1729 - categorical_accuracy: 0.9276 - val_loss: 0.8832 - val_categorical_accuracy: 0.8400\n",
      "\n",
      "Epoch 00020: saving model to model_init_2021-09-0214_17_07.746706\\model-00020-0.17292-0.92760-0.88320-0.84000.h5\n",
      "Epoch 21/30\n",
      "7/7 [==============================] - 374s 53s/step - loss: 0.1431 - categorical_accuracy: 0.9382 - val_loss: 1.0065 - val_categorical_accuracy: 0.8200\n",
      "\n",
      "Epoch 00021: saving model to model_init_2021-09-0214_17_07.746706\\model-00021-0.14315-0.93816-1.00647-0.82000.h5\n",
      "\n",
      "Epoch 00021: ReduceLROnPlateau reducing learning rate to 0.0002500000118743628.\n",
      "Epoch 22/30\n",
      "7/7 [==============================] - 375s 53s/step - loss: 0.1111 - categorical_accuracy: 0.9563 - val_loss: 0.9703 - val_categorical_accuracy: 0.8100\n",
      "\n",
      "Epoch 00022: saving model to model_init_2021-09-0214_17_07.746706\\model-00022-0.11112-0.95626-0.97034-0.81000.h5\n",
      "Epoch 23/30\n",
      "7/7 [==============================] - 377s 54s/step - loss: 0.1130 - categorical_accuracy: 0.9623 - val_loss: 0.9461 - val_categorical_accuracy: 0.8200\n",
      "\n",
      "Epoch 00023: saving model to model_init_2021-09-0214_17_07.746706\\model-00023-0.11300-0.96229-0.94613-0.82000.h5\n",
      "\n",
      "Epoch 00023: ReduceLROnPlateau reducing learning rate to 0.0001250000059371814.\n",
      "Epoch 24/30\n",
      "7/7 [==============================] - 384s 55s/step - loss: 0.1010 - categorical_accuracy: 0.9698 - val_loss: 0.9476 - val_categorical_accuracy: 0.8200\n",
      "\n",
      "Epoch 00024: saving model to model_init_2021-09-0214_17_07.746706\\model-00024-0.10100-0.96983-0.94761-0.82000.h5\n",
      "Epoch 25/30\n",
      "7/7 [==============================] - 378s 54s/step - loss: 0.0791 - categorical_accuracy: 0.9759 - val_loss: 0.8592 - val_categorical_accuracy: 0.8400\n",
      "\n",
      "Epoch 00025: saving model to model_init_2021-09-0214_17_07.746706\\model-00025-0.07910-0.97587-0.85918-0.84000.h5\n",
      "\n",
      "Epoch 00025: ReduceLROnPlateau reducing learning rate to 6.25000029685907e-05.\n",
      "Epoch 26/30\n",
      "7/7 [==============================] - 374s 53s/step - loss: 0.0764 - categorical_accuracy: 0.9729 - val_loss: 0.8833 - val_categorical_accuracy: 0.8200\n",
      "\n",
      "Epoch 00026: saving model to model_init_2021-09-0214_17_07.746706\\model-00026-0.07639-0.97285-0.88334-0.82000.h5\n",
      "Epoch 27/30\n",
      "7/7 [==============================] - 374s 53s/step - loss: 0.0625 - categorical_accuracy: 0.9849 - val_loss: 0.9133 - val_categorical_accuracy: 0.8100\n",
      "\n",
      "Epoch 00027: saving model to model_init_2021-09-0214_17_07.746706\\model-00027-0.06248-0.98492-0.91331-0.81000.h5\n",
      "\n",
      "Epoch 00027: ReduceLROnPlateau reducing learning rate to 3.125000148429535e-05.\n",
      "Epoch 28/30\n",
      "7/7 [==============================] - 374s 53s/step - loss: 0.0703 - categorical_accuracy: 0.9819 - val_loss: 0.9109 - val_categorical_accuracy: 0.8100\n",
      "\n",
      "Epoch 00028: saving model to model_init_2021-09-0214_17_07.746706\\model-00028-0.07025-0.98190-0.91092-0.81000.h5\n",
      "Epoch 29/30\n"
     ]
    },
    {
     "name": "stdout",
     "output_type": "stream",
     "text": [
      "7/7 [==============================] - 374s 53s/step - loss: 0.0670 - categorical_accuracy: 0.9774 - val_loss: 0.9056 - val_categorical_accuracy: 0.8200\n",
      "\n",
      "Epoch 00029: saving model to model_init_2021-09-0214_17_07.746706\\model-00029-0.06703-0.97738-0.90559-0.82000.h5\n",
      "\n",
      "Epoch 00029: ReduceLROnPlateau reducing learning rate to 1.5625000742147677e-05.\n",
      "Epoch 30/30\n",
      "7/7 [==============================] - 375s 53s/step - loss: 0.0654 - categorical_accuracy: 0.9864 - val_loss: 0.9056 - val_categorical_accuracy: 0.8300\n",
      "\n",
      "Epoch 00030: saving model to model_init_2021-09-0214_17_07.746706\\model-00030-0.06541-0.98643-0.90562-0.83000.h5\n",
      "Wall time: 3h 37min 34s\n"
     ]
    }
   ],
   "source": [
    "%%time\n",
    "\n",
    "history = model.fit_generator(train_generator, steps_per_epoch=steps_per_epoch, epochs=num_epochs, verbose=1, \n",
    "                    callbacks=callbacks_list, validation_data=val_generator, \n",
    "                    validation_steps=validation_steps, class_weight=None, workers=1, initial_epoch=0)"
   ]
  },
  {
   "cell_type": "markdown",
   "metadata": {},
   "source": [
    "## Model Performance\n",
    "We will plot the model training and validation accuracy across the training epochs to check the overall fit."
   ]
  },
  {
   "cell_type": "code",
   "execution_count": 15,
   "metadata": {},
   "outputs": [
    {
     "data": {
      "image/png": "[encoded data removed]",
      "text/plain": [
       "<Figure size 1080x432 with 2 Axes>"
      ]
     },
     "metadata": {
      "needs_background": "light"
     },
     "output_type": "display_data"
    }
   ],
   "source": [
    "# Graphs\n",
    "\n",
    "acc = history.history['categorical_accuracy']\n",
    "val_acc = history.history['val_categorical_accuracy']\n",
    "loss = history.history['loss']\n",
    "val_loss = history.history['val_loss']\n",
    "epochs_range = range(num_epochs)\n",
    "\n",
    "plt.figure(figsize=(15, 6))\n",
    "plt.subplot(1, 2, 1)\n",
    "plt.plot(epochs_range, acc, label='Training Accuracy')\n",
    "plt.plot(epochs_range, val_acc, label='Validation Accuracy')\n",
    "plt.ylabel('Accuracy', fontsize=14)\n",
    "plt.xlabel('Epochs', fontsize=14)\n",
    "plt.legend(loc='lower right', fontsize=14)\n",
    "plt.title('Training and Validation Accuracy', fontsize=18)\n",
    "\n",
    "plt.subplot(1, 2, 2)\n",
    "plt.plot(epochs_range, loss, label='Training Loss')\n",
    "plt.plot(epochs_range, val_loss, label='Validation Loss')\n",
    "plt.ylabel('Loss', fontsize=14)\n",
    "plt.xlabel('Epochs', fontsize=14)\n",
    "plt.legend(loc='upper right', fontsize=14)\n",
    "plt.title('Training and Validation Loss', fontsize=18);"
   ]
  },
  {
   "cell_type": "markdown",
   "metadata": {},
   "source": [
    "_**We can see that the Conv3D final model achieves a fairly decent validation accuracy peaking at 84%, with the training accuracy reaching 97% allowing for some overfitting.**_"
   ]
  },
  {
   "cell_type": "markdown",
   "metadata": {},
   "source": [
    "## Reload Saved Best Model\n",
    "We will reload the best model saved as part of the ModelCheckpoint callbacks and re-verify the model architecture and trainable parameters."
   ]
  },
  {
   "cell_type": "code",
   "execution_count": 20,
   "metadata": {},
   "outputs": [
    {
     "name": "stdout",
     "output_type": "stream",
     "text": [
      "Model: \"sequential\"\n",
      "_________________________________________________________________\n",
      "Layer (type)                 Output Shape              Param #   \n",
      "=================================================================\n",
      "conv3d (Conv3D)              (None, 20, 40, 40, 32)    2624      \n",
      "_________________________________________________________________\n",
      "conv3d_1 (Conv3D)            (None, 20, 40, 40, 32)    27680     \n",
      "_________________________________________________________________\n",
      "max_pooling3d (MaxPooling3D) (None, 10, 20, 20, 32)    0         \n",
      "_________________________________________________________________\n",
      "conv3d_2 (Conv3D)            (None, 10, 20, 20, 64)    55360     \n",
      "_________________________________________________________________\n",
      "conv3d_3 (Conv3D)            (None, 10, 20, 20, 64)    110656    \n",
      "_________________________________________________________________\n",
      "max_pooling3d_1 (MaxPooling3 (None, 5, 10, 10, 64)     0         \n",
      "_________________________________________________________________\n",
      "dropout (Dropout)            (None, 5, 10, 10, 64)     0         \n",
      "_________________________________________________________________\n",
      "flatten (Flatten)            (None, 32000)             0         \n",
      "_________________________________________________________________\n",
      "dense (Dense)                (None, 128)               4096128   \n",
      "_________________________________________________________________\n",
      "dropout_1 (Dropout)          (None, 128)               0         \n",
      "_________________________________________________________________\n",
      "dense_1 (Dense)              (None, 64)                8256      \n",
      "_________________________________________________________________\n",
      "dropout_2 (Dropout)          (None, 64)                0         \n",
      "_________________________________________________________________\n",
      "dense_2 (Dense)              (None, 5)                 325       \n",
      "=================================================================\n",
      "Total params: 4,301,029\n",
      "Trainable params: 4,301,029\n",
      "Non-trainable params: 0\n",
      "_________________________________________________________________\n"
     ]
    }
   ],
   "source": [
    "best_model_path = 'model_init_2021-09-0214_17_07.746706/model-00025-0.07910-0.97587-0.85918-0.84000.h5'\n",
    "\n",
    "reloaded_model = tf.keras.models.load_model(best_model_path)\n",
    "\n",
    "# print the reloaded_model architecture\n",
    "reloaded_model.summary()"
   ]
  }
 ],
 "metadata": {
  "kernelspec": {
   "display_name": "Python 3",
   "language": "python",
   "name": "python3"
  },
  "language_info": {
   "codemirror_mode": {
    "name": "ipython",
    "version": 3
   },
   "file_extension": ".py",
   "mimetype": "text/x-python",
   "name": "python",
   "nbconvert_exporter": "python",
   "pygments_lexer": "ipython3",
   "version": "3.7.6"
  }
 },
 "nbformat": 4,
 "nbformat_minor": 2
}
