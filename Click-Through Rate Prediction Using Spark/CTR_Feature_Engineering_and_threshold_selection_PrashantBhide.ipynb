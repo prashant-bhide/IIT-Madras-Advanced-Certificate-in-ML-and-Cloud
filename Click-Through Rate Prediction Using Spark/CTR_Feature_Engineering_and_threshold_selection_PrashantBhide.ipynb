{
 "cells": [
  {
   "cell_type": "markdown",
   "metadata": {},
   "source": [
    "# Feature engineering"
   ]
  },
  {
   "cell_type": "code",
   "execution_count": 1,
   "metadata": {},
   "outputs": [
    {
     "data": {
      "text/html": [
       "\n",
       "            <div>\n",
       "                <p><b>SparkSession - in-memory</b></p>\n",
       "                \n",
       "        <div>\n",
       "            <p><b>SparkContext</b></p>\n",
       "\n",
       "            <p><a href=\"http://192.168.1.21:4040\">Spark UI</a></p>\n",
       "\n",
       "            <dl>\n",
       "              <dt>Version</dt>\n",
       "                <dd><code>v2.4.4</code></dd>\n",
       "              <dt>Master</dt>\n",
       "                <dd><code>local[*]</code></dd>\n",
       "              <dt>AppName</dt>\n",
       "                <dd><code>LR_FeatureEngg_ThresholdSelection</code></dd>\n",
       "            </dl>\n",
       "        </div>\n",
       "        \n",
       "            </div>\n",
       "        "
      ],
      "text/plain": [
       "<pyspark.sql.session.SparkSession at 0x1fb3c170588>"
      ]
     },
     "execution_count": 1,
     "metadata": {},
     "output_type": "execute_result"
    }
   ],
   "source": [
    "# start a spark application\n",
    "\n",
    "# Defining the environment variables for EC2 Linux instance\n",
    "#import os\n",
    "#import sys\n",
    "\n",
    "# Here you need to have same Python version on your local machine and on worker node i.e. EC2. here both should have python3.\n",
    "#os.environ[\"PYSPARK_PYTHON\"] = \"/bin/python3\"\n",
    "#                  OR\n",
    "#os.environ[\"PYSPARK_PYTHON\"] = \"/usr/bin/python3\"\n",
    "\n",
    "#os.environ[\"JAVA_HOME\"] = \"/usr/java/jdk1.8.0_161/jre\"\n",
    "#os.environ[\"SPARK_HOME\"] = \"/home/ec2-user/spark-2.4.4-bin-hadoop2.7\"\n",
    "#os.environ[\"PYLIB\"] = os.environ[\"SPARK_HOME\"] + \"/python/lib\"\n",
    "#sys.path.insert(0, os.environ[\"PYLIB\"] +\"/py4j-0.10.7-src.zip\")\n",
    "#sys.path.insert(0, os.environ[\"PYLIB\"] +\"/pyspark.zip\")\n",
    "\n",
    "# Defining the environment variables for Windows 10 instance\n",
    "import os\n",
    "import sys\n",
    "os.environ[\"PYSPARK_PYTHON\"] = \"D:/Anaconda3/python\"\n",
    "os.environ[\"JAVA_HOME\"] = \"C:/Program Files/Java/jdk1.8.0_251/jre\"\n",
    "os.environ[\"SPARK_HOME\"] = \"D:/spark-2.4.4-bin-hadoop2.7\"\n",
    "os.environ[\"HADOOP_HOME\"] = \"D:/spark-2.4.4-bin-hadoop2.7\"\n",
    "os.environ[\"PYLIB\"] = os.environ[\"SPARK_HOME\"] + \"/python/lib\"\n",
    "sys.path.insert(0, os.environ[\"PYLIB\"] +\"/py4j-0.10.7-src.zip\")\n",
    "sys.path.insert(0, os.environ[\"PYLIB\"] +\"/pyspark.zip\")\n",
    "\n",
    "# Creating Spark Session \n",
    "from pyspark import SparkContext\n",
    "from pyspark.sql import SparkSession\n",
    "SparkContext.setSystemProperty('spark.executor.memory', '4g')\n",
    "spark = SparkSession.builder.appName('LR_FeatureEngg_ThresholdSelection').getOrCreate()\n",
    "spark"
   ]
  },
  {
   "cell_type": "code",
   "execution_count": 2,
   "metadata": {},
   "outputs": [
    {
     "name": "stdout",
     "output_type": "stream",
     "text": [
      "99999\n",
      "+-----+----+----------+--------+-----------+-------------+--------+----------+------------+---------+---------+------------+-----------+----------------+-----+---+---+----+---+---+------+---+-----+---------+---+----+---+\n",
      "|click|C1  |banner_pos|site_id |site_domain|site_category|app_id  |app_domain|app_category|device_id|device_ip|device_model|device_type|device_conn_type|C14  |C15|C16|C17 |C18|C19|C20   |C21|month|dayofweek|day|hour|y  |\n",
      "+-----+----+----------+--------+-----------+-------------+--------+----------+------------+---------+---------+------------+-----------+----------------+-----+---+---+----+---+---+------+---+-----+---------+---+----+---+\n",
      "|false|1005|1         |856e6d3f|58a89a43   |f028772b     |ecad2386|7801e8d9  |07d7df22    |a99f214a |962c8333 |be6db1d7    |1          |0               |22683|320|50 |2528|0  |39 |100075|221|10   |1        |28 |14  |0  |\n",
      "|true |1005|1         |e151e245|7e091613   |f028772b     |ecad2386|7801e8d9  |07d7df22    |a99f214a |5b1f94b9 |1b13b020    |1          |0               |17037|320|50 |1934|2  |39 |-1    |16 |10   |2        |22 |19  |1  |\n",
      "|false|1005|0         |e3c09f3a|d262cf1e   |28905ebd     |ecad2386|7801e8d9  |07d7df22    |a99f214a |a9a84f4c |9a45a8e8    |1          |0               |22155|320|50 |2552|3  |167|100202|23 |10   |3        |23 |18  |0  |\n",
      "+-----+----+----------+--------+-----------+-------------+--------+----------+------------+---------+---------+------------+-----------+----------------+-----+---+---+----+---+---+------+---+-----+---------+---+----+---+\n",
      "only showing top 3 rows\n",
      "\n"
     ]
    }
   ],
   "source": [
    "# read the data \n",
    "\n",
    "#df = sqlContext.read.csv('s3a://logistic-data/1l.csv', header=True, inferSchema=True)\n",
    "df = spark.read.csv('1l.csv', header=True, inferSchema=True)\n",
    "print(df.count())\n",
    "df.show(3, truncate=False)"
   ]
  },
  {
   "cell_type": "code",
   "execution_count": 3,
   "metadata": {},
   "outputs": [],
   "source": [
    "from pyspark.sql.types import IntegerType\n",
    "df = df.withColumn('y', df['click'].cast(IntegerType()))\n",
    "df = df.drop('click')"
   ]
  },
  {
   "cell_type": "code",
   "execution_count": 4,
   "metadata": {},
   "outputs": [
    {
     "name": "stdout",
     "output_type": "stream",
     "text": [
      "+--------+-----------+-------------+--------+----------+------------+\n",
      "|site_id |site_domain|site_category|app_id  |app_domain|app_category|\n",
      "+--------+-----------+-------------+--------+----------+------------+\n",
      "|856e6d3f|58a89a43   |f028772b     |ecad2386|7801e8d9  |07d7df22    |\n",
      "|e151e245|7e091613   |f028772b     |ecad2386|7801e8d9  |07d7df22    |\n",
      "|e3c09f3a|d262cf1e   |28905ebd     |ecad2386|7801e8d9  |07d7df22    |\n",
      "|0da94452|248e439f   |50e219e0     |ecad2386|7801e8d9  |07d7df22    |\n",
      "|1fbe01fe|f3845767   |28905ebd     |ecad2386|7801e8d9  |07d7df22    |\n",
      "|d9750ee7|98572c79   |f028772b     |ecad2386|7801e8d9  |07d7df22    |\n",
      "|83a0ad1a|5c9ae867   |f028772b     |ecad2386|7801e8d9  |07d7df22    |\n",
      "|85f751fd|c4e18dd6   |50e219e0     |98fed791|d9b5648e  |0f2161f8    |\n",
      "|85f751fd|c4e18dd6   |50e219e0     |fc6dc16f|5c5a694b  |0f2161f8    |\n",
      "|1fbe01fe|f3845767   |28905ebd     |ecad2386|7801e8d9  |07d7df22    |\n",
      "|1fbe01fe|f3845767   |28905ebd     |ecad2386|7801e8d9  |07d7df22    |\n",
      "|57fe1b20|5b626596   |f028772b     |ecad2386|7801e8d9  |07d7df22    |\n",
      "|85f751fd|c4e18dd6   |50e219e0     |febd1138|82e27996  |0f2161f8    |\n",
      "|1fbe01fe|f3845767   |28905ebd     |ecad2386|7801e8d9  |07d7df22    |\n",
      "|5b08c53b|7687a86e   |3e814130     |ecad2386|7801e8d9  |07d7df22    |\n",
      "|ac696ed4|c7dcd9d1   |f66779e6     |ecad2386|7801e8d9  |07d7df22    |\n",
      "|b99a2c43|cc962a1f   |f028772b     |ecad2386|7801e8d9  |07d7df22    |\n",
      "|85f751fd|c4e18dd6   |50e219e0     |92f5800b|ae637522  |0f2161f8    |\n",
      "|5bcf81a2|9d54950b   |f028772b     |ecad2386|7801e8d9  |07d7df22    |\n",
      "|85f751fd|c4e18dd6   |50e219e0     |ce183bbd|ae637522  |cef3e649    |\n",
      "+--------+-----------+-------------+--------+----------+------------+\n",
      "only showing top 20 rows\n",
      "\n"
     ]
    }
   ],
   "source": [
    "# select the columns 'site_id','site_domain','site_category','app_id','app_domain','app_category' and display them, \n",
    "# so that you can analyse the values as they were shown in the segment\n",
    "\n",
    "df.select('site_id','site_domain','site_category','app_id','app_domain','app_category').show(truncate=False)"
   ]
  },
  {
   "cell_type": "code",
   "execution_count": 6,
   "metadata": {},
   "outputs": [
    {
     "name": "stdout",
     "output_type": "stream",
     "text": [
      "+----+----------+--------+-----------+-------------+--------+----------+------------+---------+---------+------------+-----------+----------------+-----+---+---+----+---+---+------+---+-----+---------+---+----+---+--------+----------+------------+\n",
      "|C1  |banner_pos|site_id |site_domain|site_category|app_id  |app_domain|app_category|device_id|device_ip|device_model|device_type|device_conn_type|C14  |C15|C16|C17 |C18|C19|C20   |C21|month|dayofweek|day|hour|y  |pub_id  |pub_domain|pub_category|\n",
      "+----+----------+--------+-----------+-------------+--------+----------+------------+---------+---------+------------+-----------+----------------+-----+---+---+----+---+---+------+---+-----+---------+---+----+---+--------+----------+------------+\n",
      "|1005|1         |856e6d3f|58a89a43   |f028772b     |ecad2386|7801e8d9  |07d7df22    |a99f214a |962c8333 |be6db1d7    |1          |0               |22683|320|50 |2528|0  |39 |100075|221|10   |1        |28 |14  |0  |856e6d3f|58a89a43  |f028772b    |\n",
      "|1005|1         |e151e245|7e091613   |f028772b     |ecad2386|7801e8d9  |07d7df22    |a99f214a |5b1f94b9 |1b13b020    |1          |0               |17037|320|50 |1934|2  |39 |-1    |16 |10   |2        |22 |19  |1  |e151e245|7e091613  |f028772b    |\n",
      "|1005|0         |e3c09f3a|d262cf1e   |28905ebd     |ecad2386|7801e8d9  |07d7df22    |a99f214a |a9a84f4c |9a45a8e8    |1          |0               |22155|320|50 |2552|3  |167|100202|23 |10   |3        |23 |18  |0  |e3c09f3a|d262cf1e  |28905ebd    |\n",
      "+----+----------+--------+-----------+-------------+--------+----------+------------+---------+---------+------------+-----------+----------------+-----+---+---+----+---+---+------+---+-----+---------+---+----+---+--------+----------+------------+\n",
      "only showing top 3 rows\n",
      "\n"
     ]
    }
   ],
   "source": [
    "# create 3 new columns in the dataframe named 'pub_id','pub_domain','pub_category' \n",
    "# these columns will have the data from 'site_id','site_domain','site_category'\n",
    "# Use the withColumn method \n",
    "\n",
    "df = df.withColumn('pub_id', df['site_id'])\n",
    "df = df.withColumn('pub_domain', df['site_domain'])\n",
    "df = df.withColumn('pub_category', df['site_category'])\n",
    "df.show(3, truncate=False)"
   ]
  },
  {
   "cell_type": "code",
   "execution_count": 7,
   "metadata": {},
   "outputs": [
    {
     "name": "stdout",
     "output_type": "stream",
     "text": [
      "+----+----------+--------+-----------+-------------+--------+----------+------------+---------+---------+------------+-----------+----------------+-----+---+---+----+---+---+------+---+-----+---------+---+----+---+--------+----------+------------+\n",
      "|C1  |banner_pos|site_id |site_domain|site_category|app_id  |app_domain|app_category|device_id|device_ip|device_model|device_type|device_conn_type|C14  |C15|C16|C17 |C18|C19|C20   |C21|month|dayofweek|day|hour|y  |pub_id  |pub_domain|pub_category|\n",
      "+----+----------+--------+-----------+-------------+--------+----------+------------+---------+---------+------------+-----------+----------------+-----+---+---+----+---+---+------+---+-----+---------+---+----+---+--------+----------+------------+\n",
      "|1005|1         |856e6d3f|58a89a43   |f028772b     |ecad2386|7801e8d9  |07d7df22    |a99f214a |962c8333 |be6db1d7    |1          |0               |22683|320|50 |2528|0  |39 |100075|221|10   |1        |28 |14  |0  |856e6d3f|58a89a43  |f028772b    |\n",
      "|1005|1         |e151e245|7e091613   |f028772b     |ecad2386|7801e8d9  |07d7df22    |a99f214a |5b1f94b9 |1b13b020    |1          |0               |17037|320|50 |1934|2  |39 |-1    |16 |10   |2        |22 |19  |1  |e151e245|7e091613  |f028772b    |\n",
      "|1005|0         |e3c09f3a|d262cf1e   |28905ebd     |ecad2386|7801e8d9  |07d7df22    |a99f214a |a9a84f4c |9a45a8e8    |1          |0               |22155|320|50 |2552|3  |167|100202|23 |10   |3        |23 |18  |0  |e3c09f3a|d262cf1e  |28905ebd    |\n",
      "+----+----------+--------+-----------+-------------+--------+----------+------------+---------+---------+------------+-----------+----------------+-----+---+---+----+---+---+------+---+-----+---------+---+----+---+--------+----------+------------+\n",
      "only showing top 3 rows\n",
      "\n"
     ]
    }
   ],
   "source": [
    "# replace the values in the columns 'pub_id','pub_domain','pub_category' with the values 'app_id','app_domain','app_category'\n",
    "# the replacement should only happen if the value in site_id is '85f751fd'\n",
    "# you will need withColumn and when functions\n",
    "\n",
    "from pyspark.sql.functions import col, when\n",
    "df = df.withColumn('pub_id', when(col('site_id') == '85f751fd', col('app_id')).otherwise(col('site_id')))\n",
    "df = df.withColumn('pub_domain', when(col('site_id') == '85f751fd', col('app_domain')).otherwise(col('site_domain')))\n",
    "df = df.withColumn('pub_category', when(col('site_id') == '85f751fd', col('app_category')).otherwise(col('site_category')))\n",
    "df.show(3, truncate=False)"
   ]
  },
  {
   "cell_type": "code",
   "execution_count": 8,
   "metadata": {},
   "outputs": [
    {
     "name": "stdout",
     "output_type": "stream",
     "text": [
      "+----+----------+---------+---------+------------+-----------+----------------+-----+---+---+----+---+---+------+---+-----+---------+---+----+---+--------+----------+------------+\n",
      "|C1  |banner_pos|device_id|device_ip|device_model|device_type|device_conn_type|C14  |C15|C16|C17 |C18|C19|C20   |C21|month|dayofweek|day|hour|y  |pub_id  |pub_domain|pub_category|\n",
      "+----+----------+---------+---------+------------+-----------+----------------+-----+---+---+----+---+---+------+---+-----+---------+---+----+---+--------+----------+------------+\n",
      "|1005|1         |a99f214a |962c8333 |be6db1d7    |1          |0               |22683|320|50 |2528|0  |39 |100075|221|10   |1        |28 |14  |0  |856e6d3f|58a89a43  |f028772b    |\n",
      "|1005|1         |a99f214a |5b1f94b9 |1b13b020    |1          |0               |17037|320|50 |1934|2  |39 |-1    |16 |10   |2        |22 |19  |1  |e151e245|7e091613  |f028772b    |\n",
      "|1005|0         |a99f214a |a9a84f4c |9a45a8e8    |1          |0               |22155|320|50 |2552|3  |167|100202|23 |10   |3        |23 |18  |0  |e3c09f3a|d262cf1e  |28905ebd    |\n",
      "+----+----------+---------+---------+------------+-----------+----------------+-----+---+---+----+---+---+------+---+-----+---------+---+----+---+--------+----------+------------+\n",
      "only showing top 3 rows\n",
      "\n"
     ]
    }
   ],
   "source": [
    "# drop all the columns which are now redundunt\n",
    "\n",
    "df = df.drop('site_id','site_domain','site_category','app_id','app_domain','app_category')\n",
    "df.show(3, truncate=False)"
   ]
  },
  {
   "cell_type": "code",
   "execution_count": 9,
   "metadata": {},
   "outputs": [
    {
     "name": "stdout",
     "output_type": "stream",
     "text": [
      "+---------+-----+\n",
      "|device_id|count|\n",
      "+---------+-----+\n",
      "|a99f214a |82579|\n",
      "|c357dbff |62   |\n",
      "|0f7c61dc |51   |\n",
      "|afeffc18 |34   |\n",
      "|936e92fb |27   |\n",
      "|cef4c8cc |12   |\n",
      "|28dc8687 |11   |\n",
      "|d857ffbb |9    |\n",
      "|9af87478 |9    |\n",
      "|02da5312 |8    |\n",
      "|987552d1 |7    |\n",
      "|b09da1c4 |7    |\n",
      "|03559b29 |6    |\n",
      "|3cdb4052 |6    |\n",
      "|abab24a7 |5    |\n",
      "|1168ce02 |5    |\n",
      "|243bd3ab |4    |\n",
      "|69401309 |4    |\n",
      "|d2e4c0ab |4    |\n",
      "|2c112522 |4    |\n",
      "+---------+-----+\n",
      "only showing top 20 rows\n",
      "\n"
     ]
    }
   ],
   "source": [
    "# check the frequency of each category in device_id. did you get a similar distribution to the one shown in the segment? \n",
    "# use groupBy and count\n",
    "\n",
    "from pyspark.sql.functions import desc\n",
    "df.groupby('device_id').count().sort(desc('count')).show(truncate=False)"
   ]
  },
  {
   "cell_type": "code",
   "execution_count": 10,
   "metadata": {},
   "outputs": [
    {
     "name": "stdout",
     "output_type": "stream",
     "text": [
      "+----+----------+---------+---------+------------+-----------+----------------+-----+---+---+----+---+---+------+---+-----+---------+---+----+---+--------+----------+------------+-----------------+\n",
      "|C1  |banner_pos|device_id|device_ip|device_model|device_type|device_conn_type|C14  |C15|C16|C17 |C18|C19|C20   |C21|month|dayofweek|day|hour|y  |pub_id  |pub_domain|pub_category|user             |\n",
      "+----+----------+---------+---------+------------+-----------+----------------+-----+---+---+----+---+---+------+---+-----+---------+---+----+---+--------+----------+------------+-----------------+\n",
      "|1005|1         |a99f214a |962c8333 |be6db1d7    |1          |0               |22683|320|50 |2528|0  |39 |100075|221|10   |1        |28 |14  |0  |856e6d3f|58a89a43  |f028772b    |962c8333-be6db1d7|\n",
      "|1005|1         |a99f214a |5b1f94b9 |1b13b020    |1          |0               |17037|320|50 |1934|2  |39 |-1    |16 |10   |2        |22 |19  |1  |e151e245|7e091613  |f028772b    |5b1f94b9-1b13b020|\n",
      "|1005|0         |a99f214a |a9a84f4c |9a45a8e8    |1          |0               |22155|320|50 |2552|3  |167|100202|23 |10   |3        |23 |18  |0  |e3c09f3a|d262cf1e  |28905ebd    |a9a84f4c-9a45a8e8|\n",
      "+----+----------+---------+---------+------------+-----------+----------------+-----+---+---+----+---+---+------+---+-----+---------+---+----+---+--------+----------+------------+-----------------+\n",
      "only showing top 3 rows\n",
      "\n"
     ]
    }
   ],
   "source": [
    "# combine device_ip and device_model to form a new column which can identify users. \n",
    "# name the new column 'user' with data from device_id\n",
    "\n",
    "# In that column whereever the device_id is missing use a combination of device_ip and device_model\n",
    "# You will have to use the withcolumn along with a when condition. \n",
    "# You will the combination of device ip and device model can be done using the following code. \n",
    "from pyspark.sql import functions as sf\n",
    "#sf.concat(sf.col('device_ip'),sf.lit('-'),sf.col('device_model'))\n",
    "\n",
    "# use this code inside a when condition\n",
    "df = df.withColumn('user', when(col('device_id') == 'a99f214a',\n",
    "                                  sf.concat(sf.col('device_ip'),sf.lit('-'),sf.col('device_model')))\n",
    "                                 .otherwise(col('device_id')))\n",
    "df.show(3, truncate=False)"
   ]
  },
  {
   "cell_type": "code",
   "execution_count": 11,
   "metadata": {},
   "outputs": [
    {
     "name": "stdout",
     "output_type": "stream",
     "text": [
      "+-----------------+----+----------+---------+---------+------------+-----------+----------------+-----+---+---+----+---+---+------+---+-----+---------+---+----+---+--------+----------+------------+---------+\n",
      "|user             |C1  |banner_pos|device_id|device_ip|device_model|device_type|device_conn_type|C14  |C15|C16|C17 |C18|C19|C20   |C21|month|dayofweek|day|hour|y  |pub_id  |pub_domain|pub_category|user_freq|\n",
      "+-----------------+----+----------+---------+---------+------------+-----------+----------------+-----+---+---+----+---+---+------+---+-----+---------+---+----+---+--------+----------+------------+---------+\n",
      "|962c8333-be6db1d7|1005|1         |a99f214a |962c8333 |be6db1d7    |1          |0               |22683|320|50 |2528|0  |39 |100075|221|10   |1        |28 |14  |0  |856e6d3f|58a89a43  |f028772b    |1        |\n",
      "|5b1f94b9-1b13b020|1005|1         |a99f214a |5b1f94b9 |1b13b020    |1          |0               |17037|320|50 |1934|2  |39 |-1    |16 |10   |2        |22 |19  |1  |e151e245|7e091613  |f028772b    |1        |\n",
      "|a9a84f4c-9a45a8e8|1005|0         |a99f214a |a9a84f4c |9a45a8e8    |1          |0               |22155|320|50 |2552|3  |167|100202|23 |10   |3        |23 |18  |0  |e3c09f3a|d262cf1e  |28905ebd    |1        |\n",
      "+-----------------+----+----------+---------+---------+------------+-----------+----------------+-----+---+---+----+---+---+------+---+-----+---------+---+----+---+--------+----------+------------+---------+\n",
      "only showing top 3 rows\n",
      "\n"
     ]
    }
   ],
   "source": [
    "# find the frequency of each category in the user column, save this frequency in a new column in the data frame\n",
    "# join this dataframe with the earlier df, make sure that when you join, all the rows\n",
    "# from the original table need to be present in the final table as well.\n",
    "# use the join table command\n",
    "\n",
    "user_counts = df.groupby('user').count().select(col('user'), col('count').alias('user_freq'))\n",
    "df = df.join(user_counts, on=['user'], how='left')\n",
    "df.show(3, truncate=False)"
   ]
  },
  {
   "cell_type": "code",
   "execution_count": 12,
   "metadata": {},
   "outputs": [
    {
     "name": "stdout",
     "output_type": "stream",
     "text": [
      "+--------------------+-----------------+----+----------+---------+---------+------------+-----------+----------------+-----+---+---+----+---+---+------+---+-----+---------+---+----+---+--------+----------+------------+---------+--------------+\n",
      "|user_hour           |user             |C1  |banner_pos|device_id|device_ip|device_model|device_type|device_conn_type|C14  |C15|C16|C17 |C18|C19|C20   |C21|month|dayofweek|day|hour|y  |pub_id  |pub_domain|pub_category|user_freq|user_hour_freq|\n",
      "+--------------------+-----------------+----+----------+---------+---------+------------+-----------+----------------+-----+---+---+----+---+---+------+---+-----+---------+---+----+---+--------+----------+------------+---------+--------------+\n",
      "|0030a365-6332421a_21|0030a365-6332421a|1005|0         |a99f214a |0030a365 |6332421a    |1          |0               |15705|320|50 |1722|0  |35 |-1    |79 |10   |2        |22 |21  |1  |1fbe01fe|f3845767  |28905ebd    |1        |1             |\n",
      "|00419924-5096d134_14|00419924-5096d134|1005|0         |a99f214a |00419924 |5096d134    |1          |0               |23441|320|50 |2685|1  |33 |100083|212|10   |1        |28 |14  |0  |a04d4526|7f3c543c  |335d28a8    |1        |1             |\n",
      "|009a7861-5b799d60_7 |009a7861-5b799d60|1005|1         |a99f214a |009a7861 |5b799d60    |1          |0               |22246|320|50 |2566|3  |47 |100156|42 |10   |0        |27 |7   |0  |a7853007|7e091613  |f028772b    |8        |1             |\n",
      "+--------------------+-----------------+----+----------+---------+---------+------------+-----------+----------------+-----+---+---+----+---+---+------+---+-----+---------+---+----+---+--------+----------+------------+---------+--------------+\n",
      "only showing top 3 rows\n",
      "\n"
     ]
    }
   ],
   "source": [
    "# combine user and hour column to make a new columns user-hour. \n",
    "# again add a column with the frequency of occurance of each user-hour combination\n",
    "\n",
    "df = df.withColumn('user_hour', sf.concat(sf.col('user'),sf.lit('_'),sf.col('hour')))\n",
    "user_hour_counts = df.groupby('user_hour').count().select(col('user_hour'), col('count').alias('user_hour_freq'))\n",
    "df = df.join(user_hour_counts, on=['user_hour'], how='left')\n",
    "df.show(3, truncate=False)"
   ]
  },
  {
   "cell_type": "code",
   "execution_count": 13,
   "metadata": {},
   "outputs": [
    {
     "name": "stdout",
     "output_type": "stream",
     "text": [
      "root\n",
      " |-- user_hour: string (nullable = true)\n",
      " |-- user: string (nullable = true)\n",
      " |-- C1: integer (nullable = true)\n",
      " |-- banner_pos: integer (nullable = true)\n",
      " |-- device_type: integer (nullable = true)\n",
      " |-- device_conn_type: integer (nullable = true)\n",
      " |-- C14: integer (nullable = true)\n",
      " |-- C15: integer (nullable = true)\n",
      " |-- C16: integer (nullable = true)\n",
      " |-- C17: integer (nullable = true)\n",
      " |-- C18: integer (nullable = true)\n",
      " |-- C19: integer (nullable = true)\n",
      " |-- C20: integer (nullable = true)\n",
      " |-- C21: integer (nullable = true)\n",
      " |-- dayofweek: integer (nullable = true)\n",
      " |-- day: integer (nullable = true)\n",
      " |-- hour: integer (nullable = true)\n",
      " |-- y: integer (nullable = true)\n",
      " |-- pub_id: string (nullable = true)\n",
      " |-- pub_domain: string (nullable = true)\n",
      " |-- pub_category: string (nullable = true)\n",
      " |-- user_freq: long (nullable = true)\n",
      " |-- user_hour_freq: long (nullable = true)\n",
      "\n"
     ]
    }
   ],
   "source": [
    "# drop all redundant columns\n",
    "\n",
    "df = df.drop('device_id','device_ip','device_model','month')\n",
    "df.printSchema()"
   ]
  },
  {
   "cell_type": "code",
   "execution_count": 14,
   "metadata": {},
   "outputs": [
    {
     "name": "stdout",
     "output_type": "stream",
     "text": [
      "+---------+-----+---+----------+-----------+----------------+----+---+---+---+---+---+---+---+---------+---+----+---+------+----------+------------+---------+--------------+\n",
      "|user_hour| user| C1|banner_pos|device_type|device_conn_type| C14|C15|C16|C17|C18|C19|C20|C21|dayofweek|day|hour|  y|pub_id|pub_domain|pub_category|user_freq|user_hour_freq|\n",
      "+---------+-----+---+----------+-----------+----------------+----+---+---+---+---+---+---+---+---------+---+----+---+------+----------+------------+---------+--------------+\n",
      "|    97154|91487|  7|         7|          4|               4|1722|  8|  9|399|  4| 64|154| 60|        7| 10|  24|  2|  2837|      1427|          40|       45|            12|\n",
      "+---------+-----+---+----------+-----------+----------------+----+---+---+---+---+---+---+---+---------+---+----+---+------+----------+------------+---------+--------------+\n",
      "\n"
     ]
    }
   ],
   "source": [
    "# find the number of categories in each columns \n",
    "# use the countdistinct method\n",
    "# create a list of all columns and then loop through each column counting the distinct values in it. \n",
    "\n",
    "from pyspark.sql.functions import col, countDistinct\n",
    "\n",
    "df.agg(*(countDistinct(col(c)).alias(c) for c in df.columns)).show()\n",
    "\n",
    "# here * instructs the add function to accept whatever number of columns are inside the brakets. "
   ]
  },
  {
   "cell_type": "code",
   "execution_count": 16,
   "metadata": {},
   "outputs": [
    {
     "name": "stdout",
     "output_type": "stream",
     "text": [
      "+----+----------+-----------+----------------+---+---+----+---+---+------+---+---------+---+----+---+------------+---------+--------------+\n",
      "|C1  |banner_pos|device_type|device_conn_type|C15|C16|C17 |C18|C19|C20   |C21|dayofweek|day|hour|y  |pub_category|user_freq|user_hour_freq|\n",
      "+----+----------+-----------+----------------+---+---+----+---+---+------+---+---------+---+----+---+------------+---------+--------------+\n",
      "|1005|0         |1          |0               |320|50 |1722|0  |35 |-1    |79 |2        |22 |21  |1  |28905ebd    |1        |1             |\n",
      "|1005|0         |1          |0               |320|50 |2685|1  |33 |100083|212|1        |28 |14  |0  |335d28a8    |1        |1             |\n",
      "|1005|1         |1          |0               |320|50 |2566|3  |47 |100156|42 |0        |27 |7   |0  |f028772b    |8        |1             |\n",
      "+----+----------+-----------+----------------+---+---+----+---+---+------+---+---------+---+----+---+------------+---------+--------------+\n",
      "only showing top 3 rows\n",
      "\n"
     ]
    }
   ],
   "source": [
    "# drop columns which have lot of distinct categories.\n",
    "\n",
    "df = df.drop('user_hour','user','C14','pub_id','pub_domain')\n",
    "df.show(3, truncate=False)"
   ]
  },
  {
   "cell_type": "markdown",
   "metadata": {},
   "source": [
    "# Algorithm Building\n",
    "\n",
    "Earlier in the module, Jaidev has performed model building exercise. You can refer to his notebooks for help.."
   ]
  },
  {
   "cell_type": "code",
   "execution_count": 17,
   "metadata": {},
   "outputs": [],
   "source": [
    "# import all the necessary libraries \n",
    "\n",
    "from pyspark.sql.functions import udf\n",
    "from pyspark.ml.feature import StringIndexer, OneHotEncoderEstimator, VectorAssembler\n",
    "from pyspark.ml.classification import LogisticRegression"
   ]
  },
  {
   "cell_type": "code",
   "execution_count": 18,
   "metadata": {},
   "outputs": [
    {
     "data": {
      "text/plain": [
       "['C1',\n",
       " 'banner_pos',\n",
       " 'device_type',\n",
       " 'device_conn_type',\n",
       " 'C15',\n",
       " 'C16',\n",
       " 'C17',\n",
       " 'C18',\n",
       " 'C19',\n",
       " 'C20',\n",
       " 'C21']"
      ]
     },
     "execution_count": 18,
     "metadata": {},
     "output_type": "execute_result"
    }
   ],
   "source": [
    "# create a list of categorical columns wich are represented by integers. these will not be sent through the string indexer\n",
    "cCols = ['C1', 'banner_pos', 'device_type', 'device_conn_type']\n",
    "cCols += ['C{}'.format(i) for i in range(15, 22)]\n",
    "cCols"
   ]
  },
  {
   "cell_type": "code",
   "execution_count": 19,
   "metadata": {},
   "outputs": [],
   "source": [
    "# if you remember form the earlier model building exercise the column C20 has negative values. \n",
    "# replace the negative values with 0. you can use the same UDF made by Jaidev. \n",
    "\n",
    "posMapper = udf(lambda x: 0 if x < 0 else x)\n",
    "df = df.withColumn('C20_1', posMapper(df['C20']))\n",
    "df = df.withColumn('C20_1int', df['C20_1'].cast(IntegerType()))\n",
    "df = df.drop('C20','C20_1')"
   ]
  },
  {
   "cell_type": "code",
   "execution_count": 20,
   "metadata": {},
   "outputs": [],
   "source": [
    "# run the string indexer on the columns which are categorical but are represented by strings.\n",
    "\n",
    "si = StringIndexer(inputCol='pub_category', outputCol='pub_category_ix')\n",
    "df = si.fit(df).transform(df)"
   ]
  },
  {
   "cell_type": "code",
   "execution_count": 21,
   "metadata": {},
   "outputs": [
    {
     "data": {
      "text/plain": [
       "['C1',\n",
       " 'banner_pos',\n",
       " 'device_type',\n",
       " 'device_conn_type',\n",
       " 'C15',\n",
       " 'C16',\n",
       " 'C17',\n",
       " 'C18',\n",
       " 'C19',\n",
       " 'C21',\n",
       " 'C20_1int',\n",
       " 'pub_category_ix']"
      ]
     },
     "execution_count": 21,
     "metadata": {},
     "output_type": "execute_result"
    }
   ],
   "source": [
    "# add the resultant columns from string indexer into the categorical columns list. \n",
    "# make sure that you have the right column name for C20 as it has been processed separately.\n",
    "\n",
    "cCols += ['C20_1int','pub_category_ix']\n",
    "cCols.remove('C20')\n",
    "cCols"
   ]
  },
  {
   "cell_type": "code",
   "execution_count": 22,
   "metadata": {},
   "outputs": [],
   "source": [
    "# run all the categorical columns through the one hot encoder\n",
    "\n",
    "ohe = OneHotEncoderEstimator(inputCols=cCols, outputCols=[c+'Enc' for c in cCols])\n",
    "df = ohe.fit(df).transform(df)"
   ]
  },
  {
   "cell_type": "code",
   "execution_count": 23,
   "metadata": {},
   "outputs": [
    {
     "name": "stdout",
     "output_type": "stream",
     "text": [
      "+----+----------+-----------+----------------+---+---+----+---+---+---+---------+---+----+---+------------+---------+--------------+--------+---------------+------------------+-----------------+-------------------+-------------------+-----------------+------------------+--------------+-------------------+-----------------+-------------+-------------+-----------------------+-------------------------------------------------------------------------------------------------------------------------------------------------------------------------------------+\n",
      "|C1  |banner_pos|device_type|device_conn_type|C15|C16|C17 |C18|C19|C21|dayofweek|day|hour|y  |pub_category|user_freq|user_hour_freq|C20_1int|pub_category_ix|C15Enc            |C21Enc           |C17Enc             |device_conn_typeEnc|C19Enc           |pub_category_ixEnc|device_typeEnc|C1Enc              |C16Enc           |C18Enc       |banner_posEnc|C20_1intEnc            |features                                                                                                                                                                             |\n",
      "+----+----------+-----------+----------------+---+---+----+---+---+---+---------+---+----+---+------------+---------+--------------+--------+---------------+------------------+-----------------+-------------------+-------------------+-----------------+------------------+--------------+-------------------+-----------------+-------------+-------------+-----------------------+-------------------------------------------------------------------------------------------------------------------------------------------------------------------------------------+\n",
      "|1005|0         |1          |0               |320|50 |1722|0  |35 |79 |2        |22 |21  |1  |28905ebd    |1        |1             |0       |2.0            |(1024,[320],[1.0])|(255,[79],[1.0]) |(2757,[1722],[1.0])|(5,[0],[1.0])      |(1839,[35],[1.0])|(39,[2],[1.0])    |(5,[1],[1.0]) |(1012,[1005],[1.0])|(1024,[50],[1.0])|(3,[0],[1.0])|(7,[0],[1.0])|(100248,[0],[1.0])     |(108223,[1005,1012,1020,1024,1349,2103,4799,5834,5872,7755,7931,108181,108218,108219,108220,108221,108222],[1.0,1.0,1.0,1.0,1.0,1.0,1.0,1.0,1.0,1.0,1.0,1.0,2.0,22.0,21.0,1.0,1.0])  |\n",
      "|1005|0         |1          |0               |320|50 |2685|1  |33 |212|1        |28 |14  |0  |335d28a8    |1        |1             |100083  |11.0           |(1024,[320],[1.0])|(255,[212],[1.0])|(2757,[2685],[1.0])|(5,[0],[1.0])      |(1839,[33],[1.0])|(39,[11],[1.0])   |(5,[1],[1.0]) |(1012,[1005],[1.0])|(1024,[50],[1.0])|(3,[1],[1.0])|(7,[0],[1.0])|(100248,[100083],[1.0])|(108223,[1005,1012,1020,1024,1349,2103,5762,5835,5870,7888,108014,108190,108218,108219,108220,108221,108222],[1.0,1.0,1.0,1.0,1.0,1.0,1.0,1.0,1.0,1.0,1.0,1.0,1.0,28.0,14.0,1.0,1.0])|\n",
      "|1005|1         |1          |0               |320|50 |2566|3  |47 |42 |0        |27 |7   |0  |f028772b    |8        |1             |100156  |0.0            |(1024,[320],[1.0])|(255,[42],[1.0]) |(2757,[2566],[1.0])|(5,[0],[1.0])      |(1839,[47],[1.0])|(39,[0],[1.0])    |(5,[1],[1.0]) |(1012,[1005],[1.0])|(1024,[50],[1.0])|(3,[],[])    |(7,[1],[1.0])|(100248,[100156],[1.0])|(108223,[1005,1013,1020,1024,1349,2103,5643,5884,7718,108087,108179,108219,108220,108221,108222],[1.0,1.0,1.0,1.0,1.0,1.0,1.0,1.0,1.0,1.0,1.0,27.0,7.0,8.0,1.0])                     |\n",
      "+----+----------+-----------+----------------+---+---+----+---+---+---+---------+---+----+---+------------+---------+--------------+--------+---------------+------------------+-----------------+-------------------+-------------------+-----------------+------------------+--------------+-------------------+-----------------+-------------+-------------+-----------------------+-------------------------------------------------------------------------------------------------------------------------------------------------------------------------------------+\n",
      "only showing top 3 rows\n",
      "\n"
     ]
    }
   ],
   "source": [
    "# use the vector assember to combine all the encoded columns and the continuous variable columns \n",
    "\n",
    "numerical = ['dayofweek', 'day', 'hour', 'user_freq', 'user_hour_freq']\n",
    "trainCols = [c+'Enc' for c in cCols] + numerical\n",
    "assembler = VectorAssembler(inputCols=trainCols, outputCol='features')\n",
    "df = assembler.transform(df)\n",
    "df.show(3, truncate=False)"
   ]
  },
  {
   "cell_type": "code",
   "execution_count": 24,
   "metadata": {},
   "outputs": [
    {
     "name": "stdout",
     "output_type": "stream",
     "text": [
      "df_train count = 69999 | df_test count = 30000\n"
     ]
    }
   ],
   "source": [
    "# split the data into training and testing data set\n",
    "\n",
    "from math import floor\n",
    "from pyspark.sql.functions import rand\n",
    "from pyspark.sql.functions import col\n",
    "\n",
    "def stratifiedSample(df, N, labelCol='y'):\n",
    "    ctx = df.groupby(labelCol).count()\n",
    "    ctx = ctx.withColumn('frac', col('count') / df.count())\n",
    "    frac = ctx.select('y', 'frac').rdd.collectAsMap()\n",
    "    pos = int(floor(frac[1] * N))\n",
    "    neg = int(floor(frac[0] * N))\n",
    "    posDF = df.filter(col(labelCol) == 1).orderBy(rand()).limit(pos)\n",
    "    negDF = df.filter(col(labelCol) == 0).orderBy(rand()).limit(neg)\n",
    "    return posDF.unionAll(negDF)\n",
    "\n",
    "df_train = stratifiedSample(df, 70000)\n",
    "df_test = df.exceptAll(df_train)\n",
    "print('df_train count =', df_train.count(), '| df_test count =', df_test.count())"
   ]
  },
  {
   "cell_type": "code",
   "execution_count": 25,
   "metadata": {},
   "outputs": [],
   "source": [
    "# train model in the training dataset \n",
    "\n",
    "lr = LogisticRegression(featuresCol='features', labelCol='y')\n",
    "model = lr.fit(df_train)\n",
    "result = model.evaluate(df_train)\n",
    "\n",
    "# print('Training data ROC_AUC =', result.areaUnderROC, '| RecallByLabel =', result.recallByLabel)"
   ]
  },
  {
   "cell_type": "code",
   "execution_count": 26,
   "metadata": {},
   "outputs": [],
   "source": [
    "# use the model to predict the class labels of test data.\n",
    "\n",
    "test_results = model.evaluate(df_test)\n",
    "\n",
    "# print('Test data ROC_AUC =', test_results.areaUnderROC, '| RecallByLabel =', test_results.recallByLabel)"
   ]
  },
  {
   "cell_type": "code",
   "execution_count": 27,
   "metadata": {},
   "outputs": [
    {
     "data": {
      "text/plain": [
       "<pyspark.ml.classification.BinaryLogisticRegressionSummary at 0x1fb3c9a3648>"
      ]
     },
     "execution_count": 27,
     "metadata": {},
     "output_type": "execute_result"
    }
   ],
   "source": [
    "test_results"
   ]
  },
  {
   "cell_type": "code",
   "execution_count": 29,
   "metadata": {},
   "outputs": [
    {
     "name": "stdout",
     "output_type": "stream",
     "text": [
      "+---+-------------------+----------+\n",
      "|y  |positive_class_prob|prediction|\n",
      "+---+-------------------+----------+\n",
      "|0  |0.056723718        |0.0       |\n",
      "|0  |0.056723718        |0.0       |\n",
      "|0  |0.056723718        |0.0       |\n",
      "|0  |0.31154746         |0.0       |\n",
      "|0  |0.31154746         |0.0       |\n",
      "|0  |0.16098073         |0.0       |\n",
      "|0  |0.16098073         |0.0       |\n",
      "|0  |0.04943475         |0.0       |\n",
      "|0  |0.04943475         |0.0       |\n",
      "|0  |0.04943475         |0.0       |\n",
      "|1  |0.034063395        |0.0       |\n",
      "|0  |0.1464754          |0.0       |\n",
      "|1  |0.29594463         |0.0       |\n",
      "|1  |0.24277216         |0.0       |\n",
      "|0  |0.16386552         |0.0       |\n",
      "|0  |0.19423026         |0.0       |\n",
      "|0  |0.19423026         |0.0       |\n",
      "|0  |0.19423026         |0.0       |\n",
      "|0  |0.19423026         |0.0       |\n",
      "|0  |0.19423026         |0.0       |\n",
      "+---+-------------------+----------+\n",
      "only showing top 20 rows\n",
      "\n"
     ]
    }
   ],
   "source": [
    "# analyse the predictions \n",
    "\n",
    "# the probability is a dense vector column. \n",
    "# You will have to find a way to access the value of the probability refering to the positive class. \n",
    "# create a function to access the probability of the positive class from the 'probability' column\n",
    "\n",
    "from pyspark.sql.types import FloatType\n",
    "element_extrac = udf(lambda v:float(v[1]),FloatType())\n",
    "df_predictions = test_results.predictions.select(col('y'), element_extrac(col('probability')).alias('positive_class_prob'), 'prediction')\n",
    "df_predictions.show(truncate=False)"
   ]
  },
  {
   "cell_type": "code",
   "execution_count": 32,
   "metadata": {},
   "outputs": [
    {
     "data": {
      "text/plain": [
       "DataFrame[y: int, positive_class_prob: float, prediction: double]"
      ]
     },
     "execution_count": 32,
     "metadata": {},
     "output_type": "execute_result"
    }
   ],
   "source": [
    "df_predictions.cache()"
   ]
  },
  {
   "cell_type": "code",
   "execution_count": 34,
   "metadata": {},
   "outputs": [
    {
     "name": "stdout",
     "output_type": "stream",
     "text": [
      "root\n",
      " |-- y: integer (nullable = true)\n",
      " |-- positive_class_prob: float (nullable = true)\n",
      " |-- prediction: double (nullable = false)\n",
      "\n"
     ]
    }
   ],
   "source": [
    "df_predictions.printSchema()"
   ]
  },
  {
   "cell_type": "code",
   "execution_count": 37,
   "metadata": {},
   "outputs": [],
   "source": [
    "# Write the prediction data frame so that when you need it you can directly call that dataframe. No need to train again\n",
    "# use your AWS account to create an S3 bucket\n",
    "\n",
    "#df_predictions.coalesce(1).write.csv(path='LR_Predictions.csv', header='true', mode='overwrite')\n",
    "df_pandas = df_predictions.toPandas()\n",
    "df_pandas.to_csv('LR_Predictions.csv', header=True, index=False)"
   ]
  },
  {
   "cell_type": "markdown",
   "metadata": {},
   "source": [
    "# Finding the right threshold\n"
   ]
  },
  {
   "cell_type": "code",
   "execution_count": 38,
   "metadata": {},
   "outputs": [
    {
     "data": {
      "text/html": [
       "<div>\n",
       "<style scoped>\n",
       "    .dataframe tbody tr th:only-of-type {\n",
       "        vertical-align: middle;\n",
       "    }\n",
       "\n",
       "    .dataframe tbody tr th {\n",
       "        vertical-align: top;\n",
       "    }\n",
       "\n",
       "    .dataframe thead th {\n",
       "        text-align: right;\n",
       "    }\n",
       "</style>\n",
       "<table border=\"1\" class=\"dataframe\">\n",
       "  <thead>\n",
       "    <tr style=\"text-align: right;\">\n",
       "      <th></th>\n",
       "      <th>y</th>\n",
       "      <th>positive_class_prob</th>\n",
       "      <th>prediction</th>\n",
       "    </tr>\n",
       "  </thead>\n",
       "  <tbody>\n",
       "    <tr>\n",
       "      <th>0</th>\n",
       "      <td>0</td>\n",
       "      <td>0.056724</td>\n",
       "      <td>0.0</td>\n",
       "    </tr>\n",
       "    <tr>\n",
       "      <th>1</th>\n",
       "      <td>0</td>\n",
       "      <td>0.056724</td>\n",
       "      <td>0.0</td>\n",
       "    </tr>\n",
       "    <tr>\n",
       "      <th>2</th>\n",
       "      <td>0</td>\n",
       "      <td>0.056724</td>\n",
       "      <td>0.0</td>\n",
       "    </tr>\n",
       "    <tr>\n",
       "      <th>3</th>\n",
       "      <td>0</td>\n",
       "      <td>0.311547</td>\n",
       "      <td>0.0</td>\n",
       "    </tr>\n",
       "    <tr>\n",
       "      <th>4</th>\n",
       "      <td>0</td>\n",
       "      <td>0.311547</td>\n",
       "      <td>0.0</td>\n",
       "    </tr>\n",
       "  </tbody>\n",
       "</table>\n",
       "</div>"
      ],
      "text/plain": [
       "   y  positive_class_prob  prediction\n",
       "0  0             0.056724         0.0\n",
       "1  0             0.056724         0.0\n",
       "2  0             0.056724         0.0\n",
       "3  0             0.311547         0.0\n",
       "4  0             0.311547         0.0"
      ]
     },
     "execution_count": 38,
     "metadata": {},
     "output_type": "execute_result"
    }
   ],
   "source": [
    "# Read the data from the result data frame you created.\n",
    "# Create a new data frame with only the columns y and probabilities \n",
    "\n",
    "import pandas as pd\n",
    "import numpy as np\n",
    "import matplotlib.pyplot as plt\n",
    "import seaborn as sns\n",
    "%matplotlib inline\n",
    "\n",
    "df_results = pd.read_csv('LR_Predictions.csv')\n",
    "df_results.head()"
   ]
  },
  {
   "cell_type": "code",
   "execution_count": 47,
   "metadata": {},
   "outputs": [
    {
     "name": "stdout",
     "output_type": "stream",
     "text": [
      "      Probability  Precision    Recall\n",
      "0.00         0.00   0.169800  1.000000\n",
      "0.02         0.02   0.176707  0.985866\n",
      "0.04         0.04   0.181096  0.975658\n",
      "0.06         0.06   0.191478  0.953671\n",
      "0.08         0.08   0.199101  0.922065\n",
      "0.10         0.10   0.209035  0.879270\n",
      "0.12         0.12   0.221934  0.821947\n",
      "0.14         0.14   0.235912  0.754417\n",
      "0.16         0.16   0.247752  0.703180\n",
      "0.18         0.18   0.255715  0.660974\n",
      "0.20         0.20   0.275183  0.553985\n",
      "0.22         0.22   0.300496  0.452101\n",
      "0.24         0.24   0.312548  0.396545\n",
      "0.26         0.26   0.332379  0.341971\n",
      "0.28         0.28   0.347981  0.287593\n",
      "0.30         0.30   0.374835  0.222811\n",
      "0.32         0.32   0.395507  0.193561\n",
      "0.34         0.34   0.413135  0.174126\n",
      "0.36         0.36   0.425400  0.161759\n",
      "0.38         0.38   0.448604  0.148214\n",
      "0.40         0.40   0.479109  0.101296\n",
      "0.42         0.42   0.501956  0.075579\n",
      "0.44         0.44   0.523673  0.071653\n",
      "0.46         0.46   0.536732  0.070279\n",
      "0.48         0.48   0.545752  0.065567\n",
      "0.50         0.50   0.567108  0.058893\n",
      "0.52         0.52   0.585973  0.050844\n",
      "0.54         0.54   0.597360  0.035532\n",
      "0.56         0.56   0.588235  0.029446\n",
      "0.58         0.58   0.595238  0.024539\n",
      "0.60         0.60   0.609756  0.019631\n",
      "0.62         0.62   0.629310  0.014331\n",
      "0.64         0.64   0.661538  0.008441\n",
      "0.66         0.66   0.702128  0.006478\n",
      "0.68         0.68   0.684211  0.005104\n",
      "0.70         0.70   0.500000  0.002159\n",
      "0.72         0.72   0.473684  0.001767\n",
      "0.74         0.74   0.470588  0.001570\n",
      "0.76         0.76   0.466667  0.001374\n",
      "0.78         0.78   0.500000  0.001374\n",
      "0.80         0.80   0.500000  0.001374\n",
      "0.82         0.82   0.538462  0.001374\n",
      "0.84         0.84   0.545455  0.001178\n",
      "0.86         0.86   0.571429  0.000785\n",
      "0.88         0.88   0.250000  0.000196\n",
      "0.90         0.90   0.250000  0.000196\n",
      "0.92         0.92   0.250000  0.000196\n",
      "0.94         0.94   0.333333  0.000196\n",
      "0.96         0.96   0.333333  0.000196\n",
      "0.98         0.98   0.333333  0.000196\n"
     ]
    }
   ],
   "source": [
    "# Now you have the probabilities, you task is to add a class column. \n",
    "# To create this column, compare the probabilities with the threshold and decide the class. \n",
    "# You can make a loop which will repeat the same action for different thresholds\n",
    "# Use the filter and count functions to find the true positives, false positives, false negatives. (inside the loop)\n",
    "# Using these values, find the precision and recall for different thresholds. (inside the loop)\n",
    "\n",
    "from sklearn import metrics\n",
    "from sklearn.metrics import confusion_matrix\n",
    "\n",
    "df_temp = df_results\n",
    "df_cutoffs = pd.DataFrame(columns = ['Probability','Precision','Recall'])\n",
    "numbers = [float(x)/50 for x in range(50)]\n",
    "\n",
    "# Let's create columns with different probability cutoffs \n",
    "for i in numbers:\n",
    "    df_temp[i] = df_temp['positive_class_prob'].map(lambda x: 1 if x > i else 0)\n",
    "\n",
    "# Now let's calculate precision and recall for various probability cutoffs.\n",
    "for i in numbers:\n",
    "    confusion = metrics.confusion_matrix(df_temp['y'], df_temp[i])\n",
    "    TP = confusion[1,1] # true positive \n",
    "    TN = confusion[0,0] # true negatives\n",
    "    FP = confusion[0,1] # false positives\n",
    "    FN = confusion[1,0] # false negatives\n",
    "    # print('TP =', TP, '| TN =', TN, '| FP =', FP, '| FN =', FN)\n",
    "    Precision = TP/(TP+FP)\n",
    "    Recall = TP/(TP+FN)\n",
    "    df_cutoffs.loc[i] = [i,Precision,Recall]\n",
    "    \n",
    "print(df_cutoffs)"
   ]
  },
  {
   "cell_type": "code",
   "execution_count": 48,
   "metadata": {},
   "outputs": [
    {
     "data": {
      "image/png": "[encoded data removed]",
      "text/plain": [
       "<Figure size 432x288 with 1 Axes>"
      ]
     },
     "metadata": {
      "needs_background": "light"
     },
     "output_type": "display_data"
    }
   ],
   "source": [
    "# Use the precision and recall to make a choice of threshold. \n",
    "\n",
    "# Let's plot Precision and Recall for the various probabilities\n",
    "df_cutoffs.plot.line(x='Probability', y=['Precision','Recall'])\n",
    "plt.show()"
   ]
  },
  {
   "cell_type": "markdown",
   "metadata": {},
   "source": [
    "### From above plot, we can see that the Precision and Recall roughly converge at probability value = 0.27, which can then be considered as the optimum point for the cutoff probability threshold !!!"
   ]
  },
  {
   "cell_type": "code",
   "execution_count": null,
   "metadata": {},
   "outputs": [],
   "source": []
  }
 ],
 "metadata": {
  "kernelspec": {
   "display_name": "Python 3",
   "language": "python",
   "name": "python3"
  },
  "language_info": {
   "codemirror_mode": {
    "name": "ipython",
    "version": 3
   },
   "file_extension": ".py",
   "mimetype": "text/x-python",
   "name": "python",
   "nbconvert_exporter": "python",
   "pygments_lexer": "ipython3",
   "version": "3.7.6"
  }
 },
 "nbformat": 4,
 "nbformat_minor": 4
}
