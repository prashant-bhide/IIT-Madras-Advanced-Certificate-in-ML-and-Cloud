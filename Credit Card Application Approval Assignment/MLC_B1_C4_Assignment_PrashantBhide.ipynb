{
 "cells": [
  {
   "cell_type": "markdown",
   "metadata": {},
   "source": [
    "# ML - I : Case study 1 : Credit Card Application Approval Model\n",
    "\n",
    "#### Learner: Prashant Bhide"
   ]
  },
  {
   "cell_type": "markdown",
   "metadata": {},
   "source": [
    "## Dataset Reference"
   ]
  },
  {
   "cell_type": "markdown",
   "metadata": {},
   "source": [
    "The data set has been taken from the following public S3 links:\n",
    "\n",
    "1. __Credit card application__: This contains the demographic information of the users who are applying for the credit card.<br>https://s3.amazonaws.com/sqoop.oozie.ml/application_record.csv <br><br>\n",
    "\n",
    "2. __Credit card performance__: This contains the performance of the users after they are issued the credit card. https://s3.amazonaws.com/sqoop.oozie.ml/credit_record.csv <br>\n"
   ]
  },
  {
   "cell_type": "markdown",
   "metadata": {},
   "source": [
    "## Objectives"
   ]
  },
  {
   "cell_type": "markdown",
   "metadata": {},
   "source": [
    "1. Perform EDA (Exploratory data analysis) to understand the data set and use well-considered visualisations to unwrap the insights.<br>\n",
    "<br>\n",
    "2. Perform any required checks such as variable exploration, outlier treatment, missing value imputation, variable transformation and correlation check.<br>\n",
    "<br>\n",
    "3. Apply the concepts of Weight of Evidence and Information Value to perform variable exploration and variable transformations.<br>\n",
    "<br>\n",
    "4. Once the data preprocessing is complete, build a credit card application approval model that predicts whether a customer's credit card is delinquent or not, solely based on the customer's application data. Use the credit card performance data to create the target variable, i.e., whether the customer's credit card is delinquent or not. The user ID will be classified as delinquent if the customer has ever delayed their payment by more than 60 days.<br>\n",
    "<br>\n",
    "5. Fine-tune the model and then evaluate the model by considering various metrics such as precision, recall, F1-score, AUC score and KS statistic.<br>"
   ]
  },
  {
   "cell_type": "markdown",
   "metadata": {},
   "source": [
    "## Exploratory Data Analysis"
   ]
  },
  {
   "cell_type": "markdown",
   "metadata": {},
   "source": [
    "### Preparing the development environment"
   ]
  },
  {
   "cell_type": "markdown",
   "metadata": {},
   "source": [
    "#### Importing the common libraries"
   ]
  },
  {
   "cell_type": "code",
   "execution_count": 122,
   "metadata": {},
   "outputs": [],
   "source": [
    "import os, sys, warnings\n",
    "import pandas as pd\n",
    "import numpy as np\n",
    "import seaborn as sns\n",
    "import matplotlib.pyplot as plt"
   ]
  },
  {
   "cell_type": "markdown",
   "metadata": {},
   "source": [
    "#### Defining the pyspark environment variables"
   ]
  },
  {
   "cell_type": "code",
   "execution_count": 3,
   "metadata": {},
   "outputs": [],
   "source": [
    "# Definitions for EC2 Linux instance\n",
    "# Here need to have same Python version on local machine and on worker node i.e. EC2. here both should have python3.\n",
    "#os.environ[\"PYSPARK_PYTHON\"] = \"/bin/python3\" (OR) \"/usr/bin/python3\"\n",
    "#os.environ[\"JAVA_HOME\"] = \"/usr/java/jdk1.8.0_161/jre\"\n",
    "#os.environ[\"SPARK_HOME\"] = \"/home/ec2-user/spark-2.4.4-bin-hadoop2.7\"\n",
    "#os.environ[\"PYLIB\"] = os.environ[\"SPARK_HOME\"] + \"/python/lib\"\n",
    "#sys.path.insert(0, os.environ[\"PYLIB\"] +\"/py4j-0.10.7-src.zip\")\n",
    "#sys.path.insert(0, os.environ[\"PYLIB\"] +\"/pyspark.zip\")\n",
    "\n",
    "# Definitions for Windows 10 instance\n",
    "os.environ[\"PYSPARK_PYTHON\"] = \"D:/Anaconda3/python\"\n",
    "os.environ[\"JAVA_HOME\"] = \"C:/Program Files/Java/jdk1.8.0_251/jre\"\n",
    "os.environ[\"SPARK_HOME\"] = \"D:/spark-2.4.4-bin-hadoop2.7\"\n",
    "os.environ[\"HADOOP_HOME\"] = \"D:/spark-2.4.4-bin-hadoop2.7\"\n",
    "os.environ[\"PYLIB\"] = os.environ[\"SPARK_HOME\"] + \"/python/lib\"\n",
    "sys.path.insert(0, os.environ[\"PYLIB\"] +\"/py4j-0.10.7-src.zip\")\n",
    "sys.path.insert(0, os.environ[\"PYLIB\"] +\"/pyspark.zip\")"
   ]
  },
  {
   "cell_type": "markdown",
   "metadata": {},
   "source": [
    "#### Setting the global configuration options"
   ]
  },
  {
   "cell_type": "code",
   "execution_count": 5,
   "metadata": {},
   "outputs": [],
   "source": [
    "warnings.filterwarnings('ignore')\n",
    "pd.set_option('float_format', '{:.4f}'.format)\n",
    "pd.options.display.max_colwidth = 100\n",
    "plt.rcParams['font.size'] = '14'\n",
    "MAX_MEMORY = '4g'\n",
    "%matplotlib inline"
   ]
  },
  {
   "cell_type": "markdown",
   "metadata": {},
   "source": [
    "### Welcome to this assignment\n",
    "The following class has been written in Spark so that you can directly import this class and calculate the WOE and IV values for your dataframe. Few points to keep in mind are as follows:\n",
    "1. For categorical variables, you can directly call this class and replace your variables with the WOE values\n",
    "2. For continuous variables, you will have to first create monotonous bins such that the WOE values are monotonously increasing and then pass those column names into this class. \n",
    "3. To get the IV values, you can directly make use of the 'compute_iv' method which will return a dictionary containing all the IV values for each variable that was passed into this class"
   ]
  },
  {
   "cell_type": "code",
   "execution_count": 6,
   "metadata": {},
   "outputs": [],
   "source": [
    "import math\n",
    "from pyspark.sql import DataFrame\n",
    "from pyspark.sql import functions as F\n",
    "\n",
    "class WOE_IV(object):\n",
    "    \n",
    "    \"\"\"\n",
    "    This class contains methods that are used for calculating the WOE and IV values in a given dataset.\n",
    "    \n",
    "    Attributes\n",
    "    ----------\n",
    "    df : spark DataFrame (The spark dataframe)\n",
    "    cols_to_woe : list (Columns that you want to convert in WOE and IV)\n",
    "    label_column : str (target column of the data)\n",
    "    good_label : str (Predicted variable in the form of 1 or 0)\n",
    "    \n",
    "    \"\"\"\n",
    "    \n",
    "    def __init__(self, df: DataFrame, cols_to_woe: [str], label_column: str, good_label: str):\n",
    "        self.df = df\n",
    "        self.cols_to_woe = cols_to_woe\n",
    "        self.label_column = label_column\n",
    "        self.good_label = good_label\n",
    "        self.fit_data = {} # This is a dictionary which will store all the WOE and IV computed in the latter part of the code\n",
    "\n",
    "    def fit(self):  \n",
    "        \"\"\"\n",
    "        This method takes the columns in 'cols_to_woe' and calculates the good and bad amounts,\n",
    "        and then assigns the WOE values in the dictionary, 'fit_data'\n",
    "        \"\"\"\n",
    "        for col_to_woe in self.cols_to_woe: # Iterating over each column in the list, cols_to_woe\n",
    "            \n",
    "            total_good = self.compute_total_amount_of_good() # Computes the total amount of good labels in the entire dataset\n",
    "            total_bad = self.compute_total_amount_of_bad() # Computes the total amount of bad labels in the entire dataset\n",
    "            \n",
    "            woe_df = self.df.select(col_to_woe) # This dataframe stores the column, col_to_woe from the DataFrame\n",
    "            categories = woe_df.distinct().collect() # Creates a list of all the distinct categories in the column, col_to_woe\n",
    "            for category_row in categories: # Iterating over each category in the distinct categories of the column\n",
    "                category = category_row[col_to_woe]\n",
    "                \n",
    "                # For each category, we calculate the good_amount and bad_amount\n",
    "                good_amount = self.compute_good_amount(col_to_woe, category)\n",
    "                bad_amount = self.compute_bad_amount(col_to_woe, category)\n",
    "                \n",
    "                # If the good_amount or bad_amount is 0, we replace it with 0.5, because in the calculation of woe, \n",
    "                # it comes in the denominator resulting in a Nan value which will give an error\n",
    "                good_amount = good_amount if good_amount != 0 else 0.5\n",
    "                bad_amount = bad_amount if bad_amount != 0 else 0.5\n",
    "\n",
    "                # Calculating the fraction of good_amount and bad_amount specific to that category\n",
    "                good_dist = good_amount / total_good\n",
    "                bad_dist = bad_amount / total_bad\n",
    "\n",
    "                # Calling the build_fit_data method which calculates the WOE and IV\n",
    "                # for the category in the column and stores it in the dictionary, fit_data\n",
    "                self.build_fit_data(col_to_woe, category, good_dist, bad_dist)\n",
    "\n",
    "    def transform(self, df: DataFrame):\n",
    "        \"\"\"\n",
    "        This method creates a column called \"col_to_woe + '_woe'\" which replaces the given category value with the WOE value.\n",
    "        It finally returns a final dataframe containing the WOE values in place of the columns\n",
    "        \"\"\"\n",
    "        def _encode_woe(col_to_woe_):\n",
    "            return F.coalesce(\n",
    "                *[F.when(F.col(col_to_woe_) == category, F.lit(woe_iv['woe']))\n",
    "                  for category, woe_iv in self.fit_data[col_to_woe_].items()]\n",
    "            )\n",
    "\n",
    "        for col_to_woe, woe_info in self.fit_data.items():\n",
    "            # Adds another column to the df containing the final WOE values\n",
    "            df = df.withColumn(col_to_woe + '_woe', _encode_woe(col_to_woe))\n",
    "        return df\n",
    "\n",
    "    def compute_total_amount_of_good(self):\n",
    "     # Computes the total amount of good labels in the entire dataset\n",
    "        return self.df.select(self.label_column).filter(F.col(self.label_column) == self.good_label).count()\n",
    "\n",
    "    def compute_total_amount_of_bad(self):\n",
    "     # Computes the total amount of bad labels in the entire dataset\n",
    "        return self.df.select(self.label_column).filter(F.col(self.label_column) != self.good_label).count()\n",
    "\n",
    "    def compute_good_amount(self, col_to_woe: str, category: str):\n",
    "     # Computes the total amount of good labels for the specific class in the feature\n",
    "        return self.df.select(col_to_woe, self.label_column)\\\n",
    "                      .filter(\n",
    "                            (F.col(col_to_woe) == category) & (F.col(self.label_column) == self.good_label)\n",
    "                      ).count()\n",
    "\n",
    "    def compute_bad_amount(self, col_to_woe: str, category: str):\n",
    "        # Computes the total amount of bad labels for the specific class in the feature\n",
    "        return self.df.select(col_to_woe, self.label_column)\\\n",
    "                      .filter(\n",
    "                            (F.col(col_to_woe) == category) & (F.col(self.label_column) != self.good_label)\n",
    "                      ).count()\n",
    "\n",
    "    def build_fit_data(self, col_to_woe, category, good_dist, bad_dist):\n",
    "        \"\"\"\n",
    "        Calculates the WOE and value for the specific category and saves it\n",
    "        in the woe_info dictionary which is saved in the fit_data dictionary\n",
    "                \n",
    "        Attributes:\n",
    "        col_to_woe: str (name of the feature)\n",
    "        category: str (Class of that feature)\n",
    "        good_dist: float (Fraction of good labels specific to that category)\n",
    "        bad_dist: float (Fraction of bad labels specific to that category)\n",
    "        \n",
    "        \"\"\"\n",
    "        woe_info = {\n",
    "            category: {\n",
    "                'woe': math.log(good_dist / bad_dist), # Calculating the WOE value for the category in the column\n",
    "                'iv': (good_dist - bad_dist) * math.log(good_dist / bad_dist) # Calc IV value for the category in the column\n",
    "            }\n",
    "        }\n",
    "\n",
    "        # Adding the feature, col_to_woe to fit_data if not present already\n",
    "        if col_to_woe not in self.fit_data:\n",
    "            self.fit_data[col_to_woe] = woe_info\n",
    "        else:\n",
    "            self.fit_data[col_to_woe].update(woe_info)\n",
    "\n",
    "    def compute_iv(self):\n",
    "        \"\"\"\n",
    "        Returns the IV dictionary which contains the IV value for each feature\n",
    "        \"\"\"\n",
    "        iv_dict = {}\n",
    "\n",
    "        for woe_col, categories in self.fit_data.items():\n",
    "            iv_dict[woe_col] = 0\n",
    "            for category, woe_iv in categories.items():\n",
    "                iv_dict[woe_col] += woe_iv['iv'] # IV for the feature = IV values for individual categories of feature (column)\n",
    "        return iv_dict\n"
   ]
  },
  {
   "cell_type": "markdown",
   "metadata": {},
   "source": [
    "#### Loading and analyzing the \"application_record\" dataset"
   ]
  },
  {
   "cell_type": "code",
   "execution_count": 7,
   "metadata": {},
   "outputs": [
    {
     "data": {
      "text/html": [
       "<div>\n",
       "<style scoped>\n",
       "    .dataframe tbody tr th:only-of-type {\n",
       "        vertical-align: middle;\n",
       "    }\n",
       "\n",
       "    .dataframe tbody tr th {\n",
       "        vertical-align: top;\n",
       "    }\n",
       "\n",
       "    .dataframe thead th {\n",
       "        text-align: right;\n",
       "    }\n",
       "</style>\n",
       "<table border=\"1\" class=\"dataframe\">\n",
       "  <thead>\n",
       "    <tr style=\"text-align: right;\">\n",
       "      <th></th>\n",
       "      <th>ID</th>\n",
       "      <th>CODE_GENDER</th>\n",
       "      <th>FLAG_OWN_CAR</th>\n",
       "      <th>FLAG_OWN_REALTY</th>\n",
       "      <th>CNT_CHILDREN</th>\n",
       "      <th>AMT_INCOME_TOTAL</th>\n",
       "      <th>NAME_INCOME_TYPE</th>\n",
       "      <th>NAME_EDUCATION_TYPE</th>\n",
       "      <th>NAME_FAMILY_STATUS</th>\n",
       "      <th>NAME_HOUSING_TYPE</th>\n",
       "      <th>DAYS_BIRTH</th>\n",
       "      <th>DAYS_EMPLOYED</th>\n",
       "      <th>FLAG_MOBIL</th>\n",
       "      <th>FLAG_WORK_PHONE</th>\n",
       "      <th>FLAG_PHONE</th>\n",
       "      <th>FLAG_EMAIL</th>\n",
       "      <th>OCCUPATION_TYPE</th>\n",
       "      <th>CNT_FAM_MEMBERS</th>\n",
       "    </tr>\n",
       "  </thead>\n",
       "  <tbody>\n",
       "    <tr>\n",
       "      <th>0</th>\n",
       "      <td>5008804</td>\n",
       "      <td>M</td>\n",
       "      <td>Y</td>\n",
       "      <td>Y</td>\n",
       "      <td>0</td>\n",
       "      <td>427500.0000</td>\n",
       "      <td>Working</td>\n",
       "      <td>Higher education</td>\n",
       "      <td>Civil marriage</td>\n",
       "      <td>Rented apartment</td>\n",
       "      <td>-12005</td>\n",
       "      <td>-4542</td>\n",
       "      <td>1</td>\n",
       "      <td>1</td>\n",
       "      <td>0</td>\n",
       "      <td>0</td>\n",
       "      <td>NaN</td>\n",
       "      <td>2.0000</td>\n",
       "    </tr>\n",
       "    <tr>\n",
       "      <th>1</th>\n",
       "      <td>5008805</td>\n",
       "      <td>M</td>\n",
       "      <td>Y</td>\n",
       "      <td>Y</td>\n",
       "      <td>0</td>\n",
       "      <td>427500.0000</td>\n",
       "      <td>Working</td>\n",
       "      <td>Higher education</td>\n",
       "      <td>Civil marriage</td>\n",
       "      <td>Rented apartment</td>\n",
       "      <td>-12005</td>\n",
       "      <td>-4542</td>\n",
       "      <td>1</td>\n",
       "      <td>1</td>\n",
       "      <td>0</td>\n",
       "      <td>0</td>\n",
       "      <td>NaN</td>\n",
       "      <td>2.0000</td>\n",
       "    </tr>\n",
       "    <tr>\n",
       "      <th>2</th>\n",
       "      <td>5008806</td>\n",
       "      <td>M</td>\n",
       "      <td>Y</td>\n",
       "      <td>Y</td>\n",
       "      <td>0</td>\n",
       "      <td>112500.0000</td>\n",
       "      <td>Working</td>\n",
       "      <td>Secondary / secondary special</td>\n",
       "      <td>Married</td>\n",
       "      <td>House / apartment</td>\n",
       "      <td>-21474</td>\n",
       "      <td>-1134</td>\n",
       "      <td>1</td>\n",
       "      <td>0</td>\n",
       "      <td>0</td>\n",
       "      <td>0</td>\n",
       "      <td>Security staff</td>\n",
       "      <td>2.0000</td>\n",
       "    </tr>\n",
       "    <tr>\n",
       "      <th>3</th>\n",
       "      <td>5008808</td>\n",
       "      <td>F</td>\n",
       "      <td>N</td>\n",
       "      <td>Y</td>\n",
       "      <td>0</td>\n",
       "      <td>270000.0000</td>\n",
       "      <td>Commercial associate</td>\n",
       "      <td>Secondary / secondary special</td>\n",
       "      <td>Single / not married</td>\n",
       "      <td>House / apartment</td>\n",
       "      <td>-19110</td>\n",
       "      <td>-3051</td>\n",
       "      <td>1</td>\n",
       "      <td>0</td>\n",
       "      <td>1</td>\n",
       "      <td>1</td>\n",
       "      <td>Sales staff</td>\n",
       "      <td>1.0000</td>\n",
       "    </tr>\n",
       "    <tr>\n",
       "      <th>4</th>\n",
       "      <td>5008809</td>\n",
       "      <td>F</td>\n",
       "      <td>N</td>\n",
       "      <td>Y</td>\n",
       "      <td>0</td>\n",
       "      <td>270000.0000</td>\n",
       "      <td>Commercial associate</td>\n",
       "      <td>Secondary / secondary special</td>\n",
       "      <td>Single / not married</td>\n",
       "      <td>House / apartment</td>\n",
       "      <td>-19110</td>\n",
       "      <td>-3051</td>\n",
       "      <td>1</td>\n",
       "      <td>0</td>\n",
       "      <td>1</td>\n",
       "      <td>1</td>\n",
       "      <td>Sales staff</td>\n",
       "      <td>1.0000</td>\n",
       "    </tr>\n",
       "  </tbody>\n",
       "</table>\n",
       "</div>"
      ],
      "text/plain": [
       "        ID CODE_GENDER FLAG_OWN_CAR FLAG_OWN_REALTY  CNT_CHILDREN  \\\n",
       "0  5008804           M            Y               Y             0   \n",
       "1  5008805           M            Y               Y             0   \n",
       "2  5008806           M            Y               Y             0   \n",
       "3  5008808           F            N               Y             0   \n",
       "4  5008809           F            N               Y             0   \n",
       "\n",
       "   AMT_INCOME_TOTAL      NAME_INCOME_TYPE            NAME_EDUCATION_TYPE  \\\n",
       "0       427500.0000               Working               Higher education   \n",
       "1       427500.0000               Working               Higher education   \n",
       "2       112500.0000               Working  Secondary / secondary special   \n",
       "3       270000.0000  Commercial associate  Secondary / secondary special   \n",
       "4       270000.0000  Commercial associate  Secondary / secondary special   \n",
       "\n",
       "     NAME_FAMILY_STATUS  NAME_HOUSING_TYPE  DAYS_BIRTH  DAYS_EMPLOYED  \\\n",
       "0        Civil marriage   Rented apartment      -12005          -4542   \n",
       "1        Civil marriage   Rented apartment      -12005          -4542   \n",
       "2               Married  House / apartment      -21474          -1134   \n",
       "3  Single / not married  House / apartment      -19110          -3051   \n",
       "4  Single / not married  House / apartment      -19110          -3051   \n",
       "\n",
       "   FLAG_MOBIL  FLAG_WORK_PHONE  FLAG_PHONE  FLAG_EMAIL OCCUPATION_TYPE  \\\n",
       "0           1                1           0           0             NaN   \n",
       "1           1                1           0           0             NaN   \n",
       "2           1                0           0           0  Security staff   \n",
       "3           1                0           1           1     Sales staff   \n",
       "4           1                0           1           1     Sales staff   \n",
       "\n",
       "   CNT_FAM_MEMBERS  \n",
       "0           2.0000  \n",
       "1           2.0000  \n",
       "2           2.0000  \n",
       "3           1.0000  \n",
       "4           1.0000  "
      ]
     },
     "execution_count": 7,
     "metadata": {},
     "output_type": "execute_result"
    }
   ],
   "source": [
    "df_application_record = pd.read_csv('https://s3.amazonaws.com/sqoop.oozie.ml/application_record.csv')\n",
    "df_application_record.head()"
   ]
  },
  {
   "cell_type": "code",
   "execution_count": 8,
   "metadata": {},
   "outputs": [
    {
     "name": "stdout",
     "output_type": "stream",
     "text": [
      "<class 'pandas.core.frame.DataFrame'>\n",
      "RangeIndex: 438557 entries, 0 to 438556\n",
      "Data columns (total 18 columns):\n",
      " #   Column               Non-Null Count   Dtype  \n",
      "---  ------               --------------   -----  \n",
      " 0   ID                   438557 non-null  int64  \n",
      " 1   CODE_GENDER          438557 non-null  object \n",
      " 2   FLAG_OWN_CAR         438557 non-null  object \n",
      " 3   FLAG_OWN_REALTY      438557 non-null  object \n",
      " 4   CNT_CHILDREN         438557 non-null  int64  \n",
      " 5   AMT_INCOME_TOTAL     438557 non-null  float64\n",
      " 6   NAME_INCOME_TYPE     438557 non-null  object \n",
      " 7   NAME_EDUCATION_TYPE  438557 non-null  object \n",
      " 8   NAME_FAMILY_STATUS   438557 non-null  object \n",
      " 9   NAME_HOUSING_TYPE    438557 non-null  object \n",
      " 10  DAYS_BIRTH           438557 non-null  int64  \n",
      " 11  DAYS_EMPLOYED        438557 non-null  int64  \n",
      " 12  FLAG_MOBIL           438557 non-null  int64  \n",
      " 13  FLAG_WORK_PHONE      438557 non-null  int64  \n",
      " 14  FLAG_PHONE           438557 non-null  int64  \n",
      " 15  FLAG_EMAIL           438557 non-null  int64  \n",
      " 16  OCCUPATION_TYPE      304354 non-null  object \n",
      " 17  CNT_FAM_MEMBERS      438557 non-null  float64\n",
      "dtypes: float64(2), int64(8), object(8)\n",
      "memory usage: 60.2+ MB\n"
     ]
    }
   ],
   "source": [
    "df_application_record.info()"
   ]
  },
  {
   "cell_type": "code",
   "execution_count": 9,
   "metadata": {},
   "outputs": [
    {
     "data": {
      "text/plain": [
       "ID                     0.0000\n",
       "CODE_GENDER            0.0000\n",
       "FLAG_OWN_CAR           0.0000\n",
       "FLAG_OWN_REALTY        0.0000\n",
       "CNT_CHILDREN           0.0000\n",
       "AMT_INCOME_TOTAL       0.0000\n",
       "NAME_INCOME_TYPE       0.0000\n",
       "NAME_EDUCATION_TYPE    0.0000\n",
       "NAME_FAMILY_STATUS     0.0000\n",
       "NAME_HOUSING_TYPE      0.0000\n",
       "DAYS_BIRTH             0.0000\n",
       "DAYS_EMPLOYED          0.0000\n",
       "FLAG_MOBIL             0.0000\n",
       "FLAG_WORK_PHONE        0.0000\n",
       "FLAG_PHONE             0.0000\n",
       "FLAG_EMAIL             0.0000\n",
       "OCCUPATION_TYPE       30.6010\n",
       "CNT_FAM_MEMBERS        0.0000\n",
       "dtype: float64"
      ]
     },
     "execution_count": 9,
     "metadata": {},
     "output_type": "execute_result"
    }
   ],
   "source": [
    "df_application_record.isna().sum() * 100.0 / df_application_record.shape[0]"
   ]
  },
  {
   "cell_type": "markdown",
   "metadata": {},
   "source": [
    "#### Missing value imputation\n",
    "\n",
    "*Based on the null value counts, we see that the only feature with missing values is \"OCCUPATION_TYPE\" with a 30% missing rate. Since this feature can be expected to be closely related to \"NAME_INCOME_TYPE\", we will go ahead and impute the missing values with the most frequent value within each category as grouped by \"NAME_INCOME_TYPE\"*"
   ]
  },
  {
   "cell_type": "code",
   "execution_count": 17,
   "metadata": {},
   "outputs": [
    {
     "data": {
      "text/plain": [
       "NaN                      134203\n",
       "Laborers                  78240\n",
       "Core staff                43007\n",
       "Sales staff               41098\n",
       "Managers                  35487\n",
       "Drivers                   26090\n",
       "High skill tech staff     17289\n",
       "Accountants               15985\n",
       "Medicine staff            13520\n",
       "Cooking staff              8076\n",
       "Security staff             7993\n",
       "Cleaning staff             5845\n",
       "Private service staff      3456\n",
       "Low-skill Laborers         2140\n",
       "Secretaries                2044\n",
       "Waiters/barmen staff       1665\n",
       "Realty agents              1041\n",
       "HR staff                    774\n",
       "IT staff                    604\n",
       "Name: OCCUPATION_TYPE, dtype: int64"
      ]
     },
     "execution_count": 17,
     "metadata": {},
     "output_type": "execute_result"
    }
   ],
   "source": [
    "df_application_record.OCCUPATION_TYPE.value_counts(dropna=False)"
   ]
  },
  {
   "cell_type": "code",
   "execution_count": 12,
   "metadata": {},
   "outputs": [
    {
     "data": {
      "text/plain": [
       "Working                 226104\n",
       "Commercial associate    100757\n",
       "Pensioner                75493\n",
       "State servant            36186\n",
       "Student                     17\n",
       "Name: NAME_INCOME_TYPE, dtype: int64"
      ]
     },
     "execution_count": 12,
     "metadata": {},
     "output_type": "execute_result"
    }
   ],
   "source": [
    "name_income_type_categories = df_application_record.NAME_INCOME_TYPE.value_counts()\n",
    "name_income_type_categories"
   ]
  },
  {
   "cell_type": "code",
   "execution_count": 20,
   "metadata": {},
   "outputs": [
    {
     "name": "stdout",
     "output_type": "stream",
     "text": [
      "Income Type = Working | Top Occupation = Laborers\n",
      "Income Type = Commercial associate | Top Occupation = Laborers\n",
      "Income Type = Pensioner | Top Occupation = Core staff\n",
      "Income Type = State servant | Top Occupation = Core staff\n",
      "Income Type = Student | Top Occupation = Core staff\n"
     ]
    }
   ],
   "source": [
    "for category in name_income_type_categories.index:\n",
    "    top_occupation = df_application_record[df_application_record.NAME_INCOME_TYPE==category]\\\n",
    "                    .OCCUPATION_TYPE.value_counts().index[0]\n",
    "    print('Income Type =', category, '| Top Occupation =', top_occupation)\n",
    "    df_application_record.loc[(df_application_record.NAME_INCOME_TYPE==category) & \\\n",
    "                              (df_application_record.OCCUPATION_TYPE.isna()), 'OCCUPATION_TYPE'] = top_occupation"
   ]
  },
  {
   "cell_type": "code",
   "execution_count": 21,
   "metadata": {},
   "outputs": [
    {
     "data": {
      "text/plain": [
       "Laborers                 130871\n",
       "Core staff               124579\n",
       "Sales staff               41098\n",
       "Managers                  35487\n",
       "Drivers                   26090\n",
       "High skill tech staff     17289\n",
       "Accountants               15985\n",
       "Medicine staff            13520\n",
       "Cooking staff              8076\n",
       "Security staff             7993\n",
       "Cleaning staff             5845\n",
       "Private service staff      3456\n",
       "Low-skill Laborers         2140\n",
       "Secretaries                2044\n",
       "Waiters/barmen staff       1665\n",
       "Realty agents              1041\n",
       "HR staff                    774\n",
       "IT staff                    604\n",
       "Name: OCCUPATION_TYPE, dtype: int64"
      ]
     },
     "execution_count": 21,
     "metadata": {},
     "output_type": "execute_result"
    }
   ],
   "source": [
    "df_application_record.OCCUPATION_TYPE.value_counts(dropna=False)"
   ]
  },
  {
   "cell_type": "markdown",
   "metadata": {},
   "source": [
    "#### Loading and analyzing the \"credit_record\" dataset"
   ]
  },
  {
   "cell_type": "code",
   "execution_count": 22,
   "metadata": {},
   "outputs": [
    {
     "data": {
      "text/html": [
       "<div>\n",
       "<style scoped>\n",
       "    .dataframe tbody tr th:only-of-type {\n",
       "        vertical-align: middle;\n",
       "    }\n",
       "\n",
       "    .dataframe tbody tr th {\n",
       "        vertical-align: top;\n",
       "    }\n",
       "\n",
       "    .dataframe thead th {\n",
       "        text-align: right;\n",
       "    }\n",
       "</style>\n",
       "<table border=\"1\" class=\"dataframe\">\n",
       "  <thead>\n",
       "    <tr style=\"text-align: right;\">\n",
       "      <th></th>\n",
       "      <th>ID</th>\n",
       "      <th>MONTHS_BALANCE</th>\n",
       "      <th>STATUS</th>\n",
       "    </tr>\n",
       "  </thead>\n",
       "  <tbody>\n",
       "    <tr>\n",
       "      <th>0</th>\n",
       "      <td>5001711</td>\n",
       "      <td>0</td>\n",
       "      <td>X</td>\n",
       "    </tr>\n",
       "    <tr>\n",
       "      <th>1</th>\n",
       "      <td>5001711</td>\n",
       "      <td>-1</td>\n",
       "      <td>0</td>\n",
       "    </tr>\n",
       "    <tr>\n",
       "      <th>2</th>\n",
       "      <td>5001711</td>\n",
       "      <td>-2</td>\n",
       "      <td>0</td>\n",
       "    </tr>\n",
       "    <tr>\n",
       "      <th>3</th>\n",
       "      <td>5001711</td>\n",
       "      <td>-3</td>\n",
       "      <td>0</td>\n",
       "    </tr>\n",
       "    <tr>\n",
       "      <th>4</th>\n",
       "      <td>5001712</td>\n",
       "      <td>0</td>\n",
       "      <td>C</td>\n",
       "    </tr>\n",
       "  </tbody>\n",
       "</table>\n",
       "</div>"
      ],
      "text/plain": [
       "        ID  MONTHS_BALANCE STATUS\n",
       "0  5001711               0      X\n",
       "1  5001711              -1      0\n",
       "2  5001711              -2      0\n",
       "3  5001711              -3      0\n",
       "4  5001712               0      C"
      ]
     },
     "execution_count": 22,
     "metadata": {},
     "output_type": "execute_result"
    }
   ],
   "source": [
    "df_credit_record = pd.read_csv('https://s3.amazonaws.com/sqoop.oozie.ml/credit_record.csv')\n",
    "df_credit_record.head()"
   ]
  },
  {
   "cell_type": "code",
   "execution_count": 23,
   "metadata": {},
   "outputs": [
    {
     "name": "stdout",
     "output_type": "stream",
     "text": [
      "<class 'pandas.core.frame.DataFrame'>\n",
      "RangeIndex: 1048575 entries, 0 to 1048574\n",
      "Data columns (total 3 columns):\n",
      " #   Column          Non-Null Count    Dtype \n",
      "---  ------          --------------    ----- \n",
      " 0   ID              1048575 non-null  int64 \n",
      " 1   MONTHS_BALANCE  1048575 non-null  int64 \n",
      " 2   STATUS          1048575 non-null  object\n",
      "dtypes: int64(2), object(1)\n",
      "memory usage: 24.0+ MB\n"
     ]
    }
   ],
   "source": [
    "df_credit_record.info()"
   ]
  },
  {
   "cell_type": "code",
   "execution_count": 24,
   "metadata": {},
   "outputs": [
    {
     "data": {
      "text/plain": [
       "ID               0.0000\n",
       "MONTHS_BALANCE   0.0000\n",
       "STATUS           0.0000\n",
       "dtype: float64"
      ]
     },
     "execution_count": 24,
     "metadata": {},
     "output_type": "execute_result"
    }
   ],
   "source": [
    "df_credit_record.isna().sum() * 100.0 / df_credit_record.shape[0]"
   ]
  },
  {
   "cell_type": "markdown",
   "metadata": {},
   "source": [
    "#### Transforming the \"credit_record\" data into a \"Delinquent Status\" dataset\n",
    "*Any user ID has to be classified as delinquent if that user has EVER delayed their payment by more than 60 days. From the Credit Application Data Dictionary, this condition can be mapped as the \"STATUS\" feature EVER having a value within the set(['2','3','4','5']). We will create a user-defined-function to check if the set of all \"STATUS\" values for each user ID has any overlap or intersection with the delinquent statuses and accordingly mark the final delinquent status for each user ID.*"
   ]
  },
  {
   "cell_type": "code",
   "execution_count": 25,
   "metadata": {},
   "outputs": [
    {
     "data": {
      "text/html": [
       "<div>\n",
       "<style scoped>\n",
       "    .dataframe tbody tr th:only-of-type {\n",
       "        vertical-align: middle;\n",
       "    }\n",
       "\n",
       "    .dataframe tbody tr th {\n",
       "        vertical-align: top;\n",
       "    }\n",
       "\n",
       "    .dataframe thead th {\n",
       "        text-align: right;\n",
       "    }\n",
       "</style>\n",
       "<table border=\"1\" class=\"dataframe\">\n",
       "  <thead>\n",
       "    <tr style=\"text-align: right;\">\n",
       "      <th></th>\n",
       "      <th>ID</th>\n",
       "      <th>STATUS</th>\n",
       "    </tr>\n",
       "  </thead>\n",
       "  <tbody>\n",
       "    <tr>\n",
       "      <th>0</th>\n",
       "      <td>5001711</td>\n",
       "      <td>0</td>\n",
       "    </tr>\n",
       "    <tr>\n",
       "      <th>1</th>\n",
       "      <td>5001712</td>\n",
       "      <td>0</td>\n",
       "    </tr>\n",
       "    <tr>\n",
       "      <th>2</th>\n",
       "      <td>5001713</td>\n",
       "      <td>0</td>\n",
       "    </tr>\n",
       "    <tr>\n",
       "      <th>3</th>\n",
       "      <td>5001714</td>\n",
       "      <td>0</td>\n",
       "    </tr>\n",
       "    <tr>\n",
       "      <th>4</th>\n",
       "      <td>5001715</td>\n",
       "      <td>0</td>\n",
       "    </tr>\n",
       "    <tr>\n",
       "      <th>...</th>\n",
       "      <td>...</td>\n",
       "      <td>...</td>\n",
       "    </tr>\n",
       "    <tr>\n",
       "      <th>45980</th>\n",
       "      <td>5150482</td>\n",
       "      <td>0</td>\n",
       "    </tr>\n",
       "    <tr>\n",
       "      <th>45981</th>\n",
       "      <td>5150483</td>\n",
       "      <td>0</td>\n",
       "    </tr>\n",
       "    <tr>\n",
       "      <th>45982</th>\n",
       "      <td>5150484</td>\n",
       "      <td>0</td>\n",
       "    </tr>\n",
       "    <tr>\n",
       "      <th>45983</th>\n",
       "      <td>5150485</td>\n",
       "      <td>0</td>\n",
       "    </tr>\n",
       "    <tr>\n",
       "      <th>45984</th>\n",
       "      <td>5150487</td>\n",
       "      <td>0</td>\n",
       "    </tr>\n",
       "  </tbody>\n",
       "</table>\n",
       "<p>45985 rows × 2 columns</p>\n",
       "</div>"
      ],
      "text/plain": [
       "            ID  STATUS\n",
       "0      5001711       0\n",
       "1      5001712       0\n",
       "2      5001713       0\n",
       "3      5001714       0\n",
       "4      5001715       0\n",
       "...        ...     ...\n",
       "45980  5150482       0\n",
       "45981  5150483       0\n",
       "45982  5150484       0\n",
       "45983  5150485       0\n",
       "45984  5150487       0\n",
       "\n",
       "[45985 rows x 2 columns]"
      ]
     },
     "execution_count": 25,
     "metadata": {},
     "output_type": "execute_result"
    }
   ],
   "source": [
    "delinquentStatuses = set(['2','3','4','5'])\n",
    "funcGetDelinquentStatus = (lambda allStatuses: 1 if len(set(allStatuses).intersection(delinquentStatuses))>0 else 0) \n",
    "df_delinquent_status = df_credit_record.groupby('ID', as_index=False)[['STATUS']].agg(funcGetDelinquentStatus)\n",
    "df_delinquent_status"
   ]
  },
  {
   "cell_type": "code",
   "execution_count": 26,
   "metadata": {},
   "outputs": [
    {
     "name": "stdout",
     "output_type": "stream",
     "text": [
      "0    45318\n",
      "1      667\n",
      "Name: STATUS, dtype: int64 \n",
      "---\n",
      " 0   98.5495\n",
      "1    1.4505\n",
      "Name: STATUS, dtype: float64\n"
     ]
    }
   ],
   "source": [
    "print(df_delinquent_status.STATUS.value_counts(), '\\n---\\n', df_delinquent_status.STATUS.value_counts(normalize=True) * 100.00)"
   ]
  },
  {
   "cell_type": "markdown",
   "metadata": {},
   "source": [
    "#### Generating the \"credit_issued\" merged dataset \n",
    "*The \"credit_issued\" combined dataset will be generated with an inner join of the \"Delinquent Status\" and \"application_record\" datasets, since this is a Supervised Learning problem and we are only interested in user IDs that have the Delinquent label value already determined.*"
   ]
  },
  {
   "cell_type": "code",
   "execution_count": 28,
   "metadata": {},
   "outputs": [
    {
     "data": {
      "text/html": [
       "<div>\n",
       "<style scoped>\n",
       "    .dataframe tbody tr th:only-of-type {\n",
       "        vertical-align: middle;\n",
       "    }\n",
       "\n",
       "    .dataframe tbody tr th {\n",
       "        vertical-align: top;\n",
       "    }\n",
       "\n",
       "    .dataframe thead th {\n",
       "        text-align: right;\n",
       "    }\n",
       "</style>\n",
       "<table border=\"1\" class=\"dataframe\">\n",
       "  <thead>\n",
       "    <tr style=\"text-align: right;\">\n",
       "      <th></th>\n",
       "      <th>ID</th>\n",
       "      <th>STATUS</th>\n",
       "      <th>CODE_GENDER</th>\n",
       "      <th>FLAG_OWN_CAR</th>\n",
       "      <th>FLAG_OWN_REALTY</th>\n",
       "      <th>CNT_CHILDREN</th>\n",
       "      <th>AMT_INCOME_TOTAL</th>\n",
       "      <th>NAME_INCOME_TYPE</th>\n",
       "      <th>NAME_EDUCATION_TYPE</th>\n",
       "      <th>NAME_FAMILY_STATUS</th>\n",
       "      <th>NAME_HOUSING_TYPE</th>\n",
       "      <th>DAYS_BIRTH</th>\n",
       "      <th>DAYS_EMPLOYED</th>\n",
       "      <th>FLAG_MOBIL</th>\n",
       "      <th>FLAG_WORK_PHONE</th>\n",
       "      <th>FLAG_PHONE</th>\n",
       "      <th>FLAG_EMAIL</th>\n",
       "      <th>OCCUPATION_TYPE</th>\n",
       "      <th>CNT_FAM_MEMBERS</th>\n",
       "    </tr>\n",
       "  </thead>\n",
       "  <tbody>\n",
       "    <tr>\n",
       "      <th>0</th>\n",
       "      <td>5008804</td>\n",
       "      <td>0</td>\n",
       "      <td>M</td>\n",
       "      <td>Y</td>\n",
       "      <td>Y</td>\n",
       "      <td>0</td>\n",
       "      <td>427500.0000</td>\n",
       "      <td>Working</td>\n",
       "      <td>Higher education</td>\n",
       "      <td>Civil marriage</td>\n",
       "      <td>Rented apartment</td>\n",
       "      <td>-12005</td>\n",
       "      <td>-4542</td>\n",
       "      <td>1</td>\n",
       "      <td>1</td>\n",
       "      <td>0</td>\n",
       "      <td>0</td>\n",
       "      <td>Laborers</td>\n",
       "      <td>2.0000</td>\n",
       "    </tr>\n",
       "    <tr>\n",
       "      <th>1</th>\n",
       "      <td>5008805</td>\n",
       "      <td>0</td>\n",
       "      <td>M</td>\n",
       "      <td>Y</td>\n",
       "      <td>Y</td>\n",
       "      <td>0</td>\n",
       "      <td>427500.0000</td>\n",
       "      <td>Working</td>\n",
       "      <td>Higher education</td>\n",
       "      <td>Civil marriage</td>\n",
       "      <td>Rented apartment</td>\n",
       "      <td>-12005</td>\n",
       "      <td>-4542</td>\n",
       "      <td>1</td>\n",
       "      <td>1</td>\n",
       "      <td>0</td>\n",
       "      <td>0</td>\n",
       "      <td>Laborers</td>\n",
       "      <td>2.0000</td>\n",
       "    </tr>\n",
       "    <tr>\n",
       "      <th>2</th>\n",
       "      <td>5008806</td>\n",
       "      <td>0</td>\n",
       "      <td>M</td>\n",
       "      <td>Y</td>\n",
       "      <td>Y</td>\n",
       "      <td>0</td>\n",
       "      <td>112500.0000</td>\n",
       "      <td>Working</td>\n",
       "      <td>Secondary / secondary special</td>\n",
       "      <td>Married</td>\n",
       "      <td>House / apartment</td>\n",
       "      <td>-21474</td>\n",
       "      <td>-1134</td>\n",
       "      <td>1</td>\n",
       "      <td>0</td>\n",
       "      <td>0</td>\n",
       "      <td>0</td>\n",
       "      <td>Security staff</td>\n",
       "      <td>2.0000</td>\n",
       "    </tr>\n",
       "    <tr>\n",
       "      <th>3</th>\n",
       "      <td>5008808</td>\n",
       "      <td>0</td>\n",
       "      <td>F</td>\n",
       "      <td>N</td>\n",
       "      <td>Y</td>\n",
       "      <td>0</td>\n",
       "      <td>270000.0000</td>\n",
       "      <td>Commercial associate</td>\n",
       "      <td>Secondary / secondary special</td>\n",
       "      <td>Single / not married</td>\n",
       "      <td>House / apartment</td>\n",
       "      <td>-19110</td>\n",
       "      <td>-3051</td>\n",
       "      <td>1</td>\n",
       "      <td>0</td>\n",
       "      <td>1</td>\n",
       "      <td>1</td>\n",
       "      <td>Sales staff</td>\n",
       "      <td>1.0000</td>\n",
       "    </tr>\n",
       "    <tr>\n",
       "      <th>4</th>\n",
       "      <td>5008809</td>\n",
       "      <td>0</td>\n",
       "      <td>F</td>\n",
       "      <td>N</td>\n",
       "      <td>Y</td>\n",
       "      <td>0</td>\n",
       "      <td>270000.0000</td>\n",
       "      <td>Commercial associate</td>\n",
       "      <td>Secondary / secondary special</td>\n",
       "      <td>Single / not married</td>\n",
       "      <td>House / apartment</td>\n",
       "      <td>-19110</td>\n",
       "      <td>-3051</td>\n",
       "      <td>1</td>\n",
       "      <td>0</td>\n",
       "      <td>1</td>\n",
       "      <td>1</td>\n",
       "      <td>Sales staff</td>\n",
       "      <td>1.0000</td>\n",
       "    </tr>\n",
       "    <tr>\n",
       "      <th>...</th>\n",
       "      <td>...</td>\n",
       "      <td>...</td>\n",
       "      <td>...</td>\n",
       "      <td>...</td>\n",
       "      <td>...</td>\n",
       "      <td>...</td>\n",
       "      <td>...</td>\n",
       "      <td>...</td>\n",
       "      <td>...</td>\n",
       "      <td>...</td>\n",
       "      <td>...</td>\n",
       "      <td>...</td>\n",
       "      <td>...</td>\n",
       "      <td>...</td>\n",
       "      <td>...</td>\n",
       "      <td>...</td>\n",
       "      <td>...</td>\n",
       "      <td>...</td>\n",
       "      <td>...</td>\n",
       "    </tr>\n",
       "    <tr>\n",
       "      <th>36452</th>\n",
       "      <td>5150482</td>\n",
       "      <td>0</td>\n",
       "      <td>F</td>\n",
       "      <td>Y</td>\n",
       "      <td>Y</td>\n",
       "      <td>1</td>\n",
       "      <td>157500.0000</td>\n",
       "      <td>Working</td>\n",
       "      <td>Secondary / secondary special</td>\n",
       "      <td>Married</td>\n",
       "      <td>House / apartment</td>\n",
       "      <td>-10808</td>\n",
       "      <td>-1739</td>\n",
       "      <td>1</td>\n",
       "      <td>0</td>\n",
       "      <td>0</td>\n",
       "      <td>0</td>\n",
       "      <td>Core staff</td>\n",
       "      <td>3.0000</td>\n",
       "    </tr>\n",
       "    <tr>\n",
       "      <th>36453</th>\n",
       "      <td>5150483</td>\n",
       "      <td>0</td>\n",
       "      <td>F</td>\n",
       "      <td>Y</td>\n",
       "      <td>Y</td>\n",
       "      <td>1</td>\n",
       "      <td>157500.0000</td>\n",
       "      <td>Working</td>\n",
       "      <td>Secondary / secondary special</td>\n",
       "      <td>Married</td>\n",
       "      <td>House / apartment</td>\n",
       "      <td>-10808</td>\n",
       "      <td>-1739</td>\n",
       "      <td>1</td>\n",
       "      <td>0</td>\n",
       "      <td>0</td>\n",
       "      <td>0</td>\n",
       "      <td>Core staff</td>\n",
       "      <td>3.0000</td>\n",
       "    </tr>\n",
       "    <tr>\n",
       "      <th>36454</th>\n",
       "      <td>5150484</td>\n",
       "      <td>0</td>\n",
       "      <td>F</td>\n",
       "      <td>Y</td>\n",
       "      <td>Y</td>\n",
       "      <td>1</td>\n",
       "      <td>157500.0000</td>\n",
       "      <td>Working</td>\n",
       "      <td>Secondary / secondary special</td>\n",
       "      <td>Married</td>\n",
       "      <td>House / apartment</td>\n",
       "      <td>-10808</td>\n",
       "      <td>-1739</td>\n",
       "      <td>1</td>\n",
       "      <td>0</td>\n",
       "      <td>0</td>\n",
       "      <td>0</td>\n",
       "      <td>Core staff</td>\n",
       "      <td>3.0000</td>\n",
       "    </tr>\n",
       "    <tr>\n",
       "      <th>36455</th>\n",
       "      <td>5150485</td>\n",
       "      <td>0</td>\n",
       "      <td>F</td>\n",
       "      <td>Y</td>\n",
       "      <td>Y</td>\n",
       "      <td>1</td>\n",
       "      <td>157500.0000</td>\n",
       "      <td>Working</td>\n",
       "      <td>Secondary / secondary special</td>\n",
       "      <td>Married</td>\n",
       "      <td>House / apartment</td>\n",
       "      <td>-10808</td>\n",
       "      <td>-1739</td>\n",
       "      <td>1</td>\n",
       "      <td>0</td>\n",
       "      <td>0</td>\n",
       "      <td>0</td>\n",
       "      <td>Core staff</td>\n",
       "      <td>3.0000</td>\n",
       "    </tr>\n",
       "    <tr>\n",
       "      <th>36456</th>\n",
       "      <td>5150487</td>\n",
       "      <td>0</td>\n",
       "      <td>M</td>\n",
       "      <td>Y</td>\n",
       "      <td>N</td>\n",
       "      <td>0</td>\n",
       "      <td>202500.0000</td>\n",
       "      <td>Working</td>\n",
       "      <td>Secondary / secondary special</td>\n",
       "      <td>Married</td>\n",
       "      <td>House / apartment</td>\n",
       "      <td>-19398</td>\n",
       "      <td>-2166</td>\n",
       "      <td>1</td>\n",
       "      <td>0</td>\n",
       "      <td>0</td>\n",
       "      <td>0</td>\n",
       "      <td>Drivers</td>\n",
       "      <td>2.0000</td>\n",
       "    </tr>\n",
       "  </tbody>\n",
       "</table>\n",
       "<p>36457 rows × 19 columns</p>\n",
       "</div>"
      ],
      "text/plain": [
       "            ID  STATUS CODE_GENDER FLAG_OWN_CAR FLAG_OWN_REALTY  CNT_CHILDREN  \\\n",
       "0      5008804       0           M            Y               Y             0   \n",
       "1      5008805       0           M            Y               Y             0   \n",
       "2      5008806       0           M            Y               Y             0   \n",
       "3      5008808       0           F            N               Y             0   \n",
       "4      5008809       0           F            N               Y             0   \n",
       "...        ...     ...         ...          ...             ...           ...   \n",
       "36452  5150482       0           F            Y               Y             1   \n",
       "36453  5150483       0           F            Y               Y             1   \n",
       "36454  5150484       0           F            Y               Y             1   \n",
       "36455  5150485       0           F            Y               Y             1   \n",
       "36456  5150487       0           M            Y               N             0   \n",
       "\n",
       "       AMT_INCOME_TOTAL      NAME_INCOME_TYPE            NAME_EDUCATION_TYPE  \\\n",
       "0           427500.0000               Working               Higher education   \n",
       "1           427500.0000               Working               Higher education   \n",
       "2           112500.0000               Working  Secondary / secondary special   \n",
       "3           270000.0000  Commercial associate  Secondary / secondary special   \n",
       "4           270000.0000  Commercial associate  Secondary / secondary special   \n",
       "...                 ...                   ...                            ...   \n",
       "36452       157500.0000               Working  Secondary / secondary special   \n",
       "36453       157500.0000               Working  Secondary / secondary special   \n",
       "36454       157500.0000               Working  Secondary / secondary special   \n",
       "36455       157500.0000               Working  Secondary / secondary special   \n",
       "36456       202500.0000               Working  Secondary / secondary special   \n",
       "\n",
       "         NAME_FAMILY_STATUS  NAME_HOUSING_TYPE  DAYS_BIRTH  DAYS_EMPLOYED  \\\n",
       "0            Civil marriage   Rented apartment      -12005          -4542   \n",
       "1            Civil marriage   Rented apartment      -12005          -4542   \n",
       "2                   Married  House / apartment      -21474          -1134   \n",
       "3      Single / not married  House / apartment      -19110          -3051   \n",
       "4      Single / not married  House / apartment      -19110          -3051   \n",
       "...                     ...                ...         ...            ...   \n",
       "36452               Married  House / apartment      -10808          -1739   \n",
       "36453               Married  House / apartment      -10808          -1739   \n",
       "36454               Married  House / apartment      -10808          -1739   \n",
       "36455               Married  House / apartment      -10808          -1739   \n",
       "36456               Married  House / apartment      -19398          -2166   \n",
       "\n",
       "       FLAG_MOBIL  FLAG_WORK_PHONE  FLAG_PHONE  FLAG_EMAIL OCCUPATION_TYPE  \\\n",
       "0               1                1           0           0        Laborers   \n",
       "1               1                1           0           0        Laborers   \n",
       "2               1                0           0           0  Security staff   \n",
       "3               1                0           1           1     Sales staff   \n",
       "4               1                0           1           1     Sales staff   \n",
       "...           ...              ...         ...         ...             ...   \n",
       "36452           1                0           0           0      Core staff   \n",
       "36453           1                0           0           0      Core staff   \n",
       "36454           1                0           0           0      Core staff   \n",
       "36455           1                0           0           0      Core staff   \n",
       "36456           1                0           0           0         Drivers   \n",
       "\n",
       "       CNT_FAM_MEMBERS  \n",
       "0               2.0000  \n",
       "1               2.0000  \n",
       "2               2.0000  \n",
       "3               1.0000  \n",
       "4               1.0000  \n",
       "...                ...  \n",
       "36452           3.0000  \n",
       "36453           3.0000  \n",
       "36454           3.0000  \n",
       "36455           3.0000  \n",
       "36456           2.0000  \n",
       "\n",
       "[36457 rows x 19 columns]"
      ]
     },
     "execution_count": 28,
     "metadata": {},
     "output_type": "execute_result"
    }
   ],
   "source": [
    "df_creditcard_issued = pd.merge(df_delinquent_status, df_application_record, on=['ID'], how='inner')\n",
    "df_creditcard_issued"
   ]
  },
  {
   "cell_type": "markdown",
   "metadata": {},
   "source": [
    "#### Duplicate data cleanup\n",
    "*We can see that the merged dataset has many duplicate rows if we ignore the user ID column. Accordingly we will drop this ID column and then drop the duplicate rows from the merged dataset.*"
   ]
  },
  {
   "cell_type": "code",
   "execution_count": 29,
   "metadata": {},
   "outputs": [
    {
     "data": {
      "text/html": [
       "<div>\n",
       "<style scoped>\n",
       "    .dataframe tbody tr th:only-of-type {\n",
       "        vertical-align: middle;\n",
       "    }\n",
       "\n",
       "    .dataframe tbody tr th {\n",
       "        vertical-align: top;\n",
       "    }\n",
       "\n",
       "    .dataframe thead th {\n",
       "        text-align: right;\n",
       "    }\n",
       "</style>\n",
       "<table border=\"1\" class=\"dataframe\">\n",
       "  <thead>\n",
       "    <tr style=\"text-align: right;\">\n",
       "      <th></th>\n",
       "      <th>STATUS</th>\n",
       "      <th>CODE_GENDER</th>\n",
       "      <th>FLAG_OWN_CAR</th>\n",
       "      <th>FLAG_OWN_REALTY</th>\n",
       "      <th>CNT_CHILDREN</th>\n",
       "      <th>AMT_INCOME_TOTAL</th>\n",
       "      <th>NAME_INCOME_TYPE</th>\n",
       "      <th>NAME_EDUCATION_TYPE</th>\n",
       "      <th>NAME_FAMILY_STATUS</th>\n",
       "      <th>NAME_HOUSING_TYPE</th>\n",
       "      <th>DAYS_BIRTH</th>\n",
       "      <th>DAYS_EMPLOYED</th>\n",
       "      <th>FLAG_MOBIL</th>\n",
       "      <th>FLAG_WORK_PHONE</th>\n",
       "      <th>FLAG_PHONE</th>\n",
       "      <th>FLAG_EMAIL</th>\n",
       "      <th>OCCUPATION_TYPE</th>\n",
       "      <th>CNT_FAM_MEMBERS</th>\n",
       "    </tr>\n",
       "  </thead>\n",
       "  <tbody>\n",
       "    <tr>\n",
       "      <th>0</th>\n",
       "      <td>0</td>\n",
       "      <td>M</td>\n",
       "      <td>Y</td>\n",
       "      <td>Y</td>\n",
       "      <td>0</td>\n",
       "      <td>427500.0000</td>\n",
       "      <td>Working</td>\n",
       "      <td>Higher education</td>\n",
       "      <td>Civil marriage</td>\n",
       "      <td>Rented apartment</td>\n",
       "      <td>-12005</td>\n",
       "      <td>-4542</td>\n",
       "      <td>1</td>\n",
       "      <td>1</td>\n",
       "      <td>0</td>\n",
       "      <td>0</td>\n",
       "      <td>Laborers</td>\n",
       "      <td>2.0000</td>\n",
       "    </tr>\n",
       "    <tr>\n",
       "      <th>1</th>\n",
       "      <td>0</td>\n",
       "      <td>M</td>\n",
       "      <td>Y</td>\n",
       "      <td>Y</td>\n",
       "      <td>0</td>\n",
       "      <td>112500.0000</td>\n",
       "      <td>Working</td>\n",
       "      <td>Secondary / secondary special</td>\n",
       "      <td>Married</td>\n",
       "      <td>House / apartment</td>\n",
       "      <td>-21474</td>\n",
       "      <td>-1134</td>\n",
       "      <td>1</td>\n",
       "      <td>0</td>\n",
       "      <td>0</td>\n",
       "      <td>0</td>\n",
       "      <td>Security staff</td>\n",
       "      <td>2.0000</td>\n",
       "    </tr>\n",
       "    <tr>\n",
       "      <th>2</th>\n",
       "      <td>0</td>\n",
       "      <td>F</td>\n",
       "      <td>N</td>\n",
       "      <td>Y</td>\n",
       "      <td>0</td>\n",
       "      <td>270000.0000</td>\n",
       "      <td>Commercial associate</td>\n",
       "      <td>Secondary / secondary special</td>\n",
       "      <td>Single / not married</td>\n",
       "      <td>House / apartment</td>\n",
       "      <td>-19110</td>\n",
       "      <td>-3051</td>\n",
       "      <td>1</td>\n",
       "      <td>0</td>\n",
       "      <td>1</td>\n",
       "      <td>1</td>\n",
       "      <td>Sales staff</td>\n",
       "      <td>1.0000</td>\n",
       "    </tr>\n",
       "    <tr>\n",
       "      <th>3</th>\n",
       "      <td>0</td>\n",
       "      <td>F</td>\n",
       "      <td>N</td>\n",
       "      <td>Y</td>\n",
       "      <td>0</td>\n",
       "      <td>283500.0000</td>\n",
       "      <td>Pensioner</td>\n",
       "      <td>Higher education</td>\n",
       "      <td>Separated</td>\n",
       "      <td>House / apartment</td>\n",
       "      <td>-22464</td>\n",
       "      <td>365243</td>\n",
       "      <td>1</td>\n",
       "      <td>0</td>\n",
       "      <td>0</td>\n",
       "      <td>0</td>\n",
       "      <td>Core staff</td>\n",
       "      <td>1.0000</td>\n",
       "    </tr>\n",
       "    <tr>\n",
       "      <th>4</th>\n",
       "      <td>0</td>\n",
       "      <td>M</td>\n",
       "      <td>Y</td>\n",
       "      <td>Y</td>\n",
       "      <td>0</td>\n",
       "      <td>270000.0000</td>\n",
       "      <td>Working</td>\n",
       "      <td>Higher education</td>\n",
       "      <td>Married</td>\n",
       "      <td>House / apartment</td>\n",
       "      <td>-16872</td>\n",
       "      <td>-769</td>\n",
       "      <td>1</td>\n",
       "      <td>1</td>\n",
       "      <td>1</td>\n",
       "      <td>1</td>\n",
       "      <td>Accountants</td>\n",
       "      <td>2.0000</td>\n",
       "    </tr>\n",
       "    <tr>\n",
       "      <th>...</th>\n",
       "      <td>...</td>\n",
       "      <td>...</td>\n",
       "      <td>...</td>\n",
       "      <td>...</td>\n",
       "      <td>...</td>\n",
       "      <td>...</td>\n",
       "      <td>...</td>\n",
       "      <td>...</td>\n",
       "      <td>...</td>\n",
       "      <td>...</td>\n",
       "      <td>...</td>\n",
       "      <td>...</td>\n",
       "      <td>...</td>\n",
       "      <td>...</td>\n",
       "      <td>...</td>\n",
       "      <td>...</td>\n",
       "      <td>...</td>\n",
       "      <td>...</td>\n",
       "    </tr>\n",
       "    <tr>\n",
       "      <th>9992</th>\n",
       "      <td>0</td>\n",
       "      <td>M</td>\n",
       "      <td>Y</td>\n",
       "      <td>Y</td>\n",
       "      <td>0</td>\n",
       "      <td>112500.0000</td>\n",
       "      <td>Working</td>\n",
       "      <td>Secondary / secondary special</td>\n",
       "      <td>Single / not married</td>\n",
       "      <td>House / apartment</td>\n",
       "      <td>-9874</td>\n",
       "      <td>-1650</td>\n",
       "      <td>1</td>\n",
       "      <td>1</td>\n",
       "      <td>0</td>\n",
       "      <td>0</td>\n",
       "      <td>Medicine staff</td>\n",
       "      <td>1.0000</td>\n",
       "    </tr>\n",
       "    <tr>\n",
       "      <th>9993</th>\n",
       "      <td>0</td>\n",
       "      <td>F</td>\n",
       "      <td>N</td>\n",
       "      <td>Y</td>\n",
       "      <td>1</td>\n",
       "      <td>135000.0000</td>\n",
       "      <td>Working</td>\n",
       "      <td>Secondary / secondary special</td>\n",
       "      <td>Married</td>\n",
       "      <td>House / apartment</td>\n",
       "      <td>-16302</td>\n",
       "      <td>-8894</td>\n",
       "      <td>1</td>\n",
       "      <td>0</td>\n",
       "      <td>0</td>\n",
       "      <td>0</td>\n",
       "      <td>Medicine staff</td>\n",
       "      <td>3.0000</td>\n",
       "    </tr>\n",
       "    <tr>\n",
       "      <th>9994</th>\n",
       "      <td>0</td>\n",
       "      <td>F</td>\n",
       "      <td>Y</td>\n",
       "      <td>Y</td>\n",
       "      <td>1</td>\n",
       "      <td>112500.0000</td>\n",
       "      <td>Working</td>\n",
       "      <td>Secondary / secondary special</td>\n",
       "      <td>Married</td>\n",
       "      <td>House / apartment</td>\n",
       "      <td>-14234</td>\n",
       "      <td>-309</td>\n",
       "      <td>1</td>\n",
       "      <td>0</td>\n",
       "      <td>0</td>\n",
       "      <td>0</td>\n",
       "      <td>Core staff</td>\n",
       "      <td>3.0000</td>\n",
       "    </tr>\n",
       "    <tr>\n",
       "      <th>9995</th>\n",
       "      <td>0</td>\n",
       "      <td>F</td>\n",
       "      <td>N</td>\n",
       "      <td>Y</td>\n",
       "      <td>0</td>\n",
       "      <td>180000.0000</td>\n",
       "      <td>Working</td>\n",
       "      <td>Secondary / secondary special</td>\n",
       "      <td>Married</td>\n",
       "      <td>House / apartment</td>\n",
       "      <td>-17713</td>\n",
       "      <td>-2441</td>\n",
       "      <td>1</td>\n",
       "      <td>0</td>\n",
       "      <td>0</td>\n",
       "      <td>0</td>\n",
       "      <td>Cooking staff</td>\n",
       "      <td>2.0000</td>\n",
       "    </tr>\n",
       "    <tr>\n",
       "      <th>9996</th>\n",
       "      <td>0</td>\n",
       "      <td>F</td>\n",
       "      <td>N</td>\n",
       "      <td>N</td>\n",
       "      <td>0</td>\n",
       "      <td>90000.0000</td>\n",
       "      <td>Working</td>\n",
       "      <td>Higher education</td>\n",
       "      <td>Married</td>\n",
       "      <td>With parents</td>\n",
       "      <td>-12414</td>\n",
       "      <td>-128</td>\n",
       "      <td>1</td>\n",
       "      <td>0</td>\n",
       "      <td>0</td>\n",
       "      <td>0</td>\n",
       "      <td>Laborers</td>\n",
       "      <td>2.0000</td>\n",
       "    </tr>\n",
       "  </tbody>\n",
       "</table>\n",
       "<p>9997 rows × 18 columns</p>\n",
       "</div>"
      ],
      "text/plain": [
       "      STATUS CODE_GENDER FLAG_OWN_CAR FLAG_OWN_REALTY  CNT_CHILDREN  \\\n",
       "0          0           M            Y               Y             0   \n",
       "1          0           M            Y               Y             0   \n",
       "2          0           F            N               Y             0   \n",
       "3          0           F            N               Y             0   \n",
       "4          0           M            Y               Y             0   \n",
       "...      ...         ...          ...             ...           ...   \n",
       "9992       0           M            Y               Y             0   \n",
       "9993       0           F            N               Y             1   \n",
       "9994       0           F            Y               Y             1   \n",
       "9995       0           F            N               Y             0   \n",
       "9996       0           F            N               N             0   \n",
       "\n",
       "      AMT_INCOME_TOTAL      NAME_INCOME_TYPE            NAME_EDUCATION_TYPE  \\\n",
       "0          427500.0000               Working               Higher education   \n",
       "1          112500.0000               Working  Secondary / secondary special   \n",
       "2          270000.0000  Commercial associate  Secondary / secondary special   \n",
       "3          283500.0000             Pensioner               Higher education   \n",
       "4          270000.0000               Working               Higher education   \n",
       "...                ...                   ...                            ...   \n",
       "9992       112500.0000               Working  Secondary / secondary special   \n",
       "9993       135000.0000               Working  Secondary / secondary special   \n",
       "9994       112500.0000               Working  Secondary / secondary special   \n",
       "9995       180000.0000               Working  Secondary / secondary special   \n",
       "9996        90000.0000               Working               Higher education   \n",
       "\n",
       "        NAME_FAMILY_STATUS  NAME_HOUSING_TYPE  DAYS_BIRTH  DAYS_EMPLOYED  \\\n",
       "0           Civil marriage   Rented apartment      -12005          -4542   \n",
       "1                  Married  House / apartment      -21474          -1134   \n",
       "2     Single / not married  House / apartment      -19110          -3051   \n",
       "3                Separated  House / apartment      -22464         365243   \n",
       "4                  Married  House / apartment      -16872           -769   \n",
       "...                    ...                ...         ...            ...   \n",
       "9992  Single / not married  House / apartment       -9874          -1650   \n",
       "9993               Married  House / apartment      -16302          -8894   \n",
       "9994               Married  House / apartment      -14234           -309   \n",
       "9995               Married  House / apartment      -17713          -2441   \n",
       "9996               Married       With parents      -12414           -128   \n",
       "\n",
       "      FLAG_MOBIL  FLAG_WORK_PHONE  FLAG_PHONE  FLAG_EMAIL OCCUPATION_TYPE  \\\n",
       "0              1                1           0           0        Laborers   \n",
       "1              1                0           0           0  Security staff   \n",
       "2              1                0           1           1     Sales staff   \n",
       "3              1                0           0           0      Core staff   \n",
       "4              1                1           1           1     Accountants   \n",
       "...          ...              ...         ...         ...             ...   \n",
       "9992           1                1           0           0  Medicine staff   \n",
       "9993           1                0           0           0  Medicine staff   \n",
       "9994           1                0           0           0      Core staff   \n",
       "9995           1                0           0           0   Cooking staff   \n",
       "9996           1                0           0           0        Laborers   \n",
       "\n",
       "      CNT_FAM_MEMBERS  \n",
       "0              2.0000  \n",
       "1              2.0000  \n",
       "2              1.0000  \n",
       "3              1.0000  \n",
       "4              2.0000  \n",
       "...               ...  \n",
       "9992           1.0000  \n",
       "9993           3.0000  \n",
       "9994           3.0000  \n",
       "9995           2.0000  \n",
       "9996           2.0000  \n",
       "\n",
       "[9997 rows x 18 columns]"
      ]
     },
     "execution_count": 29,
     "metadata": {},
     "output_type": "execute_result"
    }
   ],
   "source": [
    "df_creditcard_issued.drop(columns=['ID'], inplace=True)\n",
    "df_creditcard_issued.drop_duplicates(inplace=True, ignore_index=True)\n",
    "df_creditcard_issued"
   ]
  },
  {
   "cell_type": "code",
   "execution_count": 30,
   "metadata": {},
   "outputs": [
    {
     "name": "stdout",
     "output_type": "stream",
     "text": [
      "0    9555\n",
      "1     442\n",
      "Name: STATUS, dtype: int64 \n",
      "---\n",
      " 0   95.5787\n",
      "1    4.4213\n",
      "Name: STATUS, dtype: float64\n"
     ]
    }
   ],
   "source": [
    "print(df_creditcard_issued.STATUS.value_counts(), '\\n---\\n', df_creditcard_issued.STATUS.value_counts(normalize=True) * 100.00)"
   ]
  },
  {
   "cell_type": "markdown",
   "metadata": {},
   "source": [
    "__*We can see that the merged and de-duplicated dataset comes out to 9997 rows. The distribution of the Delinquent label within this dataset comes out to be 9555 \"good\" users and 442 \"bad\" users at a ratio of 95.58% good vs. 4.42% bad users.*__"
   ]
  },
  {
   "cell_type": "markdown",
   "metadata": {},
   "source": [
    "#### As part of the EDA, report your observations for the following questions:\n",
    "\n",
    "\t1. What is the proportion of females in the applicant customer base?\n",
    "\t2. Is homeownership higher among male applicants or female applicants?\n",
    "\t3. Is there any correlation between the customer's income level and education level?\n",
    "\t4. What is the average and median salary of the applicant base?\n",
    "\t5. Is the proportion of bad customers higher for people who own cars?\n",
    "\t6. Is the proportion of bad customers higher for those living on rent than the rest of the population?\n",
    "\t7. Is the proportion of bad customers higher for those who are single than married customers?"
   ]
  },
  {
   "cell_type": "markdown",
   "metadata": {},
   "source": [
    "#### EDA_1) What is the proportion of females in the applicant customer base?"
   ]
  },
  {
   "cell_type": "code",
   "execution_count": 41,
   "metadata": {},
   "outputs": [
    {
     "data": {
      "image/png": "[encoded data removed]",
      "text/plain": [
       "<Figure size 360x360 with 1 Axes>"
      ]
     },
     "metadata": {},
     "output_type": "display_data"
    }
   ],
   "source": [
    "# Let us visualize the gender distribution as a pie plot\n",
    "\n",
    "genderCounts = df_creditcard_issued.CODE_GENDER.value_counts()\n",
    "plt.rcParams['font.size'] = '14'\n",
    "plt.figure(figsize=(5,5))\n",
    "plt.pie(x=genderCounts, explode=[0.01,0.05], labels=genderCounts.index, autopct='%1.2f %%')\n",
    "plt.title('Percentage distribution of Females vs. Males in the applicant customer base')\n",
    "plt.show()"
   ]
  },
  {
   "cell_type": "markdown",
   "metadata": {},
   "source": [
    "__*Observation: We can see that Females make up 65.12% of the applicant customer base compared to 34.88% Males*__"
   ]
  },
  {
   "cell_type": "markdown",
   "metadata": {},
   "source": [
    "#### EDA_2) Is homeownership higher among male applicants or female applicants?"
   ]
  },
  {
   "cell_type": "code",
   "execution_count": 70,
   "metadata": {},
   "outputs": [
    {
     "data": {
      "image/png": "[encoded data removed]",
      "text/plain": [
       "<Figure size 360x360 with 1 Axes>"
      ]
     },
     "metadata": {
      "needs_background": "light"
     },
     "output_type": "display_data"
    }
   ],
   "source": [
    "# Let us visualize the homeownership distribution as a bar plot\n",
    "\n",
    "homeowner_gender_counts = df_creditcard_issued[df_creditcard_issued.FLAG_OWN_REALTY=='Y']\\\n",
    "                            .groupby('CODE_GENDER')['CODE_GENDER'].count()\n",
    "plt.figure(figsize=(5,5))\n",
    "homeowner_gender_counts.plot.bar()\n",
    "plt.title('Homeownership distribution by gender')\n",
    "plt.show()"
   ]
  },
  {
   "cell_type": "markdown",
   "metadata": {},
   "source": [
    "__*Observation: We can see that homeownership is higher for female applicants compared to male applicants*__"
   ]
  },
  {
   "cell_type": "markdown",
   "metadata": {},
   "source": [
    "#### EDA_3) Is there any correlation between the customer's income level and education level?"
   ]
  },
  {
   "cell_type": "code",
   "execution_count": 74,
   "metadata": {},
   "outputs": [
    {
     "data": {
      "image/png": "[encoded data removed]",
      "text/plain": [
       "<Figure size 720x360 with 1 Axes>"
      ]
     },
     "metadata": {
      "needs_background": "light"
     },
     "output_type": "display_data"
    }
   ],
   "source": [
    "# Let us visualize the correlation between the customer's income level and education level as a horizontal bar plot\n",
    "\n",
    "edulevel_vs_income = df_creditcard_issued.groupby('NAME_EDUCATION_TYPE')['AMT_INCOME_TOTAL']\\\n",
    "                        .median().sort_values(ascending=False)\n",
    "plt.figure(figsize=(10,5))\n",
    "edulevel_vs_income.plot.barh()\n",
    "plt.title('Median Income Levels for all Education Levels')\n",
    "plt.xlabel('Median Income Level')\n",
    "plt.ylabel(None)\n",
    "plt.show()"
   ]
  },
  {
   "cell_type": "markdown",
   "metadata": {},
   "source": [
    "__*Observation: We can see a direct correlation between the customer's income level and education level. Higher the education level, higher the median income for the overall applicant base*__"
   ]
  },
  {
   "cell_type": "markdown",
   "metadata": {},
   "source": [
    "#### EDA_4) What is the average and median salary of the applicant base?"
   ]
  },
  {
   "cell_type": "code",
   "execution_count": 75,
   "metadata": {},
   "outputs": [
    {
     "data": {
      "text/plain": [
       "count      9997.0000\n",
       "mean     181479.6474\n",
       "std       99508.1045\n",
       "min       27000.0000\n",
       "25%      112500.0000\n",
       "50%      157500.0000\n",
       "75%      225000.0000\n",
       "max     1575000.0000\n",
       "Name: AMT_INCOME_TOTAL, dtype: float64"
      ]
     },
     "execution_count": 75,
     "metadata": {},
     "output_type": "execute_result"
    }
   ],
   "source": [
    "# Let us check the salary distribution statistics\n",
    "\n",
    "df_creditcard_issued.AMT_INCOME_TOTAL.describe()"
   ]
  },
  {
   "cell_type": "markdown",
   "metadata": {},
   "source": [
    "__*Observation: Based on the Income (salary) statistical distribution, we can see that the average (mean) salary of the applicant base comes to 181479.65, while the median (50th percentile) salary comes out to be 157500.00*__"
   ]
  },
  {
   "cell_type": "markdown",
   "metadata": {},
   "source": [
    "#### EDA_5) Is the proportion of bad customers higher for people who own cars?"
   ]
  },
  {
   "cell_type": "code",
   "execution_count": 104,
   "metadata": {},
   "outputs": [
    {
     "data": {
      "text/plain": [
       "FLAG_OWN_CAR  STATUS\n",
       "N             0         6036\n",
       "              1          287\n",
       "Y             0         3519\n",
       "              1          155\n",
       "Name: STATUS, dtype: int64"
      ]
     },
     "metadata": {},
     "output_type": "display_data"
    },
    {
     "data": {
      "image/png": "[encoded data removed]",
      "text/plain": [
       "<Figure size 720x432 with 2 Axes>"
      ]
     },
     "metadata": {},
     "output_type": "display_data"
    }
   ],
   "source": [
    "# Let us visualize the good/bad distribution against car ownership\n",
    "\n",
    "carowner_delinquent_counts = df_creditcard_issued.groupby('FLAG_OWN_CAR')['STATUS'].value_counts()\n",
    "display(carowner_delinquent_counts)\n",
    "fig, ax = plt.subplots(figsize=(10, 6),ncols=2)\n",
    "ax[0].pie(x=carowner_delinquent_counts[0:2], explode=[0.01,0.05], autopct='%1.2f %%')\n",
    "ax[1].pie(x=carowner_delinquent_counts[2:4], explode=[0.01,0.05], autopct='%1.2f %%')\n",
    "plt.title('Proportion of good/bad customers against car ownership')\n",
    "plt.legend(['Good', 'Bad'])\n",
    "plt.show()"
   ]
  },
  {
   "cell_type": "markdown",
   "metadata": {},
   "source": [
    "__*Observation: We can see that the proportion of bad customers is higher for non-car-owners (bad is 4.54%) compared to car-owners (bad is 4.22%)*__"
   ]
  },
  {
   "cell_type": "markdown",
   "metadata": {},
   "source": [
    "#### EDA_6) Is the proportion of bad customers higher for those living on rent than the rest of the population?"
   ]
  },
  {
   "cell_type": "code",
   "execution_count": 105,
   "metadata": {},
   "outputs": [
    {
     "data": {
      "text/plain": [
       "House / apartment      8941\n",
       "With parents            457\n",
       "Municipal apartment     334\n",
       "Rented apartment        148\n",
       "Office apartment         81\n",
       "Co-op apartment          36\n",
       "Name: NAME_HOUSING_TYPE, dtype: int64"
      ]
     },
     "execution_count": 105,
     "metadata": {},
     "output_type": "execute_result"
    }
   ],
   "source": [
    "# Let us first create a new feature \"FLAG_RENTER\" with N/Y values to distinguish customers living on rent vs. the rest\n",
    "\n",
    "df_creditcard_issued.NAME_HOUSING_TYPE.value_counts()"
   ]
  },
  {
   "cell_type": "code",
   "execution_count": 106,
   "metadata": {},
   "outputs": [
    {
     "data": {
      "text/plain": [
       "N    9849\n",
       "Y     148\n",
       "Name: FLAG_RENTER, dtype: int64"
      ]
     },
     "execution_count": 106,
     "metadata": {},
     "output_type": "execute_result"
    }
   ],
   "source": [
    "df_creditcard_issued['FLAG_RENTER'] = df_creditcard_issued.NAME_HOUSING_TYPE\\\n",
    "                                        .apply(lambda x: 'Y' if x=='Rented apartment' else 'N')\n",
    "df_creditcard_issued.FLAG_RENTER.value_counts()"
   ]
  },
  {
   "cell_type": "code",
   "execution_count": 107,
   "metadata": {},
   "outputs": [
    {
     "data": {
      "text/plain": [
       "FLAG_RENTER  STATUS\n",
       "N            0         9414\n",
       "             1          435\n",
       "Y            0          141\n",
       "             1            7\n",
       "Name: STATUS, dtype: int64"
      ]
     },
     "metadata": {},
     "output_type": "display_data"
    },
    {
     "data": {
      "image/png": "[encoded data removed]",
      "text/plain": [
       "<Figure size 720x432 with 2 Axes>"
      ]
     },
     "metadata": {},
     "output_type": "display_data"
    }
   ],
   "source": [
    "# Now we can visualize the good/bad % distribution for customers living on rent vs. the rest\n",
    "\n",
    "rental_delinquent_counts = df_creditcard_issued.groupby('FLAG_RENTER')['STATUS'].value_counts()\n",
    "display(rental_delinquent_counts)\n",
    "fig, ax = plt.subplots(figsize=(10, 6),ncols=2)\n",
    "ax[0].pie(x=rental_delinquent_counts[0:2], explode=[0.01,0.05], autopct='%1.2f %%')\n",
    "ax[1].pie(x=rental_delinquent_counts[2:4], explode=[0.01,0.05], autopct='%1.2f %%')\n",
    "plt.title('Good/bad % distribution for customers living on rent vs. the rest')\n",
    "plt.legend(['Good', 'Bad'])\n",
    "plt.show()"
   ]
  },
  {
   "cell_type": "markdown",
   "metadata": {},
   "source": [
    "__*Observation: We can see that the proportion of bad customers is higher for renters (bad is 4.73%) compared to non-renters (bad is 4.42%)*__"
   ]
  },
  {
   "cell_type": "markdown",
   "metadata": {},
   "source": [
    "#### EDA_7) Is the proportion of bad customers higher for those who are single than married customers?"
   ]
  },
  {
   "cell_type": "code",
   "execution_count": 108,
   "metadata": {},
   "outputs": [
    {
     "data": {
      "text/plain": [
       "Married                 6728\n",
       "Single / not married    1393\n",
       "Civil marriage           859\n",
       "Separated                587\n",
       "Widow                    430\n",
       "Name: NAME_FAMILY_STATUS, dtype: int64"
      ]
     },
     "execution_count": 108,
     "metadata": {},
     "output_type": "execute_result"
    }
   ],
   "source": [
    "# Let us first create a new feature \"FLAG_SINGLE\" with N/Y values to distinguish between single and married customers\n",
    "\n",
    "df_creditcard_issued.NAME_FAMILY_STATUS.value_counts()"
   ]
  },
  {
   "cell_type": "code",
   "execution_count": 110,
   "metadata": {},
   "outputs": [
    {
     "data": {
      "text/plain": [
       "N    7587\n",
       "Y    2410\n",
       "Name: FLAG_SINGLE, dtype: int64"
      ]
     },
     "execution_count": 110,
     "metadata": {},
     "output_type": "execute_result"
    }
   ],
   "source": [
    "df_creditcard_issued['FLAG_SINGLE'] = df_creditcard_issued.NAME_FAMILY_STATUS\\\n",
    "                                        .apply(lambda x: 'N' if (x=='Married' or x=='Civil marriage') else 'Y')\n",
    "df_creditcard_issued.FLAG_SINGLE.value_counts()"
   ]
  },
  {
   "cell_type": "code",
   "execution_count": 111,
   "metadata": {},
   "outputs": [
    {
     "data": {
      "text/plain": [
       "FLAG_SINGLE  STATUS\n",
       "N            0         7275\n",
       "             1          312\n",
       "Y            0         2280\n",
       "             1          130\n",
       "Name: STATUS, dtype: int64"
      ]
     },
     "metadata": {},
     "output_type": "display_data"
    },
    {
     "data": {
      "image/png": "[encoded data removed]",
      "text/plain": [
       "<Figure size 720x432 with 2 Axes>"
      ]
     },
     "metadata": {},
     "output_type": "display_data"
    }
   ],
   "source": [
    "# Now we can visualize the good/bad % distribution for single and married customers\n",
    "\n",
    "marital_delinquent_counts = df_creditcard_issued.groupby('FLAG_SINGLE')['STATUS'].value_counts()\n",
    "display(marital_delinquent_counts)\n",
    "fig, ax = plt.subplots(figsize=(10, 6),ncols=2)\n",
    "ax[1].pie(x=marital_delinquent_counts[0:2], explode=[0.01,0.05], autopct='%1.2f %%')\n",
    "ax[0].pie(x=marital_delinquent_counts[2:4], explode=[0.01,0.05], autopct='%1.2f %%')\n",
    "plt.title('Good/bad % distribution for single vs. married customers')\n",
    "plt.legend(['Good', 'Bad'])\n",
    "plt.show()"
   ]
  },
  {
   "cell_type": "markdown",
   "metadata": {},
   "source": [
    "__*Observation: We can see that the proportion of bad customers is higher for single (bad is 5.39%) compared to married (bad is 4.11%) customers*__"
   ]
  },
  {
   "cell_type": "markdown",
   "metadata": {},
   "source": [
    "### Variable exploration and outlier treatment"
   ]
  },
  {
   "cell_type": "code",
   "execution_count": 112,
   "metadata": {},
   "outputs": [
    {
     "name": "stdout",
     "output_type": "stream",
     "text": [
      "<class 'pandas.core.frame.DataFrame'>\n",
      "RangeIndex: 9997 entries, 0 to 9996\n",
      "Data columns (total 20 columns):\n",
      " #   Column               Non-Null Count  Dtype  \n",
      "---  ------               --------------  -----  \n",
      " 0   STATUS               9997 non-null   int64  \n",
      " 1   CODE_GENDER          9997 non-null   object \n",
      " 2   FLAG_OWN_CAR         9997 non-null   object \n",
      " 3   FLAG_OWN_REALTY      9997 non-null   object \n",
      " 4   CNT_CHILDREN         9997 non-null   int64  \n",
      " 5   AMT_INCOME_TOTAL     9997 non-null   float64\n",
      " 6   NAME_INCOME_TYPE     9997 non-null   object \n",
      " 7   NAME_EDUCATION_TYPE  9997 non-null   object \n",
      " 8   NAME_FAMILY_STATUS   9997 non-null   object \n",
      " 9   NAME_HOUSING_TYPE    9997 non-null   object \n",
      " 10  DAYS_BIRTH           9997 non-null   int64  \n",
      " 11  DAYS_EMPLOYED        9997 non-null   int64  \n",
      " 12  FLAG_MOBIL           9997 non-null   int64  \n",
      " 13  FLAG_WORK_PHONE      9997 non-null   int64  \n",
      " 14  FLAG_PHONE           9997 non-null   int64  \n",
      " 15  FLAG_EMAIL           9997 non-null   int64  \n",
      " 16  OCCUPATION_TYPE      9997 non-null   object \n",
      " 17  CNT_FAM_MEMBERS      9997 non-null   float64\n",
      " 18  FLAG_RENTER          9997 non-null   object \n",
      " 19  FLAG_SINGLE          9997 non-null   object \n",
      "dtypes: float64(2), int64(8), object(10)\n",
      "memory usage: 1.5+ MB\n"
     ]
    }
   ],
   "source": [
    "df_backup1 = df_creditcard_issued\n",
    "df_creditcard_issued.info()"
   ]
  },
  {
   "cell_type": "code",
   "execution_count": 113,
   "metadata": {},
   "outputs": [
    {
     "data": {
      "text/html": [
       "<div>\n",
       "<style scoped>\n",
       "    .dataframe tbody tr th:only-of-type {\n",
       "        vertical-align: middle;\n",
       "    }\n",
       "\n",
       "    .dataframe tbody tr th {\n",
       "        vertical-align: top;\n",
       "    }\n",
       "\n",
       "    .dataframe thead th {\n",
       "        text-align: right;\n",
       "    }\n",
       "</style>\n",
       "<table border=\"1\" class=\"dataframe\">\n",
       "  <thead>\n",
       "    <tr style=\"text-align: right;\">\n",
       "      <th></th>\n",
       "      <th>STATUS</th>\n",
       "      <th>CNT_CHILDREN</th>\n",
       "      <th>AMT_INCOME_TOTAL</th>\n",
       "      <th>DAYS_BIRTH</th>\n",
       "      <th>DAYS_EMPLOYED</th>\n",
       "      <th>FLAG_MOBIL</th>\n",
       "      <th>FLAG_WORK_PHONE</th>\n",
       "      <th>FLAG_PHONE</th>\n",
       "      <th>FLAG_EMAIL</th>\n",
       "      <th>CNT_FAM_MEMBERS</th>\n",
       "    </tr>\n",
       "  </thead>\n",
       "  <tbody>\n",
       "    <tr>\n",
       "      <th>count</th>\n",
       "      <td>9997.0000</td>\n",
       "      <td>9997.0000</td>\n",
       "      <td>9997.0000</td>\n",
       "      <td>9997.0000</td>\n",
       "      <td>9997.0000</td>\n",
       "      <td>9997.0000</td>\n",
       "      <td>9997.0000</td>\n",
       "      <td>9997.0000</td>\n",
       "      <td>9997.0000</td>\n",
       "      <td>9997.0000</td>\n",
       "    </tr>\n",
       "    <tr>\n",
       "      <th>mean</th>\n",
       "      <td>0.0442</td>\n",
       "      <td>0.4234</td>\n",
       "      <td>181479.6474</td>\n",
       "      <td>-15985.9679</td>\n",
       "      <td>61541.3035</td>\n",
       "      <td>1.0000</td>\n",
       "      <td>0.2189</td>\n",
       "      <td>0.2885</td>\n",
       "      <td>0.0878</td>\n",
       "      <td>2.1835</td>\n",
       "    </tr>\n",
       "    <tr>\n",
       "      <th>std</th>\n",
       "      <td>0.2056</td>\n",
       "      <td>0.7670</td>\n",
       "      <td>99508.1045</td>\n",
       "      <td>4244.0316</td>\n",
       "      <td>139486.8333</td>\n",
       "      <td>0.0000</td>\n",
       "      <td>0.4135</td>\n",
       "      <td>0.4531</td>\n",
       "      <td>0.2831</td>\n",
       "      <td>0.9334</td>\n",
       "    </tr>\n",
       "    <tr>\n",
       "      <th>min</th>\n",
       "      <td>0.0000</td>\n",
       "      <td>0.0000</td>\n",
       "      <td>27000.0000</td>\n",
       "      <td>-25152.0000</td>\n",
       "      <td>-15713.0000</td>\n",
       "      <td>1.0000</td>\n",
       "      <td>0.0000</td>\n",
       "      <td>0.0000</td>\n",
       "      <td>0.0000</td>\n",
       "      <td>1.0000</td>\n",
       "    </tr>\n",
       "    <tr>\n",
       "      <th>25%</th>\n",
       "      <td>0.0000</td>\n",
       "      <td>0.0000</td>\n",
       "      <td>112500.0000</td>\n",
       "      <td>-19538.0000</td>\n",
       "      <td>-2992.0000</td>\n",
       "      <td>1.0000</td>\n",
       "      <td>0.0000</td>\n",
       "      <td>0.0000</td>\n",
       "      <td>0.0000</td>\n",
       "      <td>2.0000</td>\n",
       "    </tr>\n",
       "    <tr>\n",
       "      <th>50%</th>\n",
       "      <td>0.0000</td>\n",
       "      <td>0.0000</td>\n",
       "      <td>157500.0000</td>\n",
       "      <td>-15615.0000</td>\n",
       "      <td>-1373.0000</td>\n",
       "      <td>1.0000</td>\n",
       "      <td>0.0000</td>\n",
       "      <td>0.0000</td>\n",
       "      <td>0.0000</td>\n",
       "      <td>2.0000</td>\n",
       "    </tr>\n",
       "    <tr>\n",
       "      <th>75%</th>\n",
       "      <td>0.0000</td>\n",
       "      <td>1.0000</td>\n",
       "      <td>225000.0000</td>\n",
       "      <td>-12423.0000</td>\n",
       "      <td>-339.0000</td>\n",
       "      <td>1.0000</td>\n",
       "      <td>0.0000</td>\n",
       "      <td>1.0000</td>\n",
       "      <td>0.0000</td>\n",
       "      <td>3.0000</td>\n",
       "    </tr>\n",
       "    <tr>\n",
       "      <th>max</th>\n",
       "      <td>1.0000</td>\n",
       "      <td>19.0000</td>\n",
       "      <td>1575000.0000</td>\n",
       "      <td>-7489.0000</td>\n",
       "      <td>365243.0000</td>\n",
       "      <td>1.0000</td>\n",
       "      <td>1.0000</td>\n",
       "      <td>1.0000</td>\n",
       "      <td>1.0000</td>\n",
       "      <td>20.0000</td>\n",
       "    </tr>\n",
       "  </tbody>\n",
       "</table>\n",
       "</div>"
      ],
      "text/plain": [
       "         STATUS  CNT_CHILDREN  AMT_INCOME_TOTAL  DAYS_BIRTH  DAYS_EMPLOYED  \\\n",
       "count 9997.0000     9997.0000         9997.0000   9997.0000      9997.0000   \n",
       "mean     0.0442        0.4234       181479.6474 -15985.9679     61541.3035   \n",
       "std      0.2056        0.7670        99508.1045   4244.0316    139486.8333   \n",
       "min      0.0000        0.0000        27000.0000 -25152.0000    -15713.0000   \n",
       "25%      0.0000        0.0000       112500.0000 -19538.0000     -2992.0000   \n",
       "50%      0.0000        0.0000       157500.0000 -15615.0000     -1373.0000   \n",
       "75%      0.0000        1.0000       225000.0000 -12423.0000      -339.0000   \n",
       "max      1.0000       19.0000      1575000.0000  -7489.0000    365243.0000   \n",
       "\n",
       "       FLAG_MOBIL  FLAG_WORK_PHONE  FLAG_PHONE  FLAG_EMAIL  CNT_FAM_MEMBERS  \n",
       "count   9997.0000        9997.0000   9997.0000   9997.0000        9997.0000  \n",
       "mean       1.0000           0.2189      0.2885      0.0878           2.1835  \n",
       "std        0.0000           0.4135      0.4531      0.2831           0.9334  \n",
       "min        1.0000           0.0000      0.0000      0.0000           1.0000  \n",
       "25%        1.0000           0.0000      0.0000      0.0000           2.0000  \n",
       "50%        1.0000           0.0000      0.0000      0.0000           2.0000  \n",
       "75%        1.0000           0.0000      1.0000      0.0000           3.0000  \n",
       "max        1.0000           1.0000      1.0000      1.0000          20.0000  "
      ]
     },
     "execution_count": 113,
     "metadata": {},
     "output_type": "execute_result"
    }
   ],
   "source": [
    "# Let us check the statistical summary for all the numeric features\n",
    "\n",
    "df_creditcard_issued.describe()"
   ]
  },
  {
   "cell_type": "markdown",
   "metadata": {},
   "source": [
    "__*We can see that all the numeric features show a proper progression from min to max values except for the \"DAYS_EMPLOYED\" feature includes significant outliers going by the difference between the 75th percentile and max values. Any such invalid (positive values will be invalid as per the data dictionary) outliers will be converted to null and then imputed with the median value for this feature*__"
   ]
  },
  {
   "cell_type": "code",
   "execution_count": 115,
   "metadata": {},
   "outputs": [
    {
     "data": {
      "text/plain": [
       "365243    1741\n",
       "Name: DAYS_EMPLOYED, dtype: int64"
      ]
     },
     "execution_count": 115,
     "metadata": {},
     "output_type": "execute_result"
    }
   ],
   "source": [
    "df_creditcard_issued[df_creditcard_issued.DAYS_EMPLOYED>0]['DAYS_EMPLOYED'].value_counts()"
   ]
  },
  {
   "cell_type": "code",
   "execution_count": 117,
   "metadata": {},
   "outputs": [],
   "source": [
    "df_creditcard_issued['DAYS_EMPLOYED'] = df_creditcard_issued['DAYS_EMPLOYED'].apply(lambda x: np.NaN if x>0 else x)"
   ]
  },
  {
   "cell_type": "code",
   "execution_count": 118,
   "metadata": {},
   "outputs": [],
   "source": [
    "df_creditcard_issued['DAYS_EMPLOYED'].fillna(df_creditcard_issued['DAYS_EMPLOYED'].median(), inplace=True)"
   ]
  },
  {
   "cell_type": "code",
   "execution_count": 121,
   "metadata": {},
   "outputs": [
    {
     "name": "stdout",
     "output_type": "stream",
     "text": [
      "F    6510\n",
      "M    3487\n",
      "Name: CODE_GENDER, dtype: int64\n",
      "----------\n",
      "N    6323\n",
      "Y    3674\n",
      "Name: FLAG_OWN_CAR, dtype: int64\n",
      "----------\n",
      "Y    6693\n",
      "N    3304\n",
      "Name: FLAG_OWN_REALTY, dtype: int64\n",
      "----------\n",
      "Working                 5109\n",
      "Commercial associate    2381\n",
      "Pensioner               1757\n",
      "State servant            747\n",
      "Student                    3\n",
      "Name: NAME_INCOME_TYPE, dtype: int64\n",
      "----------\n",
      "Secondary / secondary special    6949\n",
      "Higher education                 2539\n",
      "Incomplete higher                 384\n",
      "Lower secondary                   119\n",
      "Academic degree                     6\n",
      "Name: NAME_EDUCATION_TYPE, dtype: int64\n",
      "----------\n",
      "Married                 6728\n",
      "Single / not married    1393\n",
      "Civil marriage           859\n",
      "Separated                587\n",
      "Widow                    430\n",
      "Name: NAME_FAMILY_STATUS, dtype: int64\n",
      "----------\n",
      "House / apartment      8941\n",
      "With parents            457\n",
      "Municipal apartment     334\n",
      "Rented apartment        148\n",
      "Office apartment         81\n",
      "Co-op apartment          36\n",
      "Name: NAME_HOUSING_TYPE, dtype: int64\n",
      "----------\n",
      "Laborers                 2976\n",
      "Core staff               2783\n",
      "Sales staff               982\n",
      "Managers                  809\n",
      "Drivers                   641\n",
      "High skill tech staff     372\n",
      "Accountants               311\n",
      "Medicine staff            299\n",
      "Cooking staff             197\n",
      "Security staff            189\n",
      "Cleaning staff            148\n",
      "Private service staff      87\n",
      "Low-skill Laborers         57\n",
      "Secretaries                47\n",
      "Waiters/barmen staff       41\n",
      "HR staff                   23\n",
      "IT staff                   19\n",
      "Realty agents              16\n",
      "Name: OCCUPATION_TYPE, dtype: int64\n",
      "----------\n",
      "N    9849\n",
      "Y     148\n",
      "Name: FLAG_RENTER, dtype: int64\n",
      "----------\n",
      "N    7587\n",
      "Y    2410\n",
      "Name: FLAG_SINGLE, dtype: int64\n",
      "----------\n"
     ]
    }
   ],
   "source": [
    "# Let us now check the categorial ('object' type) features value counts\n",
    "\n",
    "for colname in df_creditcard_issued.columns:\n",
    "    if (df_creditcard_issued[colname].dtype=='object'):\n",
    "        print(df_creditcard_issued[colname].value_counts(dropna=False))\n",
    "        print('----------')"
   ]
  },
  {
   "cell_type": "markdown",
   "metadata": {},
   "source": [
    "### Variable transformation and correlation check"
   ]
  },
  {
   "cell_type": "code",
   "execution_count": 123,
   "metadata": {},
   "outputs": [],
   "source": [
    "# Let us convert all the Y/N value categorical features to 1/0 numeric features\n",
    "\n",
    "df_backup2 = df_creditcard_issued\n",
    "df_creditcard_issued['FLAG_OWN_CAR'] = df_creditcard_issued['FLAG_OWN_CAR'].apply(lambda x: 1 if x=='Y' else 0)\n",
    "df_creditcard_issued['FLAG_OWN_REALTY'] = df_creditcard_issued['FLAG_OWN_REALTY'].apply(lambda x: 1 if x=='Y' else 0)"
   ]
  },
  {
   "cell_type": "code",
   "execution_count": 124,
   "metadata": {},
   "outputs": [],
   "source": [
    "# Let us convert the CODE_GENDER 'F'/'M' feature to a new FLAG_MALE feature with 0/1 values standing for 0=='F' and 1=='M'\n",
    "\n",
    "df_creditcard_issued['FLAG_MALE'] = df_creditcard_issued['CODE_GENDER'].apply(lambda x: 1 if x=='M' else 0)"
   ]
  },
  {
   "cell_type": "code",
   "execution_count": 126,
   "metadata": {},
   "outputs": [],
   "source": [
    "# Let us now drop all the converted (CODE_GENDER), non-discriminatory (FLAG_MOBIL which has all values as '1')\n",
    "# and extra features (FLAG_RENTER and 'FLAG_SINGLE) created during the EDA\n",
    "\n",
    "df_creditcard_issued.drop(columns=['CODE_GENDER', 'FLAG_MOBIL', 'FLAG_RENTER', 'FLAG_SINGLE'], inplace=True)"
   ]
  },
  {
   "cell_type": "code",
   "execution_count": 133,
   "metadata": {},
   "outputs": [],
   "source": [
    "# Let us convert the CNT_FAM_MEMBERS feature from float to int dtype\n",
    "\n",
    "df_creditcard_issued['CNT_FAM_MEMBERS'] = df_creditcard_issued['CNT_FAM_MEMBERS'].astype(int)"
   ]
  },
  {
   "cell_type": "code",
   "execution_count": 130,
   "metadata": {},
   "outputs": [
    {
     "data": {
      "text/html": [
       "<div>\n",
       "<style scoped>\n",
       "    .dataframe tbody tr th:only-of-type {\n",
       "        vertical-align: middle;\n",
       "    }\n",
       "\n",
       "    .dataframe tbody tr th {\n",
       "        vertical-align: top;\n",
       "    }\n",
       "\n",
       "    .dataframe thead th {\n",
       "        text-align: right;\n",
       "    }\n",
       "</style>\n",
       "<table border=\"1\" class=\"dataframe\">\n",
       "  <thead>\n",
       "    <tr style=\"text-align: right;\">\n",
       "      <th></th>\n",
       "      <th>STATUS</th>\n",
       "      <th>FLAG_OWN_CAR</th>\n",
       "      <th>FLAG_OWN_REALTY</th>\n",
       "      <th>CNT_CHILDREN</th>\n",
       "      <th>AMT_INCOME_TOTAL</th>\n",
       "      <th>DAYS_BIRTH</th>\n",
       "      <th>DAYS_EMPLOYED</th>\n",
       "      <th>FLAG_WORK_PHONE</th>\n",
       "      <th>FLAG_PHONE</th>\n",
       "      <th>FLAG_EMAIL</th>\n",
       "      <th>CNT_FAM_MEMBERS</th>\n",
       "      <th>FLAG_MALE</th>\n",
       "    </tr>\n",
       "  </thead>\n",
       "  <tbody>\n",
       "    <tr>\n",
       "      <th>count</th>\n",
       "      <td>9997.0000</td>\n",
       "      <td>9997.0000</td>\n",
       "      <td>9997.0000</td>\n",
       "      <td>9997.0000</td>\n",
       "      <td>9997.0000</td>\n",
       "      <td>9997.0000</td>\n",
       "      <td>9997.0000</td>\n",
       "      <td>9997.0000</td>\n",
       "      <td>9997.0000</td>\n",
       "      <td>9997.0000</td>\n",
       "      <td>9997.0000</td>\n",
       "      <td>9997.0000</td>\n",
       "    </tr>\n",
       "    <tr>\n",
       "      <th>mean</th>\n",
       "      <td>0.0442</td>\n",
       "      <td>0.3675</td>\n",
       "      <td>0.6695</td>\n",
       "      <td>0.4234</td>\n",
       "      <td>181479.6474</td>\n",
       "      <td>-15985.9679</td>\n",
       "      <td>-2379.8851</td>\n",
       "      <td>0.2189</td>\n",
       "      <td>0.2885</td>\n",
       "      <td>0.0878</td>\n",
       "      <td>2.1835</td>\n",
       "      <td>0.3488</td>\n",
       "    </tr>\n",
       "    <tr>\n",
       "      <th>std</th>\n",
       "      <td>0.2056</td>\n",
       "      <td>0.4822</td>\n",
       "      <td>0.4704</td>\n",
       "      <td>0.7670</td>\n",
       "      <td>99508.1045</td>\n",
       "      <td>4244.0316</td>\n",
       "      <td>2127.5785</td>\n",
       "      <td>0.4135</td>\n",
       "      <td>0.4531</td>\n",
       "      <td>0.2831</td>\n",
       "      <td>0.9334</td>\n",
       "      <td>0.4766</td>\n",
       "    </tr>\n",
       "    <tr>\n",
       "      <th>min</th>\n",
       "      <td>0.0000</td>\n",
       "      <td>0.0000</td>\n",
       "      <td>0.0000</td>\n",
       "      <td>0.0000</td>\n",
       "      <td>27000.0000</td>\n",
       "      <td>-25152.0000</td>\n",
       "      <td>-15713.0000</td>\n",
       "      <td>0.0000</td>\n",
       "      <td>0.0000</td>\n",
       "      <td>0.0000</td>\n",
       "      <td>1.0000</td>\n",
       "      <td>0.0000</td>\n",
       "    </tr>\n",
       "    <tr>\n",
       "      <th>25%</th>\n",
       "      <td>0.0000</td>\n",
       "      <td>0.0000</td>\n",
       "      <td>0.0000</td>\n",
       "      <td>0.0000</td>\n",
       "      <td>112500.0000</td>\n",
       "      <td>-19538.0000</td>\n",
       "      <td>-2992.0000</td>\n",
       "      <td>0.0000</td>\n",
       "      <td>0.0000</td>\n",
       "      <td>0.0000</td>\n",
       "      <td>2.0000</td>\n",
       "      <td>0.0000</td>\n",
       "    </tr>\n",
       "    <tr>\n",
       "      <th>50%</th>\n",
       "      <td>0.0000</td>\n",
       "      <td>0.0000</td>\n",
       "      <td>1.0000</td>\n",
       "      <td>0.0000</td>\n",
       "      <td>157500.0000</td>\n",
       "      <td>-15615.0000</td>\n",
       "      <td>-1799.0000</td>\n",
       "      <td>0.0000</td>\n",
       "      <td>0.0000</td>\n",
       "      <td>0.0000</td>\n",
       "      <td>2.0000</td>\n",
       "      <td>0.0000</td>\n",
       "    </tr>\n",
       "    <tr>\n",
       "      <th>75%</th>\n",
       "      <td>0.0000</td>\n",
       "      <td>1.0000</td>\n",
       "      <td>1.0000</td>\n",
       "      <td>1.0000</td>\n",
       "      <td>225000.0000</td>\n",
       "      <td>-12423.0000</td>\n",
       "      <td>-1037.0000</td>\n",
       "      <td>0.0000</td>\n",
       "      <td>1.0000</td>\n",
       "      <td>0.0000</td>\n",
       "      <td>3.0000</td>\n",
       "      <td>1.0000</td>\n",
       "    </tr>\n",
       "    <tr>\n",
       "      <th>max</th>\n",
       "      <td>1.0000</td>\n",
       "      <td>1.0000</td>\n",
       "      <td>1.0000</td>\n",
       "      <td>19.0000</td>\n",
       "      <td>1575000.0000</td>\n",
       "      <td>-7489.0000</td>\n",
       "      <td>-17.0000</td>\n",
       "      <td>1.0000</td>\n",
       "      <td>1.0000</td>\n",
       "      <td>1.0000</td>\n",
       "      <td>20.0000</td>\n",
       "      <td>1.0000</td>\n",
       "    </tr>\n",
       "  </tbody>\n",
       "</table>\n",
       "</div>"
      ],
      "text/plain": [
       "         STATUS  FLAG_OWN_CAR  FLAG_OWN_REALTY  CNT_CHILDREN  \\\n",
       "count 9997.0000     9997.0000        9997.0000     9997.0000   \n",
       "mean     0.0442        0.3675           0.6695        0.4234   \n",
       "std      0.2056        0.4822           0.4704        0.7670   \n",
       "min      0.0000        0.0000           0.0000        0.0000   \n",
       "25%      0.0000        0.0000           0.0000        0.0000   \n",
       "50%      0.0000        0.0000           1.0000        0.0000   \n",
       "75%      0.0000        1.0000           1.0000        1.0000   \n",
       "max      1.0000        1.0000           1.0000       19.0000   \n",
       "\n",
       "       AMT_INCOME_TOTAL  DAYS_BIRTH  DAYS_EMPLOYED  FLAG_WORK_PHONE  \\\n",
       "count         9997.0000   9997.0000      9997.0000        9997.0000   \n",
       "mean        181479.6474 -15985.9679     -2379.8851           0.2189   \n",
       "std          99508.1045   4244.0316      2127.5785           0.4135   \n",
       "min          27000.0000 -25152.0000    -15713.0000           0.0000   \n",
       "25%         112500.0000 -19538.0000     -2992.0000           0.0000   \n",
       "50%         157500.0000 -15615.0000     -1799.0000           0.0000   \n",
       "75%         225000.0000 -12423.0000     -1037.0000           0.0000   \n",
       "max        1575000.0000  -7489.0000       -17.0000           1.0000   \n",
       "\n",
       "       FLAG_PHONE  FLAG_EMAIL  CNT_FAM_MEMBERS  FLAG_MALE  \n",
       "count   9997.0000   9997.0000        9997.0000  9997.0000  \n",
       "mean       0.2885      0.0878           2.1835     0.3488  \n",
       "std        0.4531      0.2831           0.9334     0.4766  \n",
       "min        0.0000      0.0000           1.0000     0.0000  \n",
       "25%        0.0000      0.0000           2.0000     0.0000  \n",
       "50%        0.0000      0.0000           2.0000     0.0000  \n",
       "75%        1.0000      0.0000           3.0000     1.0000  \n",
       "max        1.0000      1.0000          20.0000     1.0000  "
      ]
     },
     "execution_count": 130,
     "metadata": {},
     "output_type": "execute_result"
    }
   ],
   "source": [
    "df_creditcard_issued.describe()"
   ]
  },
  {
   "cell_type": "code",
   "execution_count": 131,
   "metadata": {},
   "outputs": [
    {
     "name": "stdout",
     "output_type": "stream",
     "text": [
      "<class 'pandas.core.frame.DataFrame'>\n",
      "RangeIndex: 9997 entries, 0 to 9996\n",
      "Data columns (total 17 columns):\n",
      " #   Column               Non-Null Count  Dtype  \n",
      "---  ------               --------------  -----  \n",
      " 0   STATUS               9997 non-null   int64  \n",
      " 1   FLAG_OWN_CAR         9997 non-null   int64  \n",
      " 2   FLAG_OWN_REALTY      9997 non-null   int64  \n",
      " 3   CNT_CHILDREN         9997 non-null   int64  \n",
      " 4   AMT_INCOME_TOTAL     9997 non-null   float64\n",
      " 5   NAME_INCOME_TYPE     9997 non-null   object \n",
      " 6   NAME_EDUCATION_TYPE  9997 non-null   object \n",
      " 7   NAME_FAMILY_STATUS   9997 non-null   object \n",
      " 8   NAME_HOUSING_TYPE    9997 non-null   object \n",
      " 9   DAYS_BIRTH           9997 non-null   int64  \n",
      " 10  DAYS_EMPLOYED        9997 non-null   float64\n",
      " 11  FLAG_WORK_PHONE      9997 non-null   int64  \n",
      " 12  FLAG_PHONE           9997 non-null   int64  \n",
      " 13  FLAG_EMAIL           9997 non-null   int64  \n",
      " 14  OCCUPATION_TYPE      9997 non-null   object \n",
      " 15  CNT_FAM_MEMBERS      9997 non-null   int32  \n",
      " 16  FLAG_MALE            9997 non-null   int64  \n",
      "dtypes: float64(2), int32(1), int64(9), object(5)\n",
      "memory usage: 1.3+ MB\n"
     ]
    }
   ],
   "source": [
    "df_creditcard_issued.info()"
   ]
  },
  {
   "cell_type": "markdown",
   "metadata": {},
   "source": [
    "__*We will now convert the continuous numeric value features into ordinal categorical features for subsequent \"Weight of Evidence\" transformations. We will use pandas quantile binning (10% x 10 chunks) which will automatically coerce any outliers into the first or last bin respective groups*__"
   ]
  },
  {
   "cell_type": "code",
   "execution_count": 134,
   "metadata": {},
   "outputs": [
    {
     "name": "stdout",
     "output_type": "stream",
     "text": [
      "0    1006\n",
      "9    1000\n",
      "8    1000\n",
      "6    1000\n",
      "4    1000\n",
      "3    1000\n",
      "7     999\n",
      "5     999\n",
      "2     999\n",
      "1     994\n",
      "Name: AGE_CATEGORY, dtype: int64\n"
     ]
    }
   ],
   "source": [
    "df_creditcard_issued['AGE_CATEGORY'] = pd.qcut(x=(df_creditcard_issued['DAYS_BIRTH']/(-365.0)),\\\n",
    "                                        q=10, labels=[0,1,2,3,4,5,6,7,8,9])\n",
    "print(df_creditcard_issued['AGE_CATEGORY'].value_counts())"
   ]
  },
  {
   "cell_type": "code",
   "execution_count": 136,
   "metadata": {},
   "outputs": [
    {
     "name": "stdout",
     "output_type": "stream",
     "text": [
      "4    1871\n",
      "1    1005\n",
      "6    1001\n",
      "0    1001\n",
      "9    1000\n",
      "8    1000\n",
      "2     999\n",
      "7     997\n",
      "3     996\n",
      "5     127\n",
      "Name: EMPLOYED_CATEGORY, dtype: int64\n"
     ]
    }
   ],
   "source": [
    "df_creditcard_issued['EMPLOYED_CATEGORY'] = pd.qcut(x=(df_creditcard_issued['DAYS_EMPLOYED'] / (-365.0)),\\\n",
    "                                             q=10, labels=[0,1,2,3,4,5,6,7,8,9], duplicates='drop')\n",
    "print(df_creditcard_issued['EMPLOYED_CATEGORY'].value_counts())"
   ]
  },
  {
   "cell_type": "code",
   "execution_count": 137,
   "metadata": {},
   "outputs": [
    {
     "name": "stdout",
     "output_type": "stream",
     "text": [
      "0    1400\n",
      "1    1199\n",
      "3    1182\n",
      "4    1108\n",
      "5    1107\n",
      "8     994\n",
      "9     954\n",
      "7     922\n",
      "6     718\n",
      "2     413\n",
      "Name: INCOME_CATEGORY, dtype: int64\n"
     ]
    }
   ],
   "source": [
    "df_creditcard_issued['INCOME_CATEGORY'] = pd.qcut(x=df_creditcard_issued['AMT_INCOME_TOTAL'], \\\n",
    "                                            q=10, labels=[0,1,2,3,4,5,6,7,8,9], duplicates='drop')\n",
    "print(df_creditcard_issued['INCOME_CATEGORY'].value_counts())"
   ]
  },
  {
   "cell_type": "code",
   "execution_count": 140,
   "metadata": {},
   "outputs": [
    {
     "name": "stdout",
     "output_type": "stream",
     "text": [
      "0     7019\n",
      "1     1942\n",
      "2      877\n",
      "3      132\n",
      "4       19\n",
      "5        5\n",
      "7        1\n",
      "14       1\n",
      "19       1\n",
      "Name: CNT_CHILDREN, dtype: int64\n",
      "2     5333\n",
      "1     2005\n",
      "3     1684\n",
      "4      826\n",
      "5      123\n",
      "6       19\n",
      "7        4\n",
      "15       1\n",
      "20       1\n",
      "9        1\n",
      "Name: CNT_FAM_MEMBERS, dtype: int64\n"
     ]
    }
   ],
   "source": [
    "# Let us validate the remaining continuous numeric features\n",
    "\n",
    "print(df_creditcard_issued.CNT_CHILDREN.value_counts())\n",
    "print(df_creditcard_issued.CNT_FAM_MEMBERS.value_counts())"
   ]
  },
  {
   "cell_type": "code",
   "execution_count": 142,
   "metadata": {},
   "outputs": [],
   "source": [
    "# Let us now drop all the converted features from the dataset\n",
    "\n",
    "df_creditcard_issued.drop(columns=['DAYS_BIRTH', 'DAYS_EMPLOYED', 'AMT_INCOME_TOTAL'], inplace=True)"
   ]
  },
  {
   "cell_type": "code",
   "execution_count": 143,
   "metadata": {},
   "outputs": [
    {
     "data": {
      "text/html": [
       "<div>\n",
       "<style scoped>\n",
       "    .dataframe tbody tr th:only-of-type {\n",
       "        vertical-align: middle;\n",
       "    }\n",
       "\n",
       "    .dataframe tbody tr th {\n",
       "        vertical-align: top;\n",
       "    }\n",
       "\n",
       "    .dataframe thead th {\n",
       "        text-align: right;\n",
       "    }\n",
       "</style>\n",
       "<table border=\"1\" class=\"dataframe\">\n",
       "  <thead>\n",
       "    <tr style=\"text-align: right;\">\n",
       "      <th></th>\n",
       "      <th>STATUS</th>\n",
       "      <th>FLAG_OWN_CAR</th>\n",
       "      <th>FLAG_OWN_REALTY</th>\n",
       "      <th>CNT_CHILDREN</th>\n",
       "      <th>NAME_INCOME_TYPE</th>\n",
       "      <th>NAME_EDUCATION_TYPE</th>\n",
       "      <th>NAME_FAMILY_STATUS</th>\n",
       "      <th>NAME_HOUSING_TYPE</th>\n",
       "      <th>FLAG_WORK_PHONE</th>\n",
       "      <th>FLAG_PHONE</th>\n",
       "      <th>FLAG_EMAIL</th>\n",
       "      <th>OCCUPATION_TYPE</th>\n",
       "      <th>CNT_FAM_MEMBERS</th>\n",
       "      <th>FLAG_MALE</th>\n",
       "      <th>AGE_CATEGORY</th>\n",
       "      <th>EMPLOYED_CATEGORY</th>\n",
       "      <th>INCOME_CATEGORY</th>\n",
       "    </tr>\n",
       "  </thead>\n",
       "  <tbody>\n",
       "    <tr>\n",
       "      <th>0</th>\n",
       "      <td>0</td>\n",
       "      <td>1</td>\n",
       "      <td>1</td>\n",
       "      <td>0</td>\n",
       "      <td>Working</td>\n",
       "      <td>Higher education</td>\n",
       "      <td>Civil marriage</td>\n",
       "      <td>Rented apartment</td>\n",
       "      <td>1</td>\n",
       "      <td>0</td>\n",
       "      <td>0</td>\n",
       "      <td>Laborers</td>\n",
       "      <td>2</td>\n",
       "      <td>1</td>\n",
       "      <td>2</td>\n",
       "      <td>8</td>\n",
       "      <td>9</td>\n",
       "    </tr>\n",
       "    <tr>\n",
       "      <th>1</th>\n",
       "      <td>0</td>\n",
       "      <td>1</td>\n",
       "      <td>1</td>\n",
       "      <td>0</td>\n",
       "      <td>Working</td>\n",
       "      <td>Secondary / secondary special</td>\n",
       "      <td>Married</td>\n",
       "      <td>House / apartment</td>\n",
       "      <td>0</td>\n",
       "      <td>0</td>\n",
       "      <td>0</td>\n",
       "      <td>Security staff</td>\n",
       "      <td>2</td>\n",
       "      <td>1</td>\n",
       "      <td>8</td>\n",
       "      <td>2</td>\n",
       "      <td>1</td>\n",
       "    </tr>\n",
       "    <tr>\n",
       "      <th>2</th>\n",
       "      <td>0</td>\n",
       "      <td>0</td>\n",
       "      <td>1</td>\n",
       "      <td>0</td>\n",
       "      <td>Commercial associate</td>\n",
       "      <td>Secondary / secondary special</td>\n",
       "      <td>Single / not married</td>\n",
       "      <td>House / apartment</td>\n",
       "      <td>0</td>\n",
       "      <td>1</td>\n",
       "      <td>1</td>\n",
       "      <td>Sales staff</td>\n",
       "      <td>1</td>\n",
       "      <td>0</td>\n",
       "      <td>7</td>\n",
       "      <td>7</td>\n",
       "      <td>8</td>\n",
       "    </tr>\n",
       "    <tr>\n",
       "      <th>3</th>\n",
       "      <td>0</td>\n",
       "      <td>0</td>\n",
       "      <td>1</td>\n",
       "      <td>0</td>\n",
       "      <td>Pensioner</td>\n",
       "      <td>Higher education</td>\n",
       "      <td>Separated</td>\n",
       "      <td>House / apartment</td>\n",
       "      <td>0</td>\n",
       "      <td>0</td>\n",
       "      <td>0</td>\n",
       "      <td>Core staff</td>\n",
       "      <td>1</td>\n",
       "      <td>0</td>\n",
       "      <td>9</td>\n",
       "      <td>4</td>\n",
       "      <td>8</td>\n",
       "    </tr>\n",
       "    <tr>\n",
       "      <th>4</th>\n",
       "      <td>0</td>\n",
       "      <td>1</td>\n",
       "      <td>1</td>\n",
       "      <td>0</td>\n",
       "      <td>Working</td>\n",
       "      <td>Higher education</td>\n",
       "      <td>Married</td>\n",
       "      <td>House / apartment</td>\n",
       "      <td>1</td>\n",
       "      <td>1</td>\n",
       "      <td>1</td>\n",
       "      <td>Accountants</td>\n",
       "      <td>2</td>\n",
       "      <td>1</td>\n",
       "      <td>5</td>\n",
       "      <td>1</td>\n",
       "      <td>8</td>\n",
       "    </tr>\n",
       "  </tbody>\n",
       "</table>\n",
       "</div>"
      ],
      "text/plain": [
       "   STATUS  FLAG_OWN_CAR  FLAG_OWN_REALTY  CNT_CHILDREN      NAME_INCOME_TYPE  \\\n",
       "0       0             1                1             0               Working   \n",
       "1       0             1                1             0               Working   \n",
       "2       0             0                1             0  Commercial associate   \n",
       "3       0             0                1             0             Pensioner   \n",
       "4       0             1                1             0               Working   \n",
       "\n",
       "             NAME_EDUCATION_TYPE    NAME_FAMILY_STATUS  NAME_HOUSING_TYPE  \\\n",
       "0               Higher education        Civil marriage   Rented apartment   \n",
       "1  Secondary / secondary special               Married  House / apartment   \n",
       "2  Secondary / secondary special  Single / not married  House / apartment   \n",
       "3               Higher education             Separated  House / apartment   \n",
       "4               Higher education               Married  House / apartment   \n",
       "\n",
       "   FLAG_WORK_PHONE  FLAG_PHONE  FLAG_EMAIL OCCUPATION_TYPE  CNT_FAM_MEMBERS  \\\n",
       "0                1           0           0        Laborers                2   \n",
       "1                0           0           0  Security staff                2   \n",
       "2                0           1           1     Sales staff                1   \n",
       "3                0           0           0      Core staff                1   \n",
       "4                1           1           1     Accountants                2   \n",
       "\n",
       "   FLAG_MALE AGE_CATEGORY EMPLOYED_CATEGORY INCOME_CATEGORY  \n",
       "0          1            2                 8               9  \n",
       "1          1            8                 2               1  \n",
       "2          0            7                 7               8  \n",
       "3          0            9                 4               8  \n",
       "4          1            5                 1               8  "
      ]
     },
     "execution_count": 143,
     "metadata": {},
     "output_type": "execute_result"
    }
   ],
   "source": [
    "df_creditcard_issued.head()"
   ]
  },
  {
   "cell_type": "markdown",
   "metadata": {},
   "source": [
    "#### Correlation check"
   ]
  },
  {
   "cell_type": "code",
   "execution_count": 146,
   "metadata": {},
   "outputs": [
    {
     "data": {
      "image/png": "[encoded data removed]",
      "text/plain": [
       "<Figure size 720x720 with 2 Axes>"
      ]
     },
     "metadata": {
      "needs_background": "light"
     },
     "output_type": "display_data"
    }
   ],
   "source": [
    "# Let us view a correlation matrix of all the numeric features as a heatmap plot\n",
    "\n",
    "plt.figure(figsize=(10,10))\n",
    "sns.heatmap(df_creditcard_issued.corr(), cmap='Greens', annot=True)\n",
    "plt.show()"
   ]
  },
  {
   "cell_type": "markdown",
   "metadata": {},
   "source": [
    "__*We can see that the feature \"CNT_CHILDREN\" is highly correlated with \"CNT_FAM_MEMBERS\". Accordingly we will go ahead and drop feature \"CNT_CHILDREN\" from the dataset*__"
   ]
  },
  {
   "cell_type": "code",
   "execution_count": 147,
   "metadata": {},
   "outputs": [],
   "source": [
    "df_creditcard_issued.drop(columns=['CNT_CHILDREN'], inplace=True)"
   ]
  },
  {
   "cell_type": "markdown",
   "metadata": {},
   "source": [
    "### Feature Selection and Model Building"
   ]
  },
  {
   "cell_type": "code",
   "execution_count": 148,
   "metadata": {},
   "outputs": [
    {
     "data": {
      "text/html": [
       "\n",
       "            <div>\n",
       "                <p><b>SparkSession - in-memory</b></p>\n",
       "                \n",
       "        <div>\n",
       "            <p><b>SparkContext</b></p>\n",
       "\n",
       "            <p><a href=\"http://192.168.1.46:4040\">Spark UI</a></p>\n",
       "\n",
       "            <dl>\n",
       "              <dt>Version</dt>\n",
       "                <dd><code>v2.4.4</code></dd>\n",
       "              <dt>Master</dt>\n",
       "                <dd><code>local[*]</code></dd>\n",
       "              <dt>AppName</dt>\n",
       "                <dd><code>CreditApprovalAssignment</code></dd>\n",
       "            </dl>\n",
       "        </div>\n",
       "        \n",
       "            </div>\n",
       "        "
      ],
      "text/plain": [
       "<pyspark.sql.session.SparkSession at 0x1e6da89efc8>"
      ]
     },
     "execution_count": 148,
     "metadata": {},
     "output_type": "execute_result"
    }
   ],
   "source": [
    "# Creating Spark Session\n",
    "\n",
    "from pyspark.sql import SparkSession\n",
    "spark = SparkSession \\\n",
    "    .builder \\\n",
    "    .appName(\"CreditApprovalAssignment\") \\\n",
    "    .config(\"spark.executor.memory\", MAX_MEMORY) \\\n",
    "    .config(\"spark.driver.memory\", MAX_MEMORY) \\\n",
    "    .getOrCreate()\n",
    "\n",
    "spark"
   ]
  },
  {
   "cell_type": "code",
   "execution_count": 150,
   "metadata": {},
   "outputs": [
    {
     "name": "stdout",
     "output_type": "stream",
     "text": [
      "+------+------------+---------------+----------------+-----------------------------+------------------+-----------------+---------------+----------+----------+---------------+---------------+---------+------------+-----------------+---------------+\n",
      "|STATUS|FLAG_OWN_CAR|FLAG_OWN_REALTY|NAME_INCOME_TYPE|NAME_EDUCATION_TYPE          |NAME_FAMILY_STATUS|NAME_HOUSING_TYPE|FLAG_WORK_PHONE|FLAG_PHONE|FLAG_EMAIL|OCCUPATION_TYPE|CNT_FAM_MEMBERS|FLAG_MALE|AGE_CATEGORY|EMPLOYED_CATEGORY|INCOME_CATEGORY|\n",
      "+------+------------+---------------+----------------+-----------------------------+------------------+-----------------+---------------+----------+----------+---------------+---------------+---------+------------+-----------------+---------------+\n",
      "|0     |1           |1              |Working         |Higher education             |Civil marriage    |Rented apartment |1              |0         |0         |Laborers       |2              |1        |2           |8                |9              |\n",
      "|0     |1           |1              |Working         |Secondary / secondary special|Married           |House / apartment|0              |0         |0         |Security staff |2              |1        |8           |2                |1              |\n",
      "+------+------------+---------------+----------------+-----------------------------+------------------+-----------------+---------------+----------+----------+---------------+---------------+---------+------------+-----------------+---------------+\n",
      "only showing top 2 rows\n",
      "\n"
     ]
    }
   ],
   "source": [
    "df_credit_spark1 = spark.createDataFrame(df_creditcard_issued)\n",
    "df_credit_spark1.show(2,truncate=False)"
   ]
  },
  {
   "cell_type": "markdown",
   "metadata": {},
   "source": [
    "#### Applying the concepts of Weight of Evidence and Information Value to perform variable exploration and variable transformations"
   ]
  },
  {
   "cell_type": "code",
   "execution_count": 151,
   "metadata": {},
   "outputs": [],
   "source": [
    "# We will leverage the WOE_IV class defined earlier to calculate the Weight of Evidence and Information Value figures\n",
    "\n",
    "cols_to_woe = ['FLAG_MALE', 'FLAG_OWN_CAR', 'FLAG_OWN_REALTY', 'FLAG_WORK_PHONE', 'FLAG_PHONE', 'FLAG_EMAIL',\\\n",
    "               'NAME_INCOME_TYPE', 'NAME_EDUCATION_TYPE', 'NAME_FAMILY_STATUS', 'NAME_HOUSING_TYPE', 'OCCUPATION_TYPE',\\\n",
    "               'AGE_CATEGORY', 'EMPLOYED_CATEGORY', 'INCOME_CATEGORY', 'CNT_FAM_MEMBERS']\n",
    "label_column = 'STATUS'\n",
    "good_label = '0'\n",
    "\n",
    "woe = WOE_IV(df_credit_spark1, cols_to_woe, label_column, good_label)\n",
    "woe.fit()\n",
    "dict_IV = woe.compute_iv()"
   ]
  },
  {
   "cell_type": "code",
   "execution_count": 152,
   "metadata": {},
   "outputs": [
    {
     "name": "stdout",
     "output_type": "stream",
     "text": [
      "FLAG_MALE : 0.008537770823934717 ==> FEATURE SELECTED\n",
      "FLAG_OWN_CAR : 0.0013470407039887144 ==> WEAK predictor, IGNORE\n",
      "FLAG_OWN_REALTY : 0.03645194403569873 ==> FEATURE SELECTED\n",
      "FLAG_WORK_PHONE : 0.0016859210799422967 ==> WEAK predictor, IGNORE\n",
      "FLAG_PHONE : 0.0019320143952654633 ==> WEAK predictor, IGNORE\n",
      "FLAG_EMAIL : 0.00023630860422097378 ==> WEAK predictor, IGNORE\n",
      "NAME_INCOME_TYPE : 0.015740641785341465 ==> FEATURE SELECTED\n",
      "NAME_EDUCATION_TYPE : 0.006773527817697774 ==> FEATURE SELECTED\n",
      "NAME_FAMILY_STATUS : 0.02746591464178003 ==> FEATURE SELECTED\n",
      "NAME_HOUSING_TYPE : 0.013305220534010755 ==> FEATURE SELECTED\n",
      "OCCUPATION_TYPE : 0.04421821977679071 ==> FEATURE SELECTED\n",
      "AGE_CATEGORY : 0.034680485126883306 ==> FEATURE SELECTED\n",
      "EMPLOYED_CATEGORY : 0.012943477988914445 ==> FEATURE SELECTED\n",
      "INCOME_CATEGORY : 0.015487653189263734 ==> FEATURE SELECTED\n",
      "CNT_FAM_MEMBERS : 0.020178391423001003 ==> FEATURE SELECTED\n"
     ]
    }
   ],
   "source": [
    "# We will use the calculated Information Value figures with a minimum threshold of 0.002 to determine the predictor variables\n",
    "\n",
    "for key,val in dict_IV.items():\n",
    "    print(key,':',val,('==> FEATURE SELECTED' if val > 0.002 else '==> WEAK predictor, IGNORE'))"
   ]
  },
  {
   "cell_type": "code",
   "execution_count": 153,
   "metadata": {},
   "outputs": [
    {
     "name": "stdout",
     "output_type": "stream",
     "text": [
      "root\n",
      " |-- STATUS: long (nullable = true)\n",
      " |-- FLAG_OWN_CAR: long (nullable = true)\n",
      " |-- FLAG_OWN_REALTY: long (nullable = true)\n",
      " |-- NAME_INCOME_TYPE: string (nullable = true)\n",
      " |-- NAME_EDUCATION_TYPE: string (nullable = true)\n",
      " |-- NAME_FAMILY_STATUS: string (nullable = true)\n",
      " |-- NAME_HOUSING_TYPE: string (nullable = true)\n",
      " |-- FLAG_WORK_PHONE: long (nullable = true)\n",
      " |-- FLAG_PHONE: long (nullable = true)\n",
      " |-- FLAG_EMAIL: long (nullable = true)\n",
      " |-- OCCUPATION_TYPE: string (nullable = true)\n",
      " |-- CNT_FAM_MEMBERS: long (nullable = true)\n",
      " |-- FLAG_MALE: long (nullable = true)\n",
      " |-- AGE_CATEGORY: long (nullable = true)\n",
      " |-- EMPLOYED_CATEGORY: long (nullable = true)\n",
      " |-- INCOME_CATEGORY: long (nullable = true)\n",
      " |-- FLAG_MALE_woe: double (nullable = true)\n",
      " |-- FLAG_OWN_CAR_woe: double (nullable = true)\n",
      " |-- FLAG_OWN_REALTY_woe: double (nullable = true)\n",
      " |-- FLAG_WORK_PHONE_woe: double (nullable = true)\n",
      " |-- FLAG_PHONE_woe: double (nullable = true)\n",
      " |-- FLAG_EMAIL_woe: double (nullable = true)\n",
      " |-- NAME_INCOME_TYPE_woe: double (nullable = true)\n",
      " |-- NAME_EDUCATION_TYPE_woe: double (nullable = true)\n",
      " |-- NAME_FAMILY_STATUS_woe: double (nullable = true)\n",
      " |-- NAME_HOUSING_TYPE_woe: double (nullable = true)\n",
      " |-- OCCUPATION_TYPE_woe: double (nullable = true)\n",
      " |-- AGE_CATEGORY_woe: double (nullable = true)\n",
      " |-- EMPLOYED_CATEGORY_woe: double (nullable = true)\n",
      " |-- INCOME_CATEGORY_woe: double (nullable = true)\n",
      " |-- CNT_FAM_MEMBERS_woe: double (nullable = true)\n",
      "\n"
     ]
    }
   ],
   "source": [
    "df_credit_spark2 = woe.transform(df_credit_spark1)\n",
    "df_credit_spark2.printSchema()"
   ]
  },
  {
   "cell_type": "code",
   "execution_count": 155,
   "metadata": {},
   "outputs": [
    {
     "name": "stdout",
     "output_type": "stream",
     "text": [
      "+------+------------+---------------+----------------+-----------------------------+------------------+-----------------+---------------+----------+----------+---------------+---------------+---------+------------+-----------------+---------------+-------------------+-------------------+-------------------+--------------------+-------------------+---------------------+--------------------+-----------------------+----------------------+---------------------+--------------------+---------------------+---------------------+-------------------+-------------------+\n",
      "|STATUS|FLAG_OWN_CAR|FLAG_OWN_REALTY|NAME_INCOME_TYPE|NAME_EDUCATION_TYPE          |NAME_FAMILY_STATUS|NAME_HOUSING_TYPE|FLAG_WORK_PHONE|FLAG_PHONE|FLAG_EMAIL|OCCUPATION_TYPE|CNT_FAM_MEMBERS|FLAG_MALE|AGE_CATEGORY|EMPLOYED_CATEGORY|INCOME_CATEGORY|FLAG_MALE_woe      |FLAG_OWN_CAR_woe   |FLAG_OWN_REALTY_woe|FLAG_WORK_PHONE_woe |FLAG_PHONE_woe     |FLAG_EMAIL_woe       |NAME_INCOME_TYPE_woe|NAME_EDUCATION_TYPE_woe|NAME_FAMILY_STATUS_woe|NAME_HOUSING_TYPE_woe|OCCUPATION_TYPE_woe |AGE_CATEGORY_woe     |EMPLOYED_CATEGORY_woe|INCOME_CATEGORY_woe|CNT_FAM_MEMBERS_woe|\n",
      "+------+------------+---------------+----------------+-----------------------------+------------------+-----------------+---------------+----------+----------+---------------+---------------+---------+------------+-----------------+---------------+-------------------+-------------------+-------------------+--------------------+-------------------+---------------------+--------------------+-----------------------+----------------------+---------------------+--------------------+---------------------+---------------------+-------------------+-------------------+\n",
      "|0     |1           |1              |Working         |Higher education             |Civil marriage    |Rented apartment |1              |0         |0         |Laborers       |2              |1        |2           |8                |9              |-0.1208903711079461|0.04899704580566321|0.14707644862037866|-0.07585647086479046|0.02861169689889529|-0.004710835025827051|0.0662818024336297  |-0.08724863862644879   |0.17855881762728928   |-0.0706602332738203  |0.09617560608075368 |-0.2113090936672069  |0.02909330116271646  |0.05544114274353837|0.03054784687371071|\n",
      "|0     |1           |1              |Working         |Secondary / secondary special|Married           |House / apartment|0              |0         |0         |Security staff |2              |1        |8           |2                |1              |-0.1208903711079461|0.04899704580566321|0.14707644862037866|0.022228267896107354|0.02861169689889529|-0.004710835025827051|0.0662818024336297  |0.04603398889385522    |0.06322570642053932   |0.0168311344897595   |-0.07777770104268439|-0.018461123886264866|-0.04253646743156824 |0.02015142395126801|0.03054784687371071|\n",
      "+------+------------+---------------+----------------+-----------------------------+------------------+-----------------+---------------+----------+----------+---------------+---------------+---------+------------+-----------------+---------------+-------------------+-------------------+-------------------+--------------------+-------------------+---------------------+--------------------+-----------------------+----------------------+---------------------+--------------------+---------------------+---------------------+-------------------+-------------------+\n",
      "only showing top 2 rows\n",
      "\n"
     ]
    }
   ],
   "source": [
    "df_credit_spark2.show(2,truncate=False)"
   ]
  },
  {
   "cell_type": "markdown",
   "metadata": {},
   "source": [
    "### Building the LogisticRegression Model and Evaluation"
   ]
  },
  {
   "cell_type": "code",
   "execution_count": 157,
   "metadata": {},
   "outputs": [],
   "source": [
    "from pyspark.ml.feature import VectorAssembler\n",
    "from pyspark.ml.classification import LogisticRegression"
   ]
  },
  {
   "cell_type": "code",
   "execution_count": 158,
   "metadata": {},
   "outputs": [
    {
     "name": "stdout",
     "output_type": "stream",
     "text": [
      "+------+------------+---------------+----------------+-----------------------------+------------------+-----------------+---------------+----------+----------+---------------+---------------+---------+------------+-----------------+---------------+-------------------+-------------------+-------------------+--------------------+-------------------+---------------------+--------------------+-----------------------+----------------------+---------------------+--------------------+---------------------+---------------------+-------------------+-------------------+-------------------------------------------------------------------------------------------------------------------------------------------------------------------------------------------------------------------------------+\n",
      "|STATUS|FLAG_OWN_CAR|FLAG_OWN_REALTY|NAME_INCOME_TYPE|NAME_EDUCATION_TYPE          |NAME_FAMILY_STATUS|NAME_HOUSING_TYPE|FLAG_WORK_PHONE|FLAG_PHONE|FLAG_EMAIL|OCCUPATION_TYPE|CNT_FAM_MEMBERS|FLAG_MALE|AGE_CATEGORY|EMPLOYED_CATEGORY|INCOME_CATEGORY|FLAG_MALE_woe      |FLAG_OWN_CAR_woe   |FLAG_OWN_REALTY_woe|FLAG_WORK_PHONE_woe |FLAG_PHONE_woe     |FLAG_EMAIL_woe       |NAME_INCOME_TYPE_woe|NAME_EDUCATION_TYPE_woe|NAME_FAMILY_STATUS_woe|NAME_HOUSING_TYPE_woe|OCCUPATION_TYPE_woe |AGE_CATEGORY_woe     |EMPLOYED_CATEGORY_woe|INCOME_CATEGORY_woe|CNT_FAM_MEMBERS_woe|features                                                                                                                                                                                                                       |\n",
      "+------+------------+---------------+----------------+-----------------------------+------------------+-----------------+---------------+----------+----------+---------------+---------------+---------+------------+-----------------+---------------+-------------------+-------------------+-------------------+--------------------+-------------------+---------------------+--------------------+-----------------------+----------------------+---------------------+--------------------+---------------------+---------------------+-------------------+-------------------+-------------------------------------------------------------------------------------------------------------------------------------------------------------------------------------------------------------------------------+\n",
      "|0     |1           |1              |Working         |Higher education             |Civil marriage    |Rented apartment |1              |0         |0         |Laborers       |2              |1        |2           |8                |9              |-0.1208903711079461|0.04899704580566321|0.14707644862037866|-0.07585647086479046|0.02861169689889529|-0.004710835025827051|0.0662818024336297  |-0.08724863862644879   |0.17855881762728928   |-0.0706602332738203  |0.09617560608075368 |-0.2113090936672069  |0.02909330116271646  |0.05544114274353837|0.03054784687371071|[-0.1208903711079461,0.14707644862037866,0.0662818024336297,-0.08724863862644879,0.17855881762728928,-0.0706602332738203,0.09617560608075368,-0.2113090936672069,0.02909330116271646,0.05544114274353837,0.03054784687371071]  |\n",
      "|0     |1           |1              |Working         |Secondary / secondary special|Married           |House / apartment|0              |0         |0         |Security staff |2              |1        |8           |2                |1              |-0.1208903711079461|0.04899704580566321|0.14707644862037866|0.022228267896107354|0.02861169689889529|-0.004710835025827051|0.0662818024336297  |0.04603398889385522    |0.06322570642053932   |0.0168311344897595   |-0.07777770104268439|-0.018461123886264866|-0.04253646743156824 |0.02015142395126801|0.03054784687371071|[-0.1208903711079461,0.14707644862037866,0.0662818024336297,0.04603398889385522,0.06322570642053932,0.0168311344897595,-0.07777770104268439,-0.018461123886264866,-0.04253646743156824,0.02015142395126801,0.03054784687371071]|\n",
      "+------+------------+---------------+----------------+-----------------------------+------------------+-----------------+---------------+----------+----------+---------------+---------------+---------+------------+-----------------+---------------+-------------------+-------------------+-------------------+--------------------+-------------------+---------------------+--------------------+-----------------------+----------------------+---------------------+--------------------+---------------------+---------------------+-------------------+-------------------+-------------------------------------------------------------------------------------------------------------------------------------------------------------------------------------------------------------------------------+\n",
      "only showing top 2 rows\n",
      "\n"
     ]
    }
   ],
   "source": [
    "# We will select the **_woe encoded variables that passed the IV threshold of 0.002 as the \"features\" set for training\n",
    "\n",
    "#FLAG_MALE : 0.008537770823934717 ==> FEATURE SELECTED\n",
    "#FLAG_OWN_REALTY : 0.03645194403569873 ==> FEATURE SELECTED\n",
    "#NAME_INCOME_TYPE : 0.015740641785341465 ==> FEATURE SELECTED\n",
    "#NAME_EDUCATION_TYPE : 0.006773527817697774 ==> FEATURE SELECTED\n",
    "#NAME_FAMILY_STATUS : 0.02746591464178003 ==> FEATURE SELECTED\n",
    "#NAME_HOUSING_TYPE : 0.013305220534010755 ==> FEATURE SELECTED\n",
    "#OCCUPATION_TYPE : 0.04421821977679071 ==> FEATURE SELECTED\n",
    "#AGE_CATEGORY : 0.034680485126883306 ==> FEATURE SELECTED\n",
    "#EMPLOYED_CATEGORY : 0.012943477988914445 ==> FEATURE SELECTED\n",
    "#INCOME_CATEGORY : 0.015487653189263734 ==> FEATURE SELECTED\n",
    "#CNT_FAM_MEMBERS : 0.020178391423001003 ==> FEATURE SELECTED\n",
    "\n",
    "trainCols = ['FLAG_MALE_woe', 'FLAG_OWN_REALTY_woe', 'NAME_INCOME_TYPE_woe', 'NAME_EDUCATION_TYPE_woe',\\\n",
    "             'NAME_FAMILY_STATUS_woe', 'NAME_HOUSING_TYPE_woe', 'OCCUPATION_TYPE_woe', 'AGE_CATEGORY_woe',\\\n",
    "             'EMPLOYED_CATEGORY_woe', 'INCOME_CATEGORY_woe', 'CNT_FAM_MEMBERS_woe']\n",
    "\n",
    "assembler = VectorAssembler(inputCols=trainCols, outputCol='features')\n",
    "df_credit_master1 = assembler.transform(df_credit_spark2)\n",
    "df_credit_master1.show(2, truncate=False)"
   ]
  },
  {
   "cell_type": "markdown",
   "metadata": {},
   "source": [
    "#### Using a Train-Test split of 70:30 and a Seed value of 2018 (as specified in the Evaluation Rubrics)"
   ]
  },
  {
   "cell_type": "code",
   "execution_count": 159,
   "metadata": {},
   "outputs": [
    {
     "name": "stdout",
     "output_type": "stream",
     "text": [
      "Train data count = 6953 | Test data count = 3044\n"
     ]
    }
   ],
   "source": [
    "train_data, test_data = df_credit_master1.randomSplit(weights=[0.7,0.3], seed=2018)\n",
    "print('Train data count =', train_data.count(), '| Test data count =', test_data.count())"
   ]
  },
  {
   "cell_type": "code",
   "execution_count": 160,
   "metadata": {},
   "outputs": [
    {
     "name": "stdout",
     "output_type": "stream",
     "text": [
      "Result1: RecallByLabel = [1.0, 0.0] | PrecisionByLabel = [0.9510512483574245, 0.0]\n"
     ]
    }
   ],
   "source": [
    "lr1 = LogisticRegression(featuresCol='features', labelCol='STATUS', maxIter=10)\n",
    "model1 = lr1.fit(train_data)\n",
    "result1 = model1.evaluate(test_data)\n",
    "print('Result1: RecallByLabel =', result1.recallByLabel, '| PrecisionByLabel =', result1.precisionByLabel)"
   ]
  },
  {
   "cell_type": "markdown",
   "metadata": {},
   "source": [
    "__*We can see that the Recall for positive class (1 == DELINQUENT) is 0.0 which indicates that the trained model is unable to predict any True Positives. We already know that this is a highly unbalanced dataset with a Negative:Positive class ratio of roughly 96%:4%. Accordingly, we will attempt the concept of \"Weight of Class\" to re-train the model by specifying weights in the inverse ratio for the Negative and Positive classes*__"
   ]
  },
  {
   "cell_type": "code",
   "execution_count": 161,
   "metadata": {},
   "outputs": [
    {
     "name": "stdout",
     "output_type": "stream",
     "text": [
      "+------+------------+---------------+----------------+-----------------------------+------------------+-----------------+---------------+----------+----------+---------------+---------------+---------+------------+-----------------+---------------+-------------------+-------------------+-------------------+--------------------+-------------------+---------------------+--------------------+-----------------------+----------------------+---------------------+--------------------+---------------------+---------------------+-------------------+-------------------+-------------------------------------------------------------------------------------------------------------------------------------------------------------------------------------------------------------------------------+---------------+\n",
      "|STATUS|FLAG_OWN_CAR|FLAG_OWN_REALTY|NAME_INCOME_TYPE|NAME_EDUCATION_TYPE          |NAME_FAMILY_STATUS|NAME_HOUSING_TYPE|FLAG_WORK_PHONE|FLAG_PHONE|FLAG_EMAIL|OCCUPATION_TYPE|CNT_FAM_MEMBERS|FLAG_MALE|AGE_CATEGORY|EMPLOYED_CATEGORY|INCOME_CATEGORY|FLAG_MALE_woe      |FLAG_OWN_CAR_woe   |FLAG_OWN_REALTY_woe|FLAG_WORK_PHONE_woe |FLAG_PHONE_woe     |FLAG_EMAIL_woe       |NAME_INCOME_TYPE_woe|NAME_EDUCATION_TYPE_woe|NAME_FAMILY_STATUS_woe|NAME_HOUSING_TYPE_woe|OCCUPATION_TYPE_woe |AGE_CATEGORY_woe     |EMPLOYED_CATEGORY_woe|INCOME_CATEGORY_woe|CNT_FAM_MEMBERS_woe|features                                                                                                                                                                                                                       |WEIGHT_OF_CLASS|\n",
      "+------+------------+---------------+----------------+-----------------------------+------------------+-----------------+---------------+----------+----------+---------------+---------------+---------+------------+-----------------+---------------+-------------------+-------------------+-------------------+--------------------+-------------------+---------------------+--------------------+-----------------------+----------------------+---------------------+--------------------+---------------------+---------------------+-------------------+-------------------+-------------------------------------------------------------------------------------------------------------------------------------------------------------------------------------------------------------------------------+---------------+\n",
      "|0     |1           |1              |Working         |Higher education             |Civil marriage    |Rented apartment |1              |0         |0         |Laborers       |2              |1        |2           |8                |9              |-0.1208903711079461|0.04899704580566321|0.14707644862037866|-0.07585647086479046|0.02861169689889529|-0.004710835025827051|0.0662818024336297  |-0.08724863862644879   |0.17855881762728928   |-0.0706602332738203  |0.09617560608075368 |-0.2113090936672069  |0.02909330116271646  |0.05544114274353837|0.03054784687371071|[-0.1208903711079461,0.14707644862037866,0.0662818024336297,-0.08724863862644879,0.17855881762728928,-0.0706602332738203,0.09617560608075368,-0.2113090936672069,0.02909330116271646,0.05544114274353837,0.03054784687371071]  |0.04           |\n",
      "|0     |1           |1              |Working         |Secondary / secondary special|Married           |House / apartment|0              |0         |0         |Security staff |2              |1        |8           |2                |1              |-0.1208903711079461|0.04899704580566321|0.14707644862037866|0.022228267896107354|0.02861169689889529|-0.004710835025827051|0.0662818024336297  |0.04603398889385522    |0.06322570642053932   |0.0168311344897595   |-0.07777770104268439|-0.018461123886264866|-0.04253646743156824 |0.02015142395126801|0.03054784687371071|[-0.1208903711079461,0.14707644862037866,0.0662818024336297,0.04603398889385522,0.06322570642053932,0.0168311344897595,-0.07777770104268439,-0.018461123886264866,-0.04253646743156824,0.02015142395126801,0.03054784687371071]|0.04           |\n",
      "+------+------------+---------------+----------------+-----------------------------+------------------+-----------------+---------------+----------+----------+---------------+---------------+---------+------------+-----------------+---------------+-------------------+-------------------+-------------------+--------------------+-------------------+---------------------+--------------------+-----------------------+----------------------+---------------------+--------------------+---------------------+---------------------+-------------------+-------------------+-------------------------------------------------------------------------------------------------------------------------------------------------------------------------------------------------------------------------------+---------------+\n",
      "only showing top 2 rows\n",
      "\n"
     ]
    }
   ],
   "source": [
    "from pyspark.sql.functions import col, when\n",
    "\n",
    "df_credit_master1 = df_credit_master1.withColumn('WEIGHT_OF_CLASS', when(col('STATUS')==1, 0.96).otherwise(0.04))\n",
    "df_credit_master1.show(2, truncate=False)"
   ]
  },
  {
   "cell_type": "code",
   "execution_count": 162,
   "metadata": {},
   "outputs": [
    {
     "name": "stdout",
     "output_type": "stream",
     "text": [
      "Train data count = 6953 | Test data count = 3044\n",
      "Result2: RecallByLabel = [0.5637305699481865, 0.6174496644295302] | PrecisionByLabel = [0.9662522202486679, 0.06789667896678966]\n"
     ]
    }
   ],
   "source": [
    "train_data, test_data = df_credit_master1.randomSplit(weights=[0.7,0.3], seed=2018)\n",
    "print('Train data count =', train_data.count(), '| Test data count =', test_data.count())\n",
    "\n",
    "lr2 = LogisticRegression(featuresCol='features', labelCol='STATUS', maxIter=10, weightCol='WEIGHT_OF_CLASS')\n",
    "model2 = lr2.fit(train_data)\n",
    "result2 = model2.evaluate(test_data)\n",
    "print('Result2: RecallByLabel =', result2.recallByLabel, '| PrecisionByLabel =', result2.precisionByLabel)"
   ]
  },
  {
   "cell_type": "markdown",
   "metadata": {},
   "source": [
    "__*We can see that the Recall for positive class (1 == DELINQUENT) has significantly improved to 0.617 along with Precision at 0.067 after re-training the model with the \"Weight of Class\" hyperparameter tuning !!!*__"
   ]
  },
  {
   "cell_type": "code",
   "execution_count": 163,
   "metadata": {},
   "outputs": [
    {
     "name": "stdout",
     "output_type": "stream",
     "text": [
      "Result2: Accuracy = 0.5663600525624178 | AreaUnderROC = 0.6064332162603887\n"
     ]
    }
   ],
   "source": [
    "# Let us check the accuracy and AreaUnderROC metrics as well\n",
    "\n",
    "print('Result2: Accuracy =', result2.accuracy, '| AreaUnderROC =', result2.areaUnderROC)"
   ]
  },
  {
   "cell_type": "code",
   "execution_count": 168,
   "metadata": {},
   "outputs": [
    {
     "name": "stdout",
     "output_type": "stream",
     "text": [
      "F1_score = 0.12234042553191489\n"
     ]
    }
   ],
   "source": [
    "# Let us calculate the F1 scope from Precision and Recall values\n",
    "\n",
    "Precision = 0.06789667896678966 # from above result\n",
    "Recall = 0.6174496644295302 # from above result\n",
    "F1_score = (2 * Precision * Recall) / (Precision + Recall)\n",
    "print('F1_score =', F1_score)"
   ]
  },
  {
   "cell_type": "code",
   "execution_count": 167,
   "metadata": {},
   "outputs": [
    {
     "data": {
      "image/png": "[encoded data removed]",
      "text/plain": [
       "<Figure size 720x432 with 1 Axes>"
      ]
     },
     "metadata": {
      "needs_background": "light"
     },
     "output_type": "display_data"
    }
   ],
   "source": [
    "# Let us visualize the Precision-Recall graph for the predicted results\n",
    "\n",
    "rbt2 = result2.recallByThreshold.toPandas()\n",
    "pbt2 = result2.precisionByThreshold.toPandas()\n",
    "\n",
    "plt.figure(figsize=(10,6))\n",
    "plt.title(label='Precision / Recall graph', fontdict=dict(fontweight='bold'))\n",
    "plt.plot('threshold', 'precision', data=pbt2)\n",
    "plt.plot('threshold', 'recall', data=rbt2)\n",
    "plt.legend(['Precision', 'Recall'])\n",
    "plt.xlabel('Probability Threshold')\n",
    "plt.ylabel('Precision / Recall value')\n",
    "plt.show()"
   ]
  },
  {
   "cell_type": "markdown",
   "metadata": {},
   "source": [
    "#### KS statistic analysis"
   ]
  },
  {
   "cell_type": "code",
   "execution_count": 171,
   "metadata": {},
   "outputs": [
    {
     "name": "stdout",
     "output_type": "stream",
     "text": [
      "+------+--------------+--------------+----------+\n",
      "|STATUS|neg_class_prob|pos_class_prob|prediction|\n",
      "+------+--------------+--------------+----------+\n",
      "|0     |0.28386682    |0.7161332     |1.0       |\n",
      "|0     |0.5289499     |0.47105008    |0.0       |\n",
      "+------+--------------+--------------+----------+\n",
      "only showing top 2 rows\n",
      "\n"
     ]
    }
   ],
   "source": [
    "from pyspark.sql.functions import udf\n",
    "from pyspark.sql.types import FloatType\n",
    "\n",
    "extractNegProb = udf(lambda v:float(v[0]),FloatType())\n",
    "extractPosProb = udf(lambda v:float(v[1]),FloatType())\n",
    "\n",
    "df_predictions2 = result2.predictions.select(col('STATUS'), \\\n",
    "                    extractNegProb(col('probability')).alias('neg_class_prob'),\\\n",
    "                    extractPosProb(col('probability')).alias('pos_class_prob'),\\\n",
    "                    'prediction')\n",
    "df_predictions2.show(2, truncate=False)"
   ]
  },
  {
   "cell_type": "code",
   "execution_count": 172,
   "metadata": {},
   "outputs": [
    {
     "data": {
      "text/plain": [
       "Ks_2sampResult(statistic=0.06610564384323817, pvalue=0.5422850988306829)"
      ]
     },
     "execution_count": 172,
     "metadata": {},
     "output_type": "execute_result"
    }
   ],
   "source": [
    "pd_predictions2 = df_predictions2.toPandas()\n",
    "\n",
    "from scipy.stats import ks_2samp\n",
    "ks_2samp(pd_predictions2.loc[pd_predictions2.STATUS==0,'neg_class_prob'],\\\n",
    "         pd_predictions2.loc[pd_predictions2.STATUS==1,'pos_class_prob'])"
   ]
  },
  {
   "cell_type": "markdown",
   "metadata": {},
   "source": [
    "#### Evaluation metrics for Model trained with \"Weight of Class\" tuning :\n",
    "1. Precision = 0.06789667896678966<br>\n",
    "2. Recall = 0.6174496644295302<br>\n",
    "3. F1_score = 0.12234042553191489<br>\n",
    "4. AreaUnderROC = 0.6064332162603887<br>\n",
    "4. KS_statistic = 0.06610564384323817<br>"
   ]
  },
  {
   "cell_type": "code",
   "execution_count": null,
   "metadata": {},
   "outputs": [],
   "source": []
  }
 ],
 "metadata": {
  "kernelspec": {
   "display_name": "Python 3",
   "language": "python",
   "name": "python3"
  },
  "language_info": {
   "codemirror_mode": {
    "name": "ipython",
    "version": 3
   },
   "file_extension": ".py",
   "mimetype": "text/x-python",
   "name": "python",
   "nbconvert_exporter": "python",
   "pygments_lexer": "ipython3",
   "version": "3.7.6"
  }
 },
 "nbformat": 4,
 "nbformat_minor": 4
}
