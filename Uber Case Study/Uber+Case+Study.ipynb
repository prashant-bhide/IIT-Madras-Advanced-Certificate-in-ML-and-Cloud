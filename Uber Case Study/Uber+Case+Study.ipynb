{
 "cells": [
  {
   "cell_type": "code",
   "execution_count": 1,
   "metadata": {},
   "outputs": [],
   "source": [
    "#Import the libraries\n",
    "import pandas as pd\n",
    "import matplotlib.pyplot as plt\n",
    "import seaborn as sns\n",
    "import datetime as dt\n",
    "import numpy as np"
   ]
  },
  {
   "cell_type": "code",
   "execution_count": 3,
   "metadata": {},
   "outputs": [
    {
     "data": {
      "text/html": [
       "<div>\n",
       "<style scoped>\n",
       "    .dataframe tbody tr th:only-of-type {\n",
       "        vertical-align: middle;\n",
       "    }\n",
       "\n",
       "    .dataframe tbody tr th {\n",
       "        vertical-align: top;\n",
       "    }\n",
       "\n",
       "    .dataframe thead th {\n",
       "        text-align: right;\n",
       "    }\n",
       "</style>\n",
       "<table border=\"1\" class=\"dataframe\">\n",
       "  <thead>\n",
       "    <tr style=\"text-align: right;\">\n",
       "      <th></th>\n",
       "      <th>Pickup point</th>\n",
       "      <th>Driver id</th>\n",
       "      <th>Status</th>\n",
       "      <th>Request timestamp</th>\n",
       "      <th>Drop timestamp</th>\n",
       "    </tr>\n",
       "    <tr>\n",
       "      <th>Request id</th>\n",
       "      <th></th>\n",
       "      <th></th>\n",
       "      <th></th>\n",
       "      <th></th>\n",
       "      <th></th>\n",
       "    </tr>\n",
       "  </thead>\n",
       "  <tbody>\n",
       "    <tr>\n",
       "      <th>619</th>\n",
       "      <td>Airport</td>\n",
       "      <td>1.0</td>\n",
       "      <td>Trip Completed</td>\n",
       "      <td>11/7/2016 11:51</td>\n",
       "      <td>11/7/2016 13:00</td>\n",
       "    </tr>\n",
       "    <tr>\n",
       "      <th>867</th>\n",
       "      <td>Airport</td>\n",
       "      <td>1.0</td>\n",
       "      <td>Trip Completed</td>\n",
       "      <td>11/7/2016 17:57</td>\n",
       "      <td>11/7/2016 18:47</td>\n",
       "    </tr>\n",
       "    <tr>\n",
       "      <th>1807</th>\n",
       "      <td>City</td>\n",
       "      <td>1.0</td>\n",
       "      <td>Trip Completed</td>\n",
       "      <td>12/7/2016 9:17</td>\n",
       "      <td>12/7/2016 9:58</td>\n",
       "    </tr>\n",
       "    <tr>\n",
       "      <th>2532</th>\n",
       "      <td>Airport</td>\n",
       "      <td>1.0</td>\n",
       "      <td>Trip Completed</td>\n",
       "      <td>12/7/2016 21:08</td>\n",
       "      <td>12/7/2016 22:03</td>\n",
       "    </tr>\n",
       "    <tr>\n",
       "      <th>3112</th>\n",
       "      <td>City</td>\n",
       "      <td>1.0</td>\n",
       "      <td>Trip Completed</td>\n",
       "      <td>13-07-2016 08:33:16</td>\n",
       "      <td>13-07-2016 09:25:47</td>\n",
       "    </tr>\n",
       "  </tbody>\n",
       "</table>\n",
       "</div>"
      ],
      "text/plain": [
       "           Pickup point  Driver id          Status    Request timestamp  \\\n",
       "Request id                                                                \n",
       "619             Airport        1.0  Trip Completed      11/7/2016 11:51   \n",
       "867             Airport        1.0  Trip Completed      11/7/2016 17:57   \n",
       "1807               City        1.0  Trip Completed       12/7/2016 9:17   \n",
       "2532            Airport        1.0  Trip Completed      12/7/2016 21:08   \n",
       "3112               City        1.0  Trip Completed  13-07-2016 08:33:16   \n",
       "\n",
       "                 Drop timestamp  \n",
       "Request id                       \n",
       "619             11/7/2016 13:00  \n",
       "867             11/7/2016 18:47  \n",
       "1807             12/7/2016 9:58  \n",
       "2532            12/7/2016 22:03  \n",
       "3112        13-07-2016 09:25:47  "
      ]
     },
     "execution_count": 3,
     "metadata": {},
     "output_type": "execute_result"
    }
   ],
   "source": [
    "#Write code to load the dataset here\n",
    "df = pd.read_csv(\"D:/Prashant/Upgrad/Notebooks/Uber+Request+Data.csv\", index_col=0, parse_dates=True)\n",
    "df.head()"
   ]
  },
  {
   "cell_type": "code",
   "execution_count": 4,
   "metadata": {},
   "outputs": [
    {
     "name": "stdout",
     "output_type": "stream",
     "text": [
      "<class 'pandas.core.frame.DataFrame'>\n",
      "Int64Index: 6745 entries, 619 to 6753\n",
      "Data columns (total 5 columns):\n",
      " #   Column             Non-Null Count  Dtype  \n",
      "---  ------             --------------  -----  \n",
      " 0   Pickup point       6745 non-null   object \n",
      " 1   Driver id          4095 non-null   float64\n",
      " 2   Status             6745 non-null   object \n",
      " 3   Request timestamp  6745 non-null   object \n",
      " 4   Drop timestamp     2831 non-null   object \n",
      "dtypes: float64(1), object(4)\n",
      "memory usage: 316.2+ KB\n"
     ]
    }
   ],
   "source": [
    "#use the following few lines to explore the data or clean it\n",
    "df.info()\n"
   ]
  },
  {
   "cell_type": "code",
   "execution_count": 6,
   "metadata": {},
   "outputs": [
    {
     "data": {
      "text/html": [
       "<div>\n",
       "<style scoped>\n",
       "    .dataframe tbody tr th:only-of-type {\n",
       "        vertical-align: middle;\n",
       "    }\n",
       "\n",
       "    .dataframe tbody tr th {\n",
       "        vertical-align: top;\n",
       "    }\n",
       "\n",
       "    .dataframe thead th {\n",
       "        text-align: right;\n",
       "    }\n",
       "</style>\n",
       "<table border=\"1\" class=\"dataframe\">\n",
       "  <thead>\n",
       "    <tr style=\"text-align: right;\">\n",
       "      <th></th>\n",
       "      <th>Pickup point</th>\n",
       "      <th>Driver id</th>\n",
       "      <th>Status</th>\n",
       "      <th>Request timestamp</th>\n",
       "      <th>Drop timestamp</th>\n",
       "    </tr>\n",
       "    <tr>\n",
       "      <th>Request id</th>\n",
       "      <th></th>\n",
       "      <th></th>\n",
       "      <th></th>\n",
       "      <th></th>\n",
       "      <th></th>\n",
       "    </tr>\n",
       "  </thead>\n",
       "  <tbody>\n",
       "    <tr>\n",
       "      <th>1362</th>\n",
       "      <td>City</td>\n",
       "      <td>NaN</td>\n",
       "      <td>No Cars Available</td>\n",
       "      <td>11/7/2016 0:02</td>\n",
       "      <td>NaN</td>\n",
       "    </tr>\n",
       "    <tr>\n",
       "      <th>1364</th>\n",
       "      <td>City</td>\n",
       "      <td>NaN</td>\n",
       "      <td>No Cars Available</td>\n",
       "      <td>11/7/2016 0:06</td>\n",
       "      <td>NaN</td>\n",
       "    </tr>\n",
       "    <tr>\n",
       "      <th>1366</th>\n",
       "      <td>City</td>\n",
       "      <td>NaN</td>\n",
       "      <td>No Cars Available</td>\n",
       "      <td>11/7/2016 0:09</td>\n",
       "      <td>NaN</td>\n",
       "    </tr>\n",
       "    <tr>\n",
       "      <th>2</th>\n",
       "      <td>Airport</td>\n",
       "      <td>NaN</td>\n",
       "      <td>No Cars Available</td>\n",
       "      <td>11/7/2016 0:23</td>\n",
       "      <td>NaN</td>\n",
       "    </tr>\n",
       "    <tr>\n",
       "      <th>7</th>\n",
       "      <td>Airport</td>\n",
       "      <td>NaN</td>\n",
       "      <td>No Cars Available</td>\n",
       "      <td>11/7/2016 0:30</td>\n",
       "      <td>NaN</td>\n",
       "    </tr>\n",
       "  </tbody>\n",
       "</table>\n",
       "</div>"
      ],
      "text/plain": [
       "           Pickup point  Driver id             Status Request timestamp  \\\n",
       "Request id                                                                \n",
       "1362               City        NaN  No Cars Available    11/7/2016 0:02   \n",
       "1364               City        NaN  No Cars Available    11/7/2016 0:06   \n",
       "1366               City        NaN  No Cars Available    11/7/2016 0:09   \n",
       "2               Airport        NaN  No Cars Available    11/7/2016 0:23   \n",
       "7               Airport        NaN  No Cars Available    11/7/2016 0:30   \n",
       "\n",
       "           Drop timestamp  \n",
       "Request id                 \n",
       "1362                  NaN  \n",
       "1364                  NaN  \n",
       "1366                  NaN  \n",
       "2                     NaN  \n",
       "7                     NaN  "
      ]
     },
     "execution_count": 6,
     "metadata": {},
     "output_type": "execute_result"
    }
   ],
   "source": [
    "df[df['Driver id'].isnull()].head()"
   ]
  },
  {
   "cell_type": "code",
   "execution_count": 7,
   "metadata": {},
   "outputs": [
    {
     "data": {
      "text/html": [
       "<div>\n",
       "<style scoped>\n",
       "    .dataframe tbody tr th:only-of-type {\n",
       "        vertical-align: middle;\n",
       "    }\n",
       "\n",
       "    .dataframe tbody tr th {\n",
       "        vertical-align: top;\n",
       "    }\n",
       "\n",
       "    .dataframe thead th {\n",
       "        text-align: right;\n",
       "    }\n",
       "</style>\n",
       "<table border=\"1\" class=\"dataframe\">\n",
       "  <thead>\n",
       "    <tr style=\"text-align: right;\">\n",
       "      <th></th>\n",
       "      <th>Pickup point</th>\n",
       "      <th>Driver id</th>\n",
       "      <th>Status</th>\n",
       "      <th>Request timestamp</th>\n",
       "      <th>Drop timestamp</th>\n",
       "    </tr>\n",
       "    <tr>\n",
       "      <th>Request id</th>\n",
       "      <th></th>\n",
       "      <th></th>\n",
       "      <th></th>\n",
       "      <th></th>\n",
       "      <th></th>\n",
       "    </tr>\n",
       "  </thead>\n",
       "  <tbody>\n",
       "    <tr>\n",
       "      <th>2905</th>\n",
       "      <td>City</td>\n",
       "      <td>1.0</td>\n",
       "      <td>Cancelled</td>\n",
       "      <td>13-07-2016 06:08:41</td>\n",
       "      <td>NaN</td>\n",
       "    </tr>\n",
       "    <tr>\n",
       "      <th>4805</th>\n",
       "      <td>City</td>\n",
       "      <td>1.0</td>\n",
       "      <td>Cancelled</td>\n",
       "      <td>14-07-2016 17:07:58</td>\n",
       "      <td>NaN</td>\n",
       "    </tr>\n",
       "    <tr>\n",
       "      <th>5202</th>\n",
       "      <td>Airport</td>\n",
       "      <td>1.0</td>\n",
       "      <td>Cancelled</td>\n",
       "      <td>14-07-2016 20:51:37</td>\n",
       "      <td>NaN</td>\n",
       "    </tr>\n",
       "    <tr>\n",
       "      <th>5927</th>\n",
       "      <td>City</td>\n",
       "      <td>1.0</td>\n",
       "      <td>Cancelled</td>\n",
       "      <td>15-07-2016 10:12:40</td>\n",
       "      <td>NaN</td>\n",
       "    </tr>\n",
       "    <tr>\n",
       "      <th>2347</th>\n",
       "      <td>Airport</td>\n",
       "      <td>2.0</td>\n",
       "      <td>Cancelled</td>\n",
       "      <td>12/7/2016 19:14</td>\n",
       "      <td>NaN</td>\n",
       "    </tr>\n",
       "  </tbody>\n",
       "</table>\n",
       "</div>"
      ],
      "text/plain": [
       "           Pickup point  Driver id     Status    Request timestamp  \\\n",
       "Request id                                                           \n",
       "2905               City        1.0  Cancelled  13-07-2016 06:08:41   \n",
       "4805               City        1.0  Cancelled  14-07-2016 17:07:58   \n",
       "5202            Airport        1.0  Cancelled  14-07-2016 20:51:37   \n",
       "5927               City        1.0  Cancelled  15-07-2016 10:12:40   \n",
       "2347            Airport        2.0  Cancelled      12/7/2016 19:14   \n",
       "\n",
       "           Drop timestamp  \n",
       "Request id                 \n",
       "2905                  NaN  \n",
       "4805                  NaN  \n",
       "5202                  NaN  \n",
       "5927                  NaN  \n",
       "2347                  NaN  "
      ]
     },
     "execution_count": 7,
     "metadata": {},
     "output_type": "execute_result"
    }
   ],
   "source": [
    "df[df['Drop timestamp'].isnull()].head()"
   ]
  },
  {
   "cell_type": "markdown",
   "metadata": {},
   "source": [
    "## Q1. Null Values\n",
    "Which columns have null values and how many?\n",
    "\n",
    "a) Request id - 2650 Driver id -3914\n",
    "\n",
    "b) Request id-   3914 Driver id - 2650\n",
    "\n",
    "c) Driver id - 2650 Drop time stamp -3914\n",
    "\n",
    "d) There are no null values in the dataset."
   ]
  },
  {
   "cell_type": "code",
   "execution_count": 4,
   "metadata": {},
   "outputs": [],
   "source": [
    "#Write your code here"
   ]
  },
  {
   "cell_type": "code",
   "execution_count": 5,
   "metadata": {},
   "outputs": [
    {
     "data": {
      "text/plain": [
       "Pickup point            0\n",
       "Driver id            2650\n",
       "Status                  0\n",
       "Request timestamp       0\n",
       "Drop timestamp       3914\n",
       "dtype: int64"
      ]
     },
     "execution_count": 5,
     "metadata": {},
     "output_type": "execute_result"
    }
   ],
   "source": [
    "df.isnull().sum()"
   ]
  },
  {
   "cell_type": "code",
   "execution_count": null,
   "metadata": {},
   "outputs": [],
   "source": []
  },
  {
   "cell_type": "markdown",
   "metadata": {},
   "source": [
    "## Q2. Choose Correct\n",
    "\n",
    "Select the correct statements from the options given below. (More than one may be correct)\n",
    "\n",
    "a) We need to delete the records containing the null values as they won’t be useful for our analysis.\n",
    "\n",
    "b) Only the records containing null values in the Driver id need to be eliminated.\n",
    "\n",
    "c) There are a total of 1264 requests which have a status of “cancelled”\n",
    "\n",
    "d) We need to keep the records containing null values for both the columns and using them analyse the problems faced by Uber."
   ]
  },
  {
   "cell_type": "code",
   "execution_count": 5,
   "metadata": {},
   "outputs": [],
   "source": [
    "#write your code here"
   ]
  },
  {
   "cell_type": "code",
   "execution_count": 8,
   "metadata": {},
   "outputs": [
    {
     "data": {
      "text/plain": [
       "Trip Completed       2831\n",
       "No Cars Available    2650\n",
       "Cancelled            1264\n",
       "Name: Status, dtype: int64"
      ]
     },
     "execution_count": 8,
     "metadata": {},
     "output_type": "execute_result"
    }
   ],
   "source": [
    "df.Status.value_counts()"
   ]
  },
  {
   "cell_type": "code",
   "execution_count": null,
   "metadata": {},
   "outputs": [],
   "source": []
  },
  {
   "cell_type": "markdown",
   "metadata": {},
   "source": [
    "## Q3. Busy Hour\n",
    "\n",
    "Now that you have understood the significance of the null values in this case study, the next step would involve fixing the Request Time-Stamp and Drop-Time Stamp columns. Go ahead and convert it into a date-time object. After that report back the hour in which the most number of requests are being made.\n",
    "\n",
    "a) 18:00-19:00\n",
    "b) 16:00-17:00\n",
    "c) 14:00-15:00\n",
    "d) 13:00-14:00\n",
    "e) 19:00-20:00"
   ]
  },
  {
   "cell_type": "code",
   "execution_count": 6,
   "metadata": {},
   "outputs": [],
   "source": [
    "#write your solution here"
   ]
  },
  {
   "cell_type": "code",
   "execution_count": 16,
   "metadata": {},
   "outputs": [
    {
     "data": {
      "text/html": [
       "<div>\n",
       "<style scoped>\n",
       "    .dataframe tbody tr th:only-of-type {\n",
       "        vertical-align: middle;\n",
       "    }\n",
       "\n",
       "    .dataframe tbody tr th {\n",
       "        vertical-align: top;\n",
       "    }\n",
       "\n",
       "    .dataframe thead th {\n",
       "        text-align: right;\n",
       "    }\n",
       "</style>\n",
       "<table border=\"1\" class=\"dataframe\">\n",
       "  <thead>\n",
       "    <tr style=\"text-align: right;\">\n",
       "      <th></th>\n",
       "      <th>Pickup point</th>\n",
       "      <th>Driver id</th>\n",
       "      <th>Status</th>\n",
       "      <th>Request timestamp</th>\n",
       "      <th>Drop timestamp</th>\n",
       "      <th>RequestDate</th>\n",
       "      <th>RequestTime</th>\n",
       "      <th>DropDate</th>\n",
       "      <th>DropTime</th>\n",
       "      <th>RequestHour</th>\n",
       "    </tr>\n",
       "    <tr>\n",
       "      <th>Request id</th>\n",
       "      <th></th>\n",
       "      <th></th>\n",
       "      <th></th>\n",
       "      <th></th>\n",
       "      <th></th>\n",
       "      <th></th>\n",
       "      <th></th>\n",
       "      <th></th>\n",
       "      <th></th>\n",
       "      <th></th>\n",
       "    </tr>\n",
       "  </thead>\n",
       "  <tbody>\n",
       "    <tr>\n",
       "      <th>619</th>\n",
       "      <td>Airport</td>\n",
       "      <td>1.0</td>\n",
       "      <td>Trip Completed</td>\n",
       "      <td>11/7/2016 11:51</td>\n",
       "      <td>11/7/2016 13:00</td>\n",
       "      <td>2016-11-07</td>\n",
       "      <td>11:51:00</td>\n",
       "      <td>2016-11-07</td>\n",
       "      <td>13:00:00</td>\n",
       "      <td>11</td>\n",
       "    </tr>\n",
       "    <tr>\n",
       "      <th>867</th>\n",
       "      <td>Airport</td>\n",
       "      <td>1.0</td>\n",
       "      <td>Trip Completed</td>\n",
       "      <td>11/7/2016 17:57</td>\n",
       "      <td>11/7/2016 18:47</td>\n",
       "      <td>2016-11-07</td>\n",
       "      <td>17:57:00</td>\n",
       "      <td>2016-11-07</td>\n",
       "      <td>18:47:00</td>\n",
       "      <td>17</td>\n",
       "    </tr>\n",
       "    <tr>\n",
       "      <th>1807</th>\n",
       "      <td>City</td>\n",
       "      <td>1.0</td>\n",
       "      <td>Trip Completed</td>\n",
       "      <td>12/7/2016 9:17</td>\n",
       "      <td>12/7/2016 9:58</td>\n",
       "      <td>2016-12-07</td>\n",
       "      <td>09:17:00</td>\n",
       "      <td>2016-12-07</td>\n",
       "      <td>09:58:00</td>\n",
       "      <td>9</td>\n",
       "    </tr>\n",
       "    <tr>\n",
       "      <th>2532</th>\n",
       "      <td>Airport</td>\n",
       "      <td>1.0</td>\n",
       "      <td>Trip Completed</td>\n",
       "      <td>12/7/2016 21:08</td>\n",
       "      <td>12/7/2016 22:03</td>\n",
       "      <td>2016-12-07</td>\n",
       "      <td>21:08:00</td>\n",
       "      <td>2016-12-07</td>\n",
       "      <td>22:03:00</td>\n",
       "      <td>21</td>\n",
       "    </tr>\n",
       "    <tr>\n",
       "      <th>3112</th>\n",
       "      <td>City</td>\n",
       "      <td>1.0</td>\n",
       "      <td>Trip Completed</td>\n",
       "      <td>13-07-2016 08:33:16</td>\n",
       "      <td>13-07-2016 09:25:47</td>\n",
       "      <td>2016-07-13</td>\n",
       "      <td>08:33:16</td>\n",
       "      <td>2016-07-13</td>\n",
       "      <td>09:25:47</td>\n",
       "      <td>8</td>\n",
       "    </tr>\n",
       "  </tbody>\n",
       "</table>\n",
       "</div>"
      ],
      "text/plain": [
       "           Pickup point  Driver id          Status    Request timestamp  \\\n",
       "Request id                                                                \n",
       "619             Airport        1.0  Trip Completed      11/7/2016 11:51   \n",
       "867             Airport        1.0  Trip Completed      11/7/2016 17:57   \n",
       "1807               City        1.0  Trip Completed       12/7/2016 9:17   \n",
       "2532            Airport        1.0  Trip Completed      12/7/2016 21:08   \n",
       "3112               City        1.0  Trip Completed  13-07-2016 08:33:16   \n",
       "\n",
       "                 Drop timestamp RequestDate RequestTime    DropDate  DropTime  \\\n",
       "Request id                                                                      \n",
       "619             11/7/2016 13:00  2016-11-07    11:51:00  2016-11-07  13:00:00   \n",
       "867             11/7/2016 18:47  2016-11-07    17:57:00  2016-11-07  18:47:00   \n",
       "1807             12/7/2016 9:58  2016-12-07    09:17:00  2016-12-07  09:58:00   \n",
       "2532            12/7/2016 22:03  2016-12-07    21:08:00  2016-12-07  22:03:00   \n",
       "3112        13-07-2016 09:25:47  2016-07-13    08:33:16  2016-07-13  09:25:47   \n",
       "\n",
       "            RequestHour  \n",
       "Request id               \n",
       "619                  11  \n",
       "867                  17  \n",
       "1807                  9  \n",
       "2532                 21  \n",
       "3112                  8  "
      ]
     },
     "execution_count": 16,
     "metadata": {},
     "output_type": "execute_result"
    }
   ],
   "source": [
    "df['RequestDate'] = pd.to_datetime(df['Request timestamp']).dt.date\n",
    "df['RequestTime'] = pd.to_datetime(df['Request timestamp']).dt.time\n",
    "df['RequestHour'] = pd.to_datetime(df['Request timestamp']).dt.hour\n",
    "df['DropDate'] = pd.to_datetime(df['Drop timestamp']).dt.date\n",
    "df['DropTime'] = pd.to_datetime(df['Drop timestamp']).dt.time\n",
    "df['DropHour'] = pd.to_datetime(df['Drop timestamp']).dt.hour\n",
    "df.head()"
   ]
  },
  {
   "cell_type": "code",
   "execution_count": 17,
   "metadata": {},
   "outputs": [
    {
     "data": {
      "image/png": "[encoded data removed]",
      "text/plain": [
       "<Figure size 432x288 with 1 Axes>"
      ]
     },
     "metadata": {
      "needs_background": "light"
     },
     "output_type": "display_data"
    }
   ],
   "source": [
    "plt.hist(df.RequestHour, bins=24)\n",
    "plt.show()"
   ]
  },
  {
   "cell_type": "code",
   "execution_count": 18,
   "metadata": {},
   "outputs": [
    {
     "data": {
      "text/plain": [
       "18    510\n",
       "20    492\n",
       "19    473\n",
       "21    449\n",
       "5     445\n",
       "9     431\n",
       "8     423\n",
       "17    418\n",
       "7     406\n",
       "6     398\n",
       "22    304\n",
       "10    243\n",
       "4     203\n",
       "23    194\n",
       "12    184\n",
       "11    171\n",
       "15    171\n",
       "13    160\n",
       "16    159\n",
       "14    136\n",
       "2      99\n",
       "0      99\n",
       "3      92\n",
       "1      85\n",
       "Name: RequestHour, dtype: int64"
      ]
     },
     "execution_count": 18,
     "metadata": {},
     "output_type": "execute_result"
    }
   ],
   "source": [
    "df.RequestHour.value_counts()"
   ]
  },
  {
   "cell_type": "markdown",
   "metadata": {},
   "source": [
    "## Q4. Cancelled Dates\n",
    "Next, extract the date from the request timestamp and find the date when the most number of trips were cancelled.\n",
    "\n",
    "a) 2016-07-13\n",
    "\n",
    "b) 2016-11-07\n",
    "\n",
    "c) 2016-07-14\n",
    "\n",
    "d) 2016-07-15 \n",
    "\n",
    "e) 2016-12-07"
   ]
  },
  {
   "cell_type": "code",
   "execution_count": 7,
   "metadata": {},
   "outputs": [],
   "source": [
    "#write your code here"
   ]
  },
  {
   "cell_type": "code",
   "execution_count": 19,
   "metadata": {},
   "outputs": [
    {
     "data": {
      "text/plain": [
       "2016-07-13    270\n",
       "2016-11-07    262\n",
       "2016-07-14    252\n",
       "2016-07-15    240\n",
       "2016-12-07    240\n",
       "Name: RequestDate, dtype: int64"
      ]
     },
     "execution_count": 19,
     "metadata": {},
     "output_type": "execute_result"
    }
   ],
   "source": [
    "df[df.Status=='Cancelled'].RequestDate.value_counts()"
   ]
  },
  {
   "cell_type": "code",
   "execution_count": null,
   "metadata": {},
   "outputs": [],
   "source": []
  },
  {
   "cell_type": "markdown",
   "metadata": {},
   "source": [
    "## Q5. Correct Statements II\n",
    "\n",
    "Choose the correct statements from the ones given below. (More than one may be correct)\n",
    "\n",
    "a) In general, the five hour time period in which the most number of trips are completed is approximately 5-10.\n",
    "\n",
    "b) Across all the days, the number of trips from the City that get cancelled is nearly 9 times less than the trips when there were no cars available.\n",
    "\n",
    "c) Across all the days, the number of trips from the Airport that get cancelled is comparable to the number of trips when there were no cars available.\n",
    "\n",
    "d) The number of trips getting completed from City is higher than the trips completed from the airport."
   ]
  },
  {
   "cell_type": "code",
   "execution_count": 22,
   "metadata": {},
   "outputs": [
    {
     "data": {
      "image/png": "[encoded data removed]",
      "text/plain": [
       "<Figure size 432x288 with 1 Axes>"
      ]
     },
     "metadata": {
      "needs_background": "light"
     },
     "output_type": "display_data"
    }
   ],
   "source": [
    "plt.hist(df.DropHour, bins=[0,5,10,15,20,24])\n",
    "plt.show()"
   ]
  },
  {
   "cell_type": "code",
   "execution_count": 23,
   "metadata": {},
   "outputs": [
    {
     "data": {
      "text/plain": [
       "Trip Completed       1504\n",
       "Cancelled            1066\n",
       "No Cars Available     937\n",
       "Name: Status, dtype: int64"
      ]
     },
     "execution_count": 23,
     "metadata": {},
     "output_type": "execute_result"
    }
   ],
   "source": [
    "# write your code here\n",
    "df[df['Pickup point']=='City'].Status.value_counts()"
   ]
  },
  {
   "cell_type": "code",
   "execution_count": 24,
   "metadata": {},
   "outputs": [
    {
     "data": {
      "text/plain": [
       "No Cars Available    1713\n",
       "Trip Completed       1327\n",
       "Cancelled             198\n",
       "Name: Status, dtype: int64"
      ]
     },
     "execution_count": 24,
     "metadata": {},
     "output_type": "execute_result"
    }
   ],
   "source": [
    "df[df['Pickup point']=='Airport'].Status.value_counts()"
   ]
  },
  {
   "cell_type": "code",
   "execution_count": null,
   "metadata": {},
   "outputs": [],
   "source": []
  },
  {
   "cell_type": "markdown",
   "metadata": {},
   "source": [
    "## Q6. Request Time\n",
    "\n",
    "Once you’ve analysed requests for all the days at an aggregate level, it’s time to find patterns in individual days and see if there is anything common across the days. Analyse the distribution of requests across all the days and choose the correct option.\n",
    "\n",
    "a) The most number of requests are obtained only in the morning hours across all the days.\n",
    "\n",
    "b) The most number of requests are obtained only in the evening hours across all the days.\n",
    "\n",
    "c) The most number of requests are obtained both in the morning as well as the evening hours across all the days.\n",
    "\n",
    "d) None of these"
   ]
  },
  {
   "cell_type": "code",
   "execution_count": 9,
   "metadata": {},
   "outputs": [],
   "source": [
    "##Write your code here"
   ]
  },
  {
   "cell_type": "code",
   "execution_count": 25,
   "metadata": {},
   "outputs": [
    {
     "data": {
      "image/png": "[encoded data removed]",
      "text/plain": [
       "<Figure size 432x288 with 1 Axes>"
      ]
     },
     "metadata": {
      "needs_background": "light"
     },
     "output_type": "display_data"
    }
   ],
   "source": [
    "plt.hist(df.RequestHour, bins=24)\n",
    "plt.show()"
   ]
  },
  {
   "cell_type": "code",
   "execution_count": 26,
   "metadata": {},
   "outputs": [
    {
     "data": {
      "image/png": "[encoded data removed]",
      "text/plain": [
       "<Figure size 432x288 with 1 Axes>"
      ]
     },
     "metadata": {
      "needs_background": "light"
     },
     "output_type": "display_data"
    },
    {
     "data": {
      "image/png": "[encoded data removed]",
      "text/plain": [
       "<Figure size 432x288 with 1 Axes>"
      ]
     },
     "metadata": {
      "needs_background": "light"
     },
     "output_type": "display_data"
    },
    {
     "data": {
      "image/png": "[encoded data removed]",
      "text/plain": [
       "<Figure size 432x288 with 1 Axes>"
      ]
     },
     "metadata": {
      "needs_background": "light"
     },
     "output_type": "display_data"
    },
    {
     "data": {
      "image/png": "[encoded data removed]",
      "text/plain": [
       "<Figure size 432x288 with 1 Axes>"
      ]
     },
     "metadata": {
      "needs_background": "light"
     },
     "output_type": "display_data"
    },
    {
     "data": {
      "image/png": "[encoded data removed]",
      "text/plain": [
       "<Figure size 432x288 with 1 Axes>"
      ]
     },
     "metadata": {
      "needs_background": "light"
     },
     "output_type": "display_data"
    }
   ],
   "source": [
    "#Solution from Upgrad below\n",
    "\n",
    "#best way to do this is to plot the histograms for all dates\n",
    "#we first get the unique dates \n",
    "unique_dates=df['RequestDate'].unique()\n",
    "#and now use a for loop to plot the histogram on 'Request hour'\n",
    "for i in unique_dates:\n",
    "    #we will use 24 bins, one bin for each hour\n",
    "    sns.distplot(df[df[\"RequestDate\"]==i]['RequestHour'], bins=24)\n",
    "    plt.title(str(i))\n",
    "    plt.show()"
   ]
  },
  {
   "cell_type": "markdown",
   "metadata": {},
   "source": [
    "## Q7. Request Time II\n",
    "\n",
    "Now that you’ve observed that the number of requests across all the days is similar, you need to check it across the pick-up points as well. Analyse the distribution of requests across each of the pick-up points exclusively and choose the correct option:\n",
    "\n",
    "a) The majority of requests from City are obtained during evening hours.\n",
    "\n",
    "b) The majority of requests from Airport are obtained during morning hours.\n",
    "\n",
    "c) The majority of requests from City are obtained during morning hours.\n",
    "\n",
    "d) Both a) and b)\n"
   ]
  },
  {
   "cell_type": "code",
   "execution_count": 10,
   "metadata": {},
   "outputs": [],
   "source": [
    "# Write your code here"
   ]
  },
  {
   "cell_type": "code",
   "execution_count": 27,
   "metadata": {},
   "outputs": [
    {
     "data": {
      "image/png": "[encoded data removed]",
      "text/plain": [
       "<Figure size 432x288 with 1 Axes>"
      ]
     },
     "metadata": {
      "needs_background": "light"
     },
     "output_type": "display_data"
    },
    {
     "data": {
      "image/png": "[encoded data removed]",
      "text/plain": [
       "<Figure size 432x288 with 1 Axes>"
      ]
     },
     "metadata": {
      "needs_background": "light"
     },
     "output_type": "display_data"
    }
   ],
   "source": [
    "plt.hist(df[df['Pickup point']=='City'].RequestHour, bins=24)\n",
    "plt.show()\n",
    "\n",
    "plt.hist(df[df['Pickup point']=='Airport'].RequestHour, bins=24)\n",
    "plt.show()"
   ]
  },
  {
   "cell_type": "code",
   "execution_count": 28,
   "metadata": {},
   "outputs": [
    {
     "data": {
      "image/png": "[encoded data removed]",
      "text/plain": [
       "<Figure size 432x288 with 1 Axes>"
      ]
     },
     "metadata": {
      "needs_background": "light"
     },
     "output_type": "display_data"
    },
    {
     "data": {
      "image/png": "[encoded data removed]",
      "text/plain": [
       "<Figure size 432x288 with 1 Axes>"
      ]
     },
     "metadata": {
      "needs_background": "light"
     },
     "output_type": "display_data"
    },
    {
     "data": {
      "image/png": "[encoded data removed]",
      "text/plain": [
       "<Figure size 432x288 with 1 Axes>"
      ]
     },
     "metadata": {
      "needs_background": "light"
     },
     "output_type": "display_data"
    },
    {
     "data": {
      "image/png": "[encoded data removed]",
      "text/plain": [
       "<Figure size 432x288 with 1 Axes>"
      ]
     },
     "metadata": {
      "needs_background": "light"
     },
     "output_type": "display_data"
    },
    {
     "data": {
      "image/png": "[encoded data removed]",
      "text/plain": [
       "<Figure size 432x288 with 1 Axes>"
      ]
     },
     "metadata": {
      "needs_background": "light"
     },
     "output_type": "display_data"
    },
    {
     "data": {
      "image/png": "[encoded data removed]",
      "text/plain": [
       "<Figure size 432x288 with 1 Axes>"
      ]
     },
     "metadata": {
      "needs_background": "light"
     },
     "output_type": "display_data"
    },
    {
     "data": {
      "image/png": "[encoded data removed]",
      "text/plain": [
       "<Figure size 432x288 with 1 Axes>"
      ]
     },
     "metadata": {
      "needs_background": "light"
     },
     "output_type": "display_data"
    },
    {
     "data": {
      "image/png": "[encoded data removed]",
      "text/plain": [
       "<Figure size 432x288 with 1 Axes>"
      ]
     },
     "metadata": {
      "needs_background": "light"
     },
     "output_type": "display_data"
    },
    {
     "data": {
      "image/png": "[encoded data removed]",
      "text/plain": [
       "<Figure size 432x288 with 1 Axes>"
      ]
     },
     "metadata": {
      "needs_background": "light"
     },
     "output_type": "display_data"
    },
    {
     "data": {
      "image/png": "[encoded data removed]",
      "text/plain": [
       "<Figure size 432x288 with 1 Axes>"
      ]
     },
     "metadata": {
      "needs_background": "light"
     },
     "output_type": "display_data"
    }
   ],
   "source": [
    "#Solution from Upgrad below\n",
    "\n",
    "#Continuing from the previous distribution plots, just add a qualifier of \n",
    "#Pickup point and plot those distributions again for both City and Airport.\n",
    "#You’ll observe that the majority of requests obtained from Airport is during the\n",
    "#evening hours and majority of requests obtained from City is during morning hours.\n",
    "\n",
    "#For 'City' as the pickup point\n",
    "for i in unique_dates:\n",
    "    sns.distplot(df[(df[\"RequestDate\"]==i) & (df['Pickup point']=='City')]['RequestHour'], bins=24)\n",
    "    plt.title(str(i))\n",
    "    plt.show()\n",
    "    \n",
    "#and for 'Airport' as the pickup point\n",
    "for i in unique_dates:\n",
    "    sns.distplot(df[(df[\"RequestDate\"]==i) & (df['Pickup point']=='Airport')]['RequestHour'], bins=24)\n",
    "    plt.title(str(i))\n",
    "    plt.show()"
   ]
  },
  {
   "cell_type": "markdown",
   "metadata": {},
   "source": [
    "## Q8. Request Time III\n",
    "Now that you have realised the patterns of requests coming from both the city and the airport, the next step is to divide the entire time period to certain slots and then analyse them using plots. Use the following classification table to create the slots and then choose the correct option.\n",
    "\n",
    "\n",
    "| Hour Range(x) |   Time Slot   |\n",
    "|:-------------:|:-------------:|\n",
    "|     x < 5     | Early morning |\n",
    "|  5 <= x < 10  |    Morning    |\n",
    "|  10 <= x < 17 |    Day Time   |\n",
    "|  17 <= x < 22 |    Evening    |\n",
    "|    22 <= x    |   Late Night  |\n",
    "\n",
    "\n",
    "a) The maximum number of requests across all the days happens in the Evening.\n",
    "\n",
    "b) The minimum number of requests across all the days happens in Early Morning.\n",
    "\n",
    "c) The minimum number of requests across all the days happens in Late Night.\n",
    "\n",
    "d) Both a) and c)"
   ]
  },
  {
   "cell_type": "code",
   "execution_count": 32,
   "metadata": {},
   "outputs": [
    {
     "name": "stdout",
     "output_type": "stream",
     "text": [
      "MinHour =  0  , MaxHour =  23\n"
     ]
    }
   ],
   "source": [
    "print('MinHour = ', np.min(df.RequestHour), ' , MaxHour = ', np.max(df.RequestHour))"
   ]
  },
  {
   "cell_type": "code",
   "execution_count": 35,
   "metadata": {},
   "outputs": [
    {
     "name": "stdout",
     "output_type": "stream",
     "text": [
      "[0, 0.20833333333333334, 0.4166666666666667, 0.7083333333333334, 0.9166666666666666, 1]\n"
     ]
    }
   ],
   "source": [
    "print([0, 5/24, 10/24, 17/24, 22/24, 1])"
   ]
  },
  {
   "cell_type": "code",
   "execution_count": 41,
   "metadata": {},
   "outputs": [
    {
     "data": {
      "text/html": [
       "<div>\n",
       "<style scoped>\n",
       "    .dataframe tbody tr th:only-of-type {\n",
       "        vertical-align: middle;\n",
       "    }\n",
       "\n",
       "    .dataframe tbody tr th {\n",
       "        vertical-align: top;\n",
       "    }\n",
       "\n",
       "    .dataframe thead th {\n",
       "        text-align: right;\n",
       "    }\n",
       "</style>\n",
       "<table border=\"1\" class=\"dataframe\">\n",
       "  <thead>\n",
       "    <tr style=\"text-align: right;\">\n",
       "      <th></th>\n",
       "      <th>Pickup point</th>\n",
       "      <th>Driver id</th>\n",
       "      <th>Status</th>\n",
       "      <th>Request timestamp</th>\n",
       "      <th>Drop timestamp</th>\n",
       "      <th>RequestDate</th>\n",
       "      <th>RequestTime</th>\n",
       "      <th>DropDate</th>\n",
       "      <th>DropTime</th>\n",
       "      <th>RequestHour</th>\n",
       "      <th>DropHour</th>\n",
       "      <th>RequestTimeSlot</th>\n",
       "      <th>Time slot</th>\n",
       "    </tr>\n",
       "    <tr>\n",
       "      <th>Request id</th>\n",
       "      <th></th>\n",
       "      <th></th>\n",
       "      <th></th>\n",
       "      <th></th>\n",
       "      <th></th>\n",
       "      <th></th>\n",
       "      <th></th>\n",
       "      <th></th>\n",
       "      <th></th>\n",
       "      <th></th>\n",
       "      <th></th>\n",
       "      <th></th>\n",
       "      <th></th>\n",
       "    </tr>\n",
       "  </thead>\n",
       "  <tbody>\n",
       "    <tr>\n",
       "      <th>619</th>\n",
       "      <td>Airport</td>\n",
       "      <td>1.0</td>\n",
       "      <td>Trip Completed</td>\n",
       "      <td>11/7/2016 11:51</td>\n",
       "      <td>11/7/2016 13:00</td>\n",
       "      <td>2016-11-07</td>\n",
       "      <td>11:51:00</td>\n",
       "      <td>2016-11-07</td>\n",
       "      <td>13:00:00</td>\n",
       "      <td>11</td>\n",
       "      <td>13.0</td>\n",
       "      <td>Day Time</td>\n",
       "      <td>Day Time</td>\n",
       "    </tr>\n",
       "    <tr>\n",
       "      <th>867</th>\n",
       "      <td>Airport</td>\n",
       "      <td>1.0</td>\n",
       "      <td>Trip Completed</td>\n",
       "      <td>11/7/2016 17:57</td>\n",
       "      <td>11/7/2016 18:47</td>\n",
       "      <td>2016-11-07</td>\n",
       "      <td>17:57:00</td>\n",
       "      <td>2016-11-07</td>\n",
       "      <td>18:47:00</td>\n",
       "      <td>17</td>\n",
       "      <td>18.0</td>\n",
       "      <td>Evening</td>\n",
       "      <td>Evenning</td>\n",
       "    </tr>\n",
       "    <tr>\n",
       "      <th>1807</th>\n",
       "      <td>City</td>\n",
       "      <td>1.0</td>\n",
       "      <td>Trip Completed</td>\n",
       "      <td>12/7/2016 9:17</td>\n",
       "      <td>12/7/2016 9:58</td>\n",
       "      <td>2016-12-07</td>\n",
       "      <td>09:17:00</td>\n",
       "      <td>2016-12-07</td>\n",
       "      <td>09:58:00</td>\n",
       "      <td>9</td>\n",
       "      <td>9.0</td>\n",
       "      <td>Morning</td>\n",
       "      <td>Morning</td>\n",
       "    </tr>\n",
       "    <tr>\n",
       "      <th>2532</th>\n",
       "      <td>Airport</td>\n",
       "      <td>1.0</td>\n",
       "      <td>Trip Completed</td>\n",
       "      <td>12/7/2016 21:08</td>\n",
       "      <td>12/7/2016 22:03</td>\n",
       "      <td>2016-12-07</td>\n",
       "      <td>21:08:00</td>\n",
       "      <td>2016-12-07</td>\n",
       "      <td>22:03:00</td>\n",
       "      <td>21</td>\n",
       "      <td>22.0</td>\n",
       "      <td>Evening</td>\n",
       "      <td>Evenning</td>\n",
       "    </tr>\n",
       "    <tr>\n",
       "      <th>3112</th>\n",
       "      <td>City</td>\n",
       "      <td>1.0</td>\n",
       "      <td>Trip Completed</td>\n",
       "      <td>13-07-2016 08:33:16</td>\n",
       "      <td>13-07-2016 09:25:47</td>\n",
       "      <td>2016-07-13</td>\n",
       "      <td>08:33:16</td>\n",
       "      <td>2016-07-13</td>\n",
       "      <td>09:25:47</td>\n",
       "      <td>8</td>\n",
       "      <td>9.0</td>\n",
       "      <td>Morning</td>\n",
       "      <td>Morning</td>\n",
       "    </tr>\n",
       "    <tr>\n",
       "      <th>3879</th>\n",
       "      <td>Airport</td>\n",
       "      <td>1.0</td>\n",
       "      <td>Trip Completed</td>\n",
       "      <td>13-07-2016 21:57:28</td>\n",
       "      <td>13-07-2016 22:28:59</td>\n",
       "      <td>2016-07-13</td>\n",
       "      <td>21:57:28</td>\n",
       "      <td>2016-07-13</td>\n",
       "      <td>22:28:59</td>\n",
       "      <td>21</td>\n",
       "      <td>22.0</td>\n",
       "      <td>Evening</td>\n",
       "      <td>Evenning</td>\n",
       "    </tr>\n",
       "    <tr>\n",
       "      <th>4270</th>\n",
       "      <td>Airport</td>\n",
       "      <td>1.0</td>\n",
       "      <td>Trip Completed</td>\n",
       "      <td>14-07-2016 06:15:32</td>\n",
       "      <td>14-07-2016 07:13:15</td>\n",
       "      <td>2016-07-14</td>\n",
       "      <td>06:15:32</td>\n",
       "      <td>2016-07-14</td>\n",
       "      <td>07:13:15</td>\n",
       "      <td>6</td>\n",
       "      <td>7.0</td>\n",
       "      <td>Morning</td>\n",
       "      <td>Morning</td>\n",
       "    </tr>\n",
       "    <tr>\n",
       "      <th>5510</th>\n",
       "      <td>Airport</td>\n",
       "      <td>1.0</td>\n",
       "      <td>Trip Completed</td>\n",
       "      <td>15-07-2016 05:11:52</td>\n",
       "      <td>15-07-2016 06:07:52</td>\n",
       "      <td>2016-07-15</td>\n",
       "      <td>05:11:52</td>\n",
       "      <td>2016-07-15</td>\n",
       "      <td>06:07:52</td>\n",
       "      <td>5</td>\n",
       "      <td>6.0</td>\n",
       "      <td>Morning</td>\n",
       "      <td>Morning</td>\n",
       "    </tr>\n",
       "    <tr>\n",
       "      <th>6248</th>\n",
       "      <td>City</td>\n",
       "      <td>1.0</td>\n",
       "      <td>Trip Completed</td>\n",
       "      <td>15-07-2016 17:57:27</td>\n",
       "      <td>15-07-2016 18:50:51</td>\n",
       "      <td>2016-07-15</td>\n",
       "      <td>17:57:27</td>\n",
       "      <td>2016-07-15</td>\n",
       "      <td>18:50:51</td>\n",
       "      <td>17</td>\n",
       "      <td>18.0</td>\n",
       "      <td>Evening</td>\n",
       "      <td>Evenning</td>\n",
       "    </tr>\n",
       "    <tr>\n",
       "      <th>267</th>\n",
       "      <td>City</td>\n",
       "      <td>2.0</td>\n",
       "      <td>Trip Completed</td>\n",
       "      <td>11/7/2016 6:46</td>\n",
       "      <td>11/7/2016 7:25</td>\n",
       "      <td>2016-11-07</td>\n",
       "      <td>06:46:00</td>\n",
       "      <td>2016-11-07</td>\n",
       "      <td>07:25:00</td>\n",
       "      <td>6</td>\n",
       "      <td>7.0</td>\n",
       "      <td>Morning</td>\n",
       "      <td>Morning</td>\n",
       "    </tr>\n",
       "    <tr>\n",
       "      <th>1467</th>\n",
       "      <td>Airport</td>\n",
       "      <td>2.0</td>\n",
       "      <td>Trip Completed</td>\n",
       "      <td>12/7/2016 5:08</td>\n",
       "      <td>12/7/2016 6:02</td>\n",
       "      <td>2016-12-07</td>\n",
       "      <td>05:08:00</td>\n",
       "      <td>2016-12-07</td>\n",
       "      <td>06:02:00</td>\n",
       "      <td>5</td>\n",
       "      <td>6.0</td>\n",
       "      <td>Morning</td>\n",
       "      <td>Morning</td>\n",
       "    </tr>\n",
       "    <tr>\n",
       "      <th>1983</th>\n",
       "      <td>City</td>\n",
       "      <td>2.0</td>\n",
       "      <td>Trip Completed</td>\n",
       "      <td>12/7/2016 12:30</td>\n",
       "      <td>12/7/2016 12:57</td>\n",
       "      <td>2016-12-07</td>\n",
       "      <td>12:30:00</td>\n",
       "      <td>2016-12-07</td>\n",
       "      <td>12:57:00</td>\n",
       "      <td>12</td>\n",
       "      <td>12.0</td>\n",
       "      <td>Day Time</td>\n",
       "      <td>Day Time</td>\n",
       "    </tr>\n",
       "    <tr>\n",
       "      <th>2784</th>\n",
       "      <td>Airport</td>\n",
       "      <td>2.0</td>\n",
       "      <td>Trip Completed</td>\n",
       "      <td>13-07-2016 04:49:20</td>\n",
       "      <td>13-07-2016 05:23:03</td>\n",
       "      <td>2016-07-13</td>\n",
       "      <td>04:49:20</td>\n",
       "      <td>2016-07-13</td>\n",
       "      <td>05:23:03</td>\n",
       "      <td>4</td>\n",
       "      <td>5.0</td>\n",
       "      <td>Early morning</td>\n",
       "      <td>Early Morning</td>\n",
       "    </tr>\n",
       "    <tr>\n",
       "      <th>3075</th>\n",
       "      <td>City</td>\n",
       "      <td>2.0</td>\n",
       "      <td>Trip Completed</td>\n",
       "      <td>13-07-2016 08:02:53</td>\n",
       "      <td>13-07-2016 09:16:19</td>\n",
       "      <td>2016-07-13</td>\n",
       "      <td>08:02:53</td>\n",
       "      <td>2016-07-13</td>\n",
       "      <td>09:16:19</td>\n",
       "      <td>8</td>\n",
       "      <td>9.0</td>\n",
       "      <td>Morning</td>\n",
       "      <td>Morning</td>\n",
       "    </tr>\n",
       "    <tr>\n",
       "      <th>3379</th>\n",
       "      <td>City</td>\n",
       "      <td>2.0</td>\n",
       "      <td>Trip Completed</td>\n",
       "      <td>13-07-2016 14:23:02</td>\n",
       "      <td>13-07-2016 15:35:18</td>\n",
       "      <td>2016-07-13</td>\n",
       "      <td>14:23:02</td>\n",
       "      <td>2016-07-13</td>\n",
       "      <td>15:35:18</td>\n",
       "      <td>14</td>\n",
       "      <td>15.0</td>\n",
       "      <td>Day Time</td>\n",
       "      <td>Day Time</td>\n",
       "    </tr>\n",
       "    <tr>\n",
       "      <th>3482</th>\n",
       "      <td>Airport</td>\n",
       "      <td>2.0</td>\n",
       "      <td>Trip Completed</td>\n",
       "      <td>13-07-2016 17:23:18</td>\n",
       "      <td>13-07-2016 18:20:51</td>\n",
       "      <td>2016-07-13</td>\n",
       "      <td>17:23:18</td>\n",
       "      <td>2016-07-13</td>\n",
       "      <td>18:20:51</td>\n",
       "      <td>17</td>\n",
       "      <td>18.0</td>\n",
       "      <td>Evening</td>\n",
       "      <td>Evenning</td>\n",
       "    </tr>\n",
       "    <tr>\n",
       "      <th>4652</th>\n",
       "      <td>City</td>\n",
       "      <td>2.0</td>\n",
       "      <td>Trip Completed</td>\n",
       "      <td>14-07-2016 12:01:02</td>\n",
       "      <td>14-07-2016 12:36:46</td>\n",
       "      <td>2016-07-14</td>\n",
       "      <td>12:01:02</td>\n",
       "      <td>2016-07-14</td>\n",
       "      <td>12:36:46</td>\n",
       "      <td>12</td>\n",
       "      <td>12.0</td>\n",
       "      <td>Day Time</td>\n",
       "      <td>Day Time</td>\n",
       "    </tr>\n",
       "    <tr>\n",
       "      <th>5335</th>\n",
       "      <td>Airport</td>\n",
       "      <td>2.0</td>\n",
       "      <td>Trip Completed</td>\n",
       "      <td>14-07-2016 22:24:13</td>\n",
       "      <td>14-07-2016 23:18:52</td>\n",
       "      <td>2016-07-14</td>\n",
       "      <td>22:24:13</td>\n",
       "      <td>2016-07-14</td>\n",
       "      <td>23:18:52</td>\n",
       "      <td>22</td>\n",
       "      <td>23.0</td>\n",
       "      <td>Late Night</td>\n",
       "      <td>Late Night</td>\n",
       "    </tr>\n",
       "    <tr>\n",
       "      <th>535</th>\n",
       "      <td>Airport</td>\n",
       "      <td>3.0</td>\n",
       "      <td>Trip Completed</td>\n",
       "      <td>11/7/2016 10:00</td>\n",
       "      <td>11/7/2016 10:31</td>\n",
       "      <td>2016-11-07</td>\n",
       "      <td>10:00:00</td>\n",
       "      <td>2016-11-07</td>\n",
       "      <td>10:31:00</td>\n",
       "      <td>10</td>\n",
       "      <td>10.0</td>\n",
       "      <td>Day Time</td>\n",
       "      <td>Day Time</td>\n",
       "    </tr>\n",
       "    <tr>\n",
       "      <th>960</th>\n",
       "      <td>Airport</td>\n",
       "      <td>3.0</td>\n",
       "      <td>Trip Completed</td>\n",
       "      <td>11/7/2016 18:45</td>\n",
       "      <td>11/7/2016 19:23</td>\n",
       "      <td>2016-11-07</td>\n",
       "      <td>18:45:00</td>\n",
       "      <td>2016-11-07</td>\n",
       "      <td>19:23:00</td>\n",
       "      <td>18</td>\n",
       "      <td>19.0</td>\n",
       "      <td>Evening</td>\n",
       "      <td>Evenning</td>\n",
       "    </tr>\n",
       "    <tr>\n",
       "      <th>1934</th>\n",
       "      <td>Airport</td>\n",
       "      <td>3.0</td>\n",
       "      <td>Trip Completed</td>\n",
       "      <td>12/7/2016 11:17</td>\n",
       "      <td>12/7/2016 12:23</td>\n",
       "      <td>2016-12-07</td>\n",
       "      <td>11:17:00</td>\n",
       "      <td>2016-12-07</td>\n",
       "      <td>12:23:00</td>\n",
       "      <td>11</td>\n",
       "      <td>12.0</td>\n",
       "      <td>Day Time</td>\n",
       "      <td>Day Time</td>\n",
       "    </tr>\n",
       "    <tr>\n",
       "      <th>2083</th>\n",
       "      <td>Airport</td>\n",
       "      <td>3.0</td>\n",
       "      <td>Trip Completed</td>\n",
       "      <td>12/7/2016 15:46</td>\n",
       "      <td>12/7/2016 16:40</td>\n",
       "      <td>2016-12-07</td>\n",
       "      <td>15:46:00</td>\n",
       "      <td>2016-12-07</td>\n",
       "      <td>16:40:00</td>\n",
       "      <td>15</td>\n",
       "      <td>16.0</td>\n",
       "      <td>Day Time</td>\n",
       "      <td>Day Time</td>\n",
       "    </tr>\n",
       "    <tr>\n",
       "      <th>2211</th>\n",
       "      <td>Airport</td>\n",
       "      <td>3.0</td>\n",
       "      <td>Trip Completed</td>\n",
       "      <td>12/7/2016 18:00</td>\n",
       "      <td>12/7/2016 18:28</td>\n",
       "      <td>2016-12-07</td>\n",
       "      <td>18:00:00</td>\n",
       "      <td>2016-12-07</td>\n",
       "      <td>18:28:00</td>\n",
       "      <td>18</td>\n",
       "      <td>18.0</td>\n",
       "      <td>Evening</td>\n",
       "      <td>Evenning</td>\n",
       "    </tr>\n",
       "    <tr>\n",
       "      <th>3096</th>\n",
       "      <td>Airport</td>\n",
       "      <td>3.0</td>\n",
       "      <td>Trip Completed</td>\n",
       "      <td>13-07-2016 08:17:29</td>\n",
       "      <td>13-07-2016 09:22:37</td>\n",
       "      <td>2016-07-13</td>\n",
       "      <td>08:17:29</td>\n",
       "      <td>2016-07-13</td>\n",
       "      <td>09:22:37</td>\n",
       "      <td>8</td>\n",
       "      <td>9.0</td>\n",
       "      <td>Morning</td>\n",
       "      <td>Morning</td>\n",
       "    </tr>\n",
       "    <tr>\n",
       "      <th>3881</th>\n",
       "      <td>Airport</td>\n",
       "      <td>3.0</td>\n",
       "      <td>Trip Completed</td>\n",
       "      <td>13-07-2016 21:54:18</td>\n",
       "      <td>13-07-2016 22:51:23</td>\n",
       "      <td>2016-07-13</td>\n",
       "      <td>21:54:18</td>\n",
       "      <td>2016-07-13</td>\n",
       "      <td>22:51:23</td>\n",
       "      <td>21</td>\n",
       "      <td>22.0</td>\n",
       "      <td>Evening</td>\n",
       "      <td>Evenning</td>\n",
       "    </tr>\n",
       "  </tbody>\n",
       "</table>\n",
       "</div>"
      ],
      "text/plain": [
       "           Pickup point  Driver id          Status    Request timestamp  \\\n",
       "Request id                                                                \n",
       "619             Airport        1.0  Trip Completed      11/7/2016 11:51   \n",
       "867             Airport        1.0  Trip Completed      11/7/2016 17:57   \n",
       "1807               City        1.0  Trip Completed       12/7/2016 9:17   \n",
       "2532            Airport        1.0  Trip Completed      12/7/2016 21:08   \n",
       "3112               City        1.0  Trip Completed  13-07-2016 08:33:16   \n",
       "3879            Airport        1.0  Trip Completed  13-07-2016 21:57:28   \n",
       "4270            Airport        1.0  Trip Completed  14-07-2016 06:15:32   \n",
       "5510            Airport        1.0  Trip Completed  15-07-2016 05:11:52   \n",
       "6248               City        1.0  Trip Completed  15-07-2016 17:57:27   \n",
       "267                City        2.0  Trip Completed       11/7/2016 6:46   \n",
       "1467            Airport        2.0  Trip Completed       12/7/2016 5:08   \n",
       "1983               City        2.0  Trip Completed      12/7/2016 12:30   \n",
       "2784            Airport        2.0  Trip Completed  13-07-2016 04:49:20   \n",
       "3075               City        2.0  Trip Completed  13-07-2016 08:02:53   \n",
       "3379               City        2.0  Trip Completed  13-07-2016 14:23:02   \n",
       "3482            Airport        2.0  Trip Completed  13-07-2016 17:23:18   \n",
       "4652               City        2.0  Trip Completed  14-07-2016 12:01:02   \n",
       "5335            Airport        2.0  Trip Completed  14-07-2016 22:24:13   \n",
       "535             Airport        3.0  Trip Completed      11/7/2016 10:00   \n",
       "960             Airport        3.0  Trip Completed      11/7/2016 18:45   \n",
       "1934            Airport        3.0  Trip Completed      12/7/2016 11:17   \n",
       "2083            Airport        3.0  Trip Completed      12/7/2016 15:46   \n",
       "2211            Airport        3.0  Trip Completed      12/7/2016 18:00   \n",
       "3096            Airport        3.0  Trip Completed  13-07-2016 08:17:29   \n",
       "3881            Airport        3.0  Trip Completed  13-07-2016 21:54:18   \n",
       "\n",
       "                 Drop timestamp RequestDate RequestTime    DropDate  DropTime  \\\n",
       "Request id                                                                      \n",
       "619             11/7/2016 13:00  2016-11-07    11:51:00  2016-11-07  13:00:00   \n",
       "867             11/7/2016 18:47  2016-11-07    17:57:00  2016-11-07  18:47:00   \n",
       "1807             12/7/2016 9:58  2016-12-07    09:17:00  2016-12-07  09:58:00   \n",
       "2532            12/7/2016 22:03  2016-12-07    21:08:00  2016-12-07  22:03:00   \n",
       "3112        13-07-2016 09:25:47  2016-07-13    08:33:16  2016-07-13  09:25:47   \n",
       "3879        13-07-2016 22:28:59  2016-07-13    21:57:28  2016-07-13  22:28:59   \n",
       "4270        14-07-2016 07:13:15  2016-07-14    06:15:32  2016-07-14  07:13:15   \n",
       "5510        15-07-2016 06:07:52  2016-07-15    05:11:52  2016-07-15  06:07:52   \n",
       "6248        15-07-2016 18:50:51  2016-07-15    17:57:27  2016-07-15  18:50:51   \n",
       "267              11/7/2016 7:25  2016-11-07    06:46:00  2016-11-07  07:25:00   \n",
       "1467             12/7/2016 6:02  2016-12-07    05:08:00  2016-12-07  06:02:00   \n",
       "1983            12/7/2016 12:57  2016-12-07    12:30:00  2016-12-07  12:57:00   \n",
       "2784        13-07-2016 05:23:03  2016-07-13    04:49:20  2016-07-13  05:23:03   \n",
       "3075        13-07-2016 09:16:19  2016-07-13    08:02:53  2016-07-13  09:16:19   \n",
       "3379        13-07-2016 15:35:18  2016-07-13    14:23:02  2016-07-13  15:35:18   \n",
       "3482        13-07-2016 18:20:51  2016-07-13    17:23:18  2016-07-13  18:20:51   \n",
       "4652        14-07-2016 12:36:46  2016-07-14    12:01:02  2016-07-14  12:36:46   \n",
       "5335        14-07-2016 23:18:52  2016-07-14    22:24:13  2016-07-14  23:18:52   \n",
       "535             11/7/2016 10:31  2016-11-07    10:00:00  2016-11-07  10:31:00   \n",
       "960             11/7/2016 19:23  2016-11-07    18:45:00  2016-11-07  19:23:00   \n",
       "1934            12/7/2016 12:23  2016-12-07    11:17:00  2016-12-07  12:23:00   \n",
       "2083            12/7/2016 16:40  2016-12-07    15:46:00  2016-12-07  16:40:00   \n",
       "2211            12/7/2016 18:28  2016-12-07    18:00:00  2016-12-07  18:28:00   \n",
       "3096        13-07-2016 09:22:37  2016-07-13    08:17:29  2016-07-13  09:22:37   \n",
       "3881        13-07-2016 22:51:23  2016-07-13    21:54:18  2016-07-13  22:51:23   \n",
       "\n",
       "            RequestHour  DropHour RequestTimeSlot      Time slot  \n",
       "Request id                                                        \n",
       "619                  11      13.0        Day Time       Day Time  \n",
       "867                  17      18.0         Evening       Evenning  \n",
       "1807                  9       9.0         Morning        Morning  \n",
       "2532                 21      22.0         Evening       Evenning  \n",
       "3112                  8       9.0         Morning        Morning  \n",
       "3879                 21      22.0         Evening       Evenning  \n",
       "4270                  6       7.0         Morning        Morning  \n",
       "5510                  5       6.0         Morning        Morning  \n",
       "6248                 17      18.0         Evening       Evenning  \n",
       "267                   6       7.0         Morning        Morning  \n",
       "1467                  5       6.0         Morning        Morning  \n",
       "1983                 12      12.0        Day Time       Day Time  \n",
       "2784                  4       5.0   Early morning  Early Morning  \n",
       "3075                  8       9.0         Morning        Morning  \n",
       "3379                 14      15.0        Day Time       Day Time  \n",
       "3482                 17      18.0         Evening       Evenning  \n",
       "4652                 12      12.0        Day Time       Day Time  \n",
       "5335                 22      23.0      Late Night     Late Night  \n",
       "535                  10      10.0        Day Time       Day Time  \n",
       "960                  18      19.0         Evening       Evenning  \n",
       "1934                 11      12.0        Day Time       Day Time  \n",
       "2083                 15      16.0        Day Time       Day Time  \n",
       "2211                 18      18.0         Evening       Evenning  \n",
       "3096                  8       9.0         Morning        Morning  \n",
       "3881                 21      22.0         Evening       Evenning  "
      ]
     },
     "execution_count": 41,
     "metadata": {},
     "output_type": "execute_result"
    }
   ],
   "source": [
    "#write your code here\n",
    "##Prepare buckets using pd.qcut\n",
    "df['RequestTimeSlot'] = pd.cut(df.RequestHour, bins=[0, 5, 10, 17, 22, 24], right=False, labels=['Early morning', 'Morning', 'Day Time', 'Evening', 'Late Night'])\n",
    "df.head(25)"
   ]
  },
  {
   "cell_type": "code",
   "execution_count": 42,
   "metadata": {},
   "outputs": [
    {
     "data": {
      "text/plain": [
       "Evening          2342\n",
       "Morning          2103\n",
       "Day Time         1224\n",
       "Early morning     578\n",
       "Late Night        498\n",
       "Name: RequestTimeSlot, dtype: int64"
      ]
     },
     "execution_count": 42,
     "metadata": {},
     "output_type": "execute_result"
    }
   ],
   "source": [
    "df.RequestTimeSlot.value_counts()"
   ]
  },
  {
   "cell_type": "code",
   "execution_count": 43,
   "metadata": {},
   "outputs": [
    {
     "data": {
      "text/plain": [
       "Evening          2342\n",
       "Morning          2103\n",
       "Day Time         1224\n",
       "Early Morning     578\n",
       "Late Night        498\n",
       "Name: Time slot, dtype: int64"
      ]
     },
     "execution_count": 43,
     "metadata": {},
     "output_type": "execute_result"
    }
   ],
   "source": [
    "#Solution from Upgrad below\n",
    "\n",
    "#Use a function with an if-else loop containing the classifications mentioned above. \n",
    "#Use the Lambda function to apply it on all the values in the Request hour column.\n",
    "#This gives you the Time Slot for each request. Using a value_counts() on the time slot \n",
    "#gives the number of requests made at each time period: highest - Evening(2342), lowest - Late Night(498).\n",
    "\n",
    "def time_period(x):\n",
    "    #divide the time of the day into five categories\n",
    "    if x < 5:\n",
    "        return \"Early Morning\"\n",
    "    elif 5 <= x < 10:\n",
    "        return \"Morning\"\n",
    "    elif 10 <= x < 17:\n",
    "        return \"Day Time\"\n",
    "    elif 17 <= x < 22:\n",
    "        return \"Evening\"\n",
    "    else:\n",
    "        return \"Late Night\"\n",
    "\n",
    "#use this function on the request hour to create Time slot \n",
    "df['Time slot'] = df['RequestHour'].apply(lambda x: time_period(x))\n",
    "#and now simply use value_counts()\n",
    "df['Time slot'].value_counts()"
   ]
  },
  {
   "cell_type": "markdown",
   "metadata": {},
   "source": [
    "## Q9. Bar\n",
    "After this, you decide to plot a bar plot with the time slots in the X-axis and the number of requests in the Y-axis and observe the Status of trips for each time slot. This way you’ll get the number of trip request across each time slot and their status as well. \n",
    "\n",
    "To make things easier, you created an additional column called ‘Count’ whose value is fixed at 1 for all the rows (df[\"Count\"]=1). Then in order to create a bar plot as mentioned in the first statement, you decided to use sns.barplot() function. \n",
    "\n",
    "What are the parameters that you need to take here?\n",
    "a) Take time slots as x and Count as y\n",
    "b) Take the Status as hue and df as the data\n",
    "c) Both (a) and (b)\n",
    "d) The parameters mentioned above are insufficient"
   ]
  },
  {
   "cell_type": "code",
   "execution_count": 44,
   "metadata": {},
   "outputs": [],
   "source": [
    "#Use this for rough work\n",
    "df['Count'] = 1"
   ]
  },
  {
   "cell_type": "code",
   "execution_count": 49,
   "metadata": {},
   "outputs": [
    {
     "data": {
      "image/png": "[encoded data removed]",
      "text/plain": [
       "<Figure size 432x288 with 1 Axes>"
      ]
     },
     "metadata": {
      "needs_background": "light"
     },
     "output_type": "display_data"
    }
   ],
   "source": [
    "sns.barplot(x='RequestTimeSlot',y='Count',hue='Status',data=df)\n",
    "plt.show()"
   ]
  },
  {
   "cell_type": "code",
   "execution_count": 45,
   "metadata": {},
   "outputs": [
    {
     "data": {
      "image/png": "[encoded data removed]",
      "text/plain": [
       "<Figure size 432x288 with 1 Axes>"
      ]
     },
     "metadata": {
      "needs_background": "light"
     },
     "output_type": "display_data"
    }
   ],
   "source": [
    "#After adding estimator=np.sum\n",
    "sns.barplot(x='RequestTimeSlot',y='Count',hue='Status',data=df,estimator=np.sum)\n",
    "plt.show()"
   ]
  },
  {
   "cell_type": "markdown",
   "metadata": {},
   "source": [
    "## Q10. Correct Bar\n",
    "Once you have created the bar plot correctly, what major issues are you able to observe? Choose the correct options amongst the following-\n",
    "\n",
    "a) A majority of requests in the evening are having a “No cars available” status\n",
    "\n",
    "b) The major issue in the morning slot is that it has a lot of cancellations\n",
    "\n",
    "c) Both (a) and (b)\n",
    "\n",
    "d) None of the above"
   ]
  },
  {
   "cell_type": "code",
   "execution_count": 13,
   "metadata": {},
   "outputs": [],
   "source": [
    "#use this as rough work"
   ]
  },
  {
   "cell_type": "code",
   "execution_count": null,
   "metadata": {},
   "outputs": [],
   "source": []
  },
  {
   "cell_type": "code",
   "execution_count": null,
   "metadata": {},
   "outputs": [],
   "source": []
  },
  {
   "cell_type": "markdown",
   "metadata": {},
   "source": [
    "## Q11. Demand Supply\n",
    "Now that you’ve understood the major issues in the morning and the evening time slots, it’s time to compute the demand and supply gap. Here,\n",
    "\n",
    "Demand = # of Requests Uber Gets | Supply = # of Requests Uber is able to fulfil | Demand supply gap = Demand - Supply.\n",
    "\n",
    "Compute the demand-supply gap for both the morning and the evening slots for the Pick-up points having the most number of requests in that time_slot\n",
    "\n",
    "a) Morning - 1205 Evening - 1427\n",
    "b) Morning - 1427 Evening - 1205\n",
    "c) Morning - 1249 Evening - 1558\n",
    "d) Morning - 1558 Evening - 1249"
   ]
  },
  {
   "cell_type": "code",
   "execution_count": 62,
   "metadata": {},
   "outputs": [
    {
     "data": {
      "text/plain": [
       "RequestTimeSlot  Pickup point\n",
       "Early morning    Airport            NaN\n",
       "                 City               NaN\n",
       "Morning          Airport          426.0\n",
       "                 City            1677.0\n",
       "Day Time         Airport            NaN\n",
       "                 City               NaN\n",
       "Evening          Airport         1800.0\n",
       "                 City             542.0\n",
       "Late Night       Airport            NaN\n",
       "                 City               NaN\n",
       "Name: Count, dtype: float64"
      ]
     },
     "execution_count": 62,
     "metadata": {},
     "output_type": "execute_result"
    }
   ],
   "source": [
    "#write your code here\n",
    "morningOrEvening = df[df.RequestTimeSlot.isin(['Morning','Evening'])]\n",
    "morningOrEvening.groupby(['RequestTimeSlot', 'Pickup point'])['Count'].sum()"
   ]
  },
  {
   "cell_type": "code",
   "execution_count": 63,
   "metadata": {},
   "outputs": [],
   "source": [
    "cityMorning = df[(df['Pickup point']=='City') & (df.RequestTimeSlot=='Morning')]\n",
    "airportEvening = df[(df['Pickup point']=='Airport') & (df.RequestTimeSlot=='Evening')]"
   ]
  },
  {
   "cell_type": "code",
   "execution_count": 64,
   "metadata": {},
   "outputs": [
    {
     "data": {
      "text/plain": [
       "Status\n",
       "Cancelled            820\n",
       "No Cars Available    385\n",
       "Trip Completed       472\n",
       "Name: Count, dtype: int64"
      ]
     },
     "execution_count": 64,
     "metadata": {},
     "output_type": "execute_result"
    }
   ],
   "source": [
    "cityMorning.groupby(['Status'])['Count'].sum()"
   ]
  },
  {
   "cell_type": "code",
   "execution_count": 65,
   "metadata": {},
   "outputs": [
    {
     "data": {
      "text/plain": [
       "Status\n",
       "Cancelled             106\n",
       "No Cars Available    1321\n",
       "Trip Completed        373\n",
       "Name: Count, dtype: int64"
      ]
     },
     "execution_count": 65,
     "metadata": {},
     "output_type": "execute_result"
    }
   ],
   "source": [
    "airportEvening.groupby(['Status'])['Count'].sum()"
   ]
  },
  {
   "cell_type": "code",
   "execution_count": 72,
   "metadata": {},
   "outputs": [
    {
     "name": "stdout",
     "output_type": "stream",
     "text": [
      "City max gap\n",
      " Status     Cancelled  No Cars Available  Trip Completed   Gap\n",
      "Time slot                                                    \n",
      "Morning          820                385             472  1205\n",
      "Airport max gap\n",
      " Status     Cancelled  No Cars Available  Trip Completed   Gap\n",
      "Time slot                                                    \n",
      "Evening          106               1321             373  1427\n"
     ]
    }
   ],
   "source": [
    "#Solution from Upgrad below\n",
    "\n",
    "#We create a pivot table with values as 'Count' and aggfunc as np.sum. \n",
    "#We create this pivot table for both pickup points 'City' and 'Airport'.\n",
    "demandsupply_City=pd.pivot_table(df[df['Pickup point']=='City'], values='Count', index='Time slot', columns ='Status', aggfunc=np.sum)\n",
    "demandsupply_Airport=pd.pivot_table(df[df['Pickup point']=='Airport'], values='Count', index='Time slot', columns ='Status', aggfunc=np.sum)\n",
    "\n",
    "#After that, we simply add a new column 'Gap' and add values in 'Cancelled' and 'No cars available'\n",
    "demandsupply_City['Gap'] = demandsupply_City['Cancelled'] + demandsupply_City['No Cars Available']\n",
    "demandsupply_Airport['Gap'] = demandsupply_Airport['Cancelled'] + demandsupply_Airport['No Cars Available']\n",
    "\n",
    "#check both the pivot tables and then choose the correct option.\n",
    "print('City max gap\\n', demandsupply_City[demandsupply_City.Gap == demandsupply_City.Gap.max()])\n",
    "print('Airport max gap\\n', demandsupply_Airport[demandsupply_Airport.Gap == demandsupply_Airport.Gap.max()])"
   ]
  },
  {
   "cell_type": "code",
   "execution_count": null,
   "metadata": {},
   "outputs": [],
   "source": []
  }
 ],
 "metadata": {
  "kernelspec": {
   "display_name": "Python 3",
   "language": "python",
   "name": "python3"
  },
  "language_info": {
   "codemirror_mode": {
    "name": "ipython",
    "version": 3
   },
   "file_extension": ".py",
   "mimetype": "text/x-python",
   "name": "python",
   "nbconvert_exporter": "python",
   "pygments_lexer": "ipython3",
   "version": "3.7.6"
  }
 },
 "nbformat": 4,
 "nbformat_minor": 2
}
