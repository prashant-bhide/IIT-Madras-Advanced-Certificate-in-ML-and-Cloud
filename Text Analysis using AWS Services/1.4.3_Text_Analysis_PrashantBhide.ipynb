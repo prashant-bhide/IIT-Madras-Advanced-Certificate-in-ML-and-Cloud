{
 "cells": [
  {
   "cell_type": "markdown",
   "metadata": {},
   "source": [
    "# MLC - Working with AWS - Graded Questions"
   ]
  },
  {
   "cell_type": "markdown",
   "metadata": {},
   "source": [
    "## Text Analysis using AWS Services"
   ]
  },
  {
   "cell_type": "markdown",
   "metadata": {},
   "source": [
    "You are expected to solve the questions in the assignment using the Boto3 SDK offered by AWS. You can refer to the documentation [here](https://boto3.amazonaws.com/v1/documentation/api/latest/index.html)."
   ]
  },
  {
   "cell_type": "markdown",
   "metadata": {},
   "source": [
    "You are provided with the following review of a course offered by upGrad:\n",
    "\n",
    "#### Review:\n",
    "\n",
    "*I am currently close to completing my Post Graduate Diploma in Data Science from IIIT Bangalore in collaboration with UpGrad and therefore I feel I can throw some light on the program and help others make an informed decision on choosing programs offered by UpGrad.*\n",
    "\n",
    "*Prior to taking up the course with UpGrad, I had done a few courses from edX and Coursera platforms posted by various Universities across the globe. This, I combined with online resources and study material in hopes of making a career transition to Data Science. The fact is, we have all the required resources available online such as video material for teaching the technology, data sets to gain coding knowledge and other materials to teach us about the business domain. Honestly, after about 4 months of trying to crack data science this way (the hard way), it didn’t seem like I was making any headway. I was nowhere close to understanding an industry which is not an IT discipline at all, but rather a field which combines Mathematics, Coding and above all Business domain.*\n",
    "\n",
    "*This is when I found out about the PGDDS course offered by UpGrad which provided a definite structure in the vast ocean of information about the Data Science Industry available online. It gave the benefit of a structured program rather than spending or wasting huge amounts of time just trying to accumulate all the resources required to make some headway. Simply put, it saved me the effort of searching for needles in a mammoth haystack (internet).*\n",
    "\n",
    "*So I signed up for the program and after completing 10 months of the 11 month program, here are the few benefits I have felt.*\n",
    "\n",
    "*1. First and foremost, this is not a certification course but a Post Graduate Diploma provided by an accredited University that carries a lot of value than any certification course. Let’s be honest, any company would always value a university degree over any online certification course.*\n",
    "\n",
    "*2. Faculty who teach different modules are top notch in their fields having Doctorate or Master’s degree. Further, since Data Science is inter-disciplinary in nature, therefore we would require faculties with experience in the relevant disciplines to guide us. IIIT-B in collaboration with UpGrad have chosen faculties with the right qualification to match with the different disciplines.*\n",
    "\n",
    "*3. Moreover, UpGrad has tied up with industry professionals working at companies such as Gramener, Uber, Flipkart etc. to provide the students with a course that makes it more aligned with the happenings in the current Data Science Industry. They also let you work on case studies using real time data (as opposed to fabricated data) providing us with exposure to actual problems in the industry being solved using Data Analytics.*\n",
    "\n",
    "*4. UpGrad has further tied up with a third party company known as Tapchief to allow us to interact with top professionals in the industry. This is aimed at giving us guidance on how we can further our career in the field considering our educational qualification, past experiences, our expectation or goals, and age. They also help in guiding us in our final Capstone Project through video chats and main benefit of this is to guide us in terms of realistic approaches to the problem and providing business insights into the given problems.*\n",
    "\n",
    "*5. Biggest benefit: Networking!!! The biggest benefit I have received is being able to collaborate with so many other students who are industry professionals at different stages of the course. Numerous opportunities are given to interact with this diverse group of people such as working in groups on numerous case studies, meeting them at basecamps arranged by UpGrad and lot of us can meet up at campus library if you are from Bangalore.*\n",
    "\n",
    "*UpGrad is trying to tackle a concern or a problem which has been voiced by so many CEO’s of top IT organizations: EMPLOYABILITY. They do this by collaborating not just with an academic institute, but also bringing in industry experts to give us the right tools required in the market.*\n",
    "\n",
    "*I understand the course fees are on the upper side compared to many other online and offline courses offered, but I don’t personally believe there are many platforms which offer a holistic package such as the one’s UpGrad offered.*\n",
    "\n",
    "*I hope this review helps anyone wishing to pursue a course offered by UpGrad and I must say, taking up any of the courses is serious business and will require serious time and effort from the candidates.*"
   ]
  },
  {
   "cell_type": "markdown",
   "metadata": {},
   "source": [
    "#### Your task is to use the appriopriate AWS services to check the key points mentioned by the student. Also, you must identify whether the student is satisfied with the course or not."
   ]
  },
  {
   "cell_type": "code",
   "execution_count": 1,
   "metadata": {},
   "outputs": [],
   "source": [
    "# Import the required libraries and define the required variables\n",
    "import boto3\n",
    "\n",
    "# Get a client handle to the Amazon Comprehend service using RegionName for US East (N. Virginia) which is 'us-east-1'\n",
    "client = boto3.client(service_name='comprehend', region_name='us-east-1')\n"
   ]
  },
  {
   "cell_type": "code",
   "execution_count": 2,
   "metadata": {},
   "outputs": [],
   "source": [
    "# Define a variable to hold the review text\n",
    "\n",
    "review_text = 'I am currently close to completing my Post Graduate Diploma in Data Science from IIIT Bangalore in collaboration with UpGrad and therefore I feel I can throw some light on the program and help others make an informed decision on choosing programs offered by UpGrad.\\\n",
    " \\\n",
    "Prior to taking up the course with UpGrad, I had done a few courses from edX and Coursera platforms posted by various Universities across the globe. This, I combined with online resources and study material in hopes of making a career transition to Data Science. The fact is, we have all the required resources available online such as video material for teaching the technology, data sets to gain coding knowledge and other materials to teach us about the business domain. Honestly, after about 4 months of trying to crack data science this way (the hard way), it didn’t seem like I was making any headway. I was nowhere close to understanding an industry which is not an IT discipline at all, but rather a field which combines Mathematics, Coding and above all Business domain.\\\n",
    " \\\n",
    "This is when I found out about the PGDDS course offered by UpGrad which provided a definite structure in the vast ocean of information about the Data Science Industry available online. It gave the benefit of a structured program rather than spending or wasting huge amounts of time just trying to accumulate all the resources required to make some headway. Simply put, it saved me the effort of searching for needles in a mammoth haystack (internet).\\\n",
    " \\\n",
    "So I signed up for the program and after completing 10 months of the 11 month program, here are the few benefits I have felt.\\\n",
    " \\\n",
    "1. First and foremost, this is not a certification course but a Post Graduate Diploma provided by an accredited University that carries a lot of value than any certification course. Let’s be honest, any company would always value a university degree over any online certification course.\\\n",
    " \\\n",
    "2. Faculty who teach different modules are top notch in their fields having Doctorate or Master’s degree. Further, since Data Science is inter-disciplinary in nature, therefore we would require faculties with experience in the relevant disciplines to guide us. IIIT-B in collaboration with UpGrad have chosen faculties with the right qualification to match with the different disciplines.\\\n",
    " \\\n",
    "3. Moreover, UpGrad has tied up with industry professionals working at companies such as Gramener, Uber, Flipkart etc. to provide the students with a course that makes it more aligned with the happenings in the current Data Science Industry. They also let you work on case studies using real time data (as opposed to fabricated data) providing us with exposure to actual problems in the industry being solved using Data Analytics.\\\n",
    " \\\n",
    "4. UpGrad has further tied up with a third party company known as Tapchief to allow us to interact with top professionals in the industry. This is aimed at giving us guidance on how we can further our career in the field considering our educational qualification, past experiences, our expectation or goals, and age. They also help in guiding us in our final Capstone Project through video chats and main benefit of this is to guide us in terms of realistic approaches to the problem and providing business insights into the given problems.\\\n",
    " \\\n",
    "5. Biggest benefit: Networking!!! The biggest benefit I have received is being able to collaborate with so many other students who are industry professionals at different stages of the course. Numerous opportunities are given to interact with this diverse group of people such as working in groups on numerous case studies, meeting them at basecamps arranged by UpGrad and lot of us can meet up at campus library if you are from Bangalore.\\\n",
    " \\\n",
    "UpGrad is trying to tackle a concern or a problem which has been voiced by so many CEO’s of top IT organizations: EMPLOYABILITY. They do this by collaborating not just with an academic institute, but also bringing in industry experts to give us the right tools required in the market.\\\n",
    " \\\n",
    "I understand the course fees are on the upper side compared to many other online and offline courses offered, but I don’t personally believe there are many platforms which offer a holistic package such as the one’s UpGrad offered.\\\n",
    " \\\n",
    "I hope this review helps anyone wishing to pursue a course offered by UpGrad and I must say, taking up any of the courses is serious business and will require serious time and effort from the candidates.'\n"
   ]
  },
  {
   "cell_type": "markdown",
   "metadata": {},
   "source": [
    "#### Question 1.\n",
    "\n",
    "Which of the following commands will help you get the gist of the review?\n",
    "\n",
    "- detect_entities\n",
    "- detect_sentiment\n",
    "- detect_key_phrases\n",
    "- detect_syntax\n"
   ]
  },
  {
   "cell_type": "code",
   "execution_count": 3,
   "metadata": {},
   "outputs": [
    {
     "name": "stdout",
     "output_type": "stream",
     "text": [
      "Detected 165 key phrases in the review\n"
     ]
    }
   ],
   "source": [
    "# Provide your code here\n",
    "\n",
    "# From the boto3 documentation, Comprehend.Client.detect_key_phrases(**kwargs) -\n",
    "# >>>> Detects the key noun phrases found in the text.\n",
    "# So this would be the right command to get the key phrases or gist of the entire text\n",
    "\n",
    "review_key_phrases = client.detect_key_phrases(Text=review_text, LanguageCode='en')\n",
    "\n",
    "print('Detected', len(review_key_phrases['KeyPhrases']), 'key phrases in the review')\n"
   ]
  },
  {
   "cell_type": "markdown",
   "metadata": {},
   "source": [
    "#### Question 2.\n",
    "\n",
    "Which of the following companies is not listed in the review?\n",
    "\n",
    "- upGrad\n",
    "- Gramener\n",
    "- Flipkart\n",
    "- Ola\n"
   ]
  },
  {
   "cell_type": "code",
   "execution_count": 4,
   "metadata": {},
   "outputs": [
    {
     "name": "stdout",
     "output_type": "stream",
     "text": [
      "Set of allCompanies = {'IIIT Bangalore', 'Flipkart', 'Coursera', 'PGDDS', 'Tapchief', 'Gramener', 'Uber', 'UpGrad'}\n",
      "Company [ UpGrad ] IS listed in the review\n",
      "Company [ Gramener ] IS listed in the review\n",
      "Company [ Flipkart ] IS listed in the review\n",
      "Company [ Ola ] is NOT listed in the review\n"
     ]
    }
   ],
   "source": [
    "# Provide your code here\n",
    "\n",
    "# From the boto3 documentation, Comprehend.Client.detect_entities(**kwargs) -\n",
    "# >>>> Inspects text for named entities, and returns information about them\n",
    "# So this would be the right command to get the list of ORGANIZATIONs or companies listed in the review\n",
    "\n",
    "review_entities = client.detect_entities(Text=review_text, LanguageCode='en')\n",
    "\n",
    "# The named entities can now be parsed to detect the presence/absence of each option [UpGrad, Gramener, Flipkart, Ola]\n",
    "\n",
    "# Define an empty set to hold the company names\n",
    "allCompanies = set()\n",
    "\n",
    "# Parse each named entity and add to companies set if entity type is ORGANIZATION\n",
    "for dictEntity in review_entities['Entities']:\n",
    "    if (dictEntity['Type'] == 'ORGANIZATION'):\n",
    "        allCompanies.add(dictEntity['Text'])\n",
    "\n",
    "print('Set of allCompanies =', allCompanies)\n",
    "\n",
    "# Check presence/absence of each option [UpGrad, Gramener, Flipkart, Ola] in the companies set\n",
    "for company in ['UpGrad', 'Gramener', 'Flipkart', 'Ola']:\n",
    "    findResult = ('IS' if company in allCompanies else 'is NOT') \n",
    "    print('Company [', company, ']', findResult, 'listed in the review')\n"
   ]
  },
  {
   "cell_type": "markdown",
   "metadata": {},
   "source": [
    "#### Question 3.\n",
    "\n",
    "Based on the results from sentiment analysis using Amazon Comprehened, select the most appropriate option. \n",
    "\n",
    "- The student has a very positive opinion about the couse.\n",
    "- The student doesn't feel that the course is worth.\n",
    "- The student suggests that some elements are really good in the course, but some of them are very bad.\n",
    "- The student feels that the course is neither good nor bad.\n"
   ]
  },
  {
   "cell_type": "code",
   "execution_count": 5,
   "metadata": {},
   "outputs": [
    {
     "name": "stdout",
     "output_type": "stream",
     "text": [
      "The prevailing review sentiment is NEUTRAL\n"
     ]
    }
   ],
   "source": [
    "# Provide your code here\n",
    "\n",
    "# From the boto3 documentation, Comprehend.Client.detect_sentiment(**kwargs) -\n",
    "# >>>> Inspects text and returns an inference of the prevailing sentiment (POSITIVE , NEUTRAL , MIXED , or NEGATIVE ).\n",
    "# So this would be the right command to determine the most appropriate sentiment option\n",
    "\n",
    "review_sentiment = client.detect_sentiment(Text=review_text, LanguageCode='en')\n",
    "\n",
    "print('The prevailing review sentiment is', review_sentiment['Sentiment'])\n"
   ]
  },
  {
   "cell_type": "markdown",
   "metadata": {},
   "source": [
    "#### Question 4.\n",
    "\n",
    "Which key phrase in the most suitable one to describe the review? \n",
    "\n",
    "- Course\n",
    "- upGrad\n",
    "- Data Science\n",
    "- Education\n"
   ]
  },
  {
   "cell_type": "code",
   "execution_count": 6,
   "metadata": {},
   "outputs": [
    {
     "name": "stdout",
     "output_type": "stream",
     "text": [
      "With the maximum confidence score of [ 1.0 ], the most suitable key phrase is [ a course ]\n"
     ]
    }
   ],
   "source": [
    "# Provide your code here\n",
    "\n",
    "# Key phrase with the maximum confidence score can be considered as the most suitable one to describe the review\n",
    "\n",
    "# Define an empty dictionary\n",
    "dictPhrases = {}\n",
    "\n",
    "# Populate the dictionary with the key phrases text and confidence scores\n",
    "for phrase in review_key_phrases['KeyPhrases']:\n",
    "    dictPhrases[phrase['Score']] = phrase['Text']\n",
    "\n",
    "# Sort the dictionary by the confidence scores and retrieve the key phrase matching the maximum score\n",
    "max_score = sorted(dictPhrases, reverse=True)[0]\n",
    "top_key_phrase = dictPhrases[max_score]\n",
    "print('With the maximum confidence score of [', max_score, '], the most suitable key phrase is [', top_key_phrase, ']')\n"
   ]
  },
  {
   "cell_type": "code",
   "execution_count": null,
   "metadata": {},
   "outputs": [],
   "source": []
  }
 ],
 "metadata": {
  "kernelspec": {
   "display_name": "Python 3",
   "language": "python",
   "name": "python3"
  },
  "language_info": {
   "codemirror_mode": {
    "name": "ipython",
    "version": 3
   },
   "file_extension": ".py",
   "mimetype": "text/x-python",
   "name": "python",
   "nbconvert_exporter": "python",
   "pygments_lexer": "ipython3",
   "version": "3.7.9"
  }
 },
 "nbformat": 4,
 "nbformat_minor": 2
}
